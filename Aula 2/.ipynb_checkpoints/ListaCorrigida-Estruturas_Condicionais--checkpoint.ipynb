{
 "cells": [
  {
   "cell_type": "code",
   "execution_count": null,
   "id": "d43e3db7",
   "metadata": {},
   "outputs": [],
   "source": [
    "# 1. Faça um programa que peça a idade do usuário e imprima se ele é maior ou menor de 18 anos.\n",
    "\n"
   ]
  },
  {
   "cell_type": "code",
   "execution_count": 2,
   "id": "8e227269",
   "metadata": {},
   "outputs": [
    {
     "name": "stdout",
     "output_type": "stream",
     "text": [
      "Digite um numero: 0\n",
      "Negativo\n"
     ]
    }
   ],
   "source": [
    "# 2. Faça um programa que peça um número e mostre se ele é positivo ou negativo.\n",
    "\n",
    "numero = int(input('Digite um numero: '))\n",
    "\n",
    "if numero > 0 :\n",
    "    print('Positivo')\n",
    "elif numero == 0:\n",
    "    print('Nulo')\n",
    "else:\n",
    "    print('Negativo')"
   ]
  },
  {
   "cell_type": "code",
   "execution_count": 4,
   "id": "619aedef",
   "metadata": {},
   "outputs": [
    {
     "name": "stdout",
     "output_type": "stream",
     "text": [
      "Digite um numero: 5\n",
      "O numero é impar\n"
     ]
    }
   ],
   "source": [
    "# 3. Faça um programa que dado um número digitado, mostre se ele é Par ou Ímpar.\n",
    "\n",
    "numero = int(input('Digite um numero: '))\n",
    "\n",
    "if (numero % 2 == 0):\n",
    "    print('O numero é par')\n",
    "else:\n",
    "    print('O numero é impar')"
   ]
  },
  {
   "cell_type": "code",
   "execution_count": 7,
   "id": "1a17ca75",
   "metadata": {},
   "outputs": [
    {
     "name": "stdout",
     "output_type": "stream",
     "text": [
      "Digite um numero: 5\n",
      "Digite um outro numero: 5\n",
      "São iguais\n"
     ]
    }
   ],
   "source": [
    "# 4. Faça um programa que peça dois números e mostre o maior deles.\n",
    "\n",
    "numero_1 = int(input('Digite um numero: '))\n",
    "numero_2 = int(input('Digite um outro numero: '))\n",
    "\n",
    "if numero_1 > numero_2:\n",
    "    print('O numero ', numero_1, 'é maior')\n",
    "elif numero_2 > numero_1:\n",
    "    print('O numero', numero_2, 'é maior')\n",
    "else:\n",
    "    print('São iguais')"
   ]
  },
  {
   "cell_type": "code",
   "execution_count": null,
   "id": "fd421632",
   "metadata": {},
   "outputs": [],
   "source": [
    "# 5. Faça um programa que leia a validade das informações:\n",
    "#a.Idade: entre 0 e 150;\n",
    "\n",
    "    \n",
    "#b.Salario: maior que 0;\n",
    "\n",
    "\n",
    "\n",
    "#c.Sexo: M ou F;\n"
   ]
  },
  {
   "cell_type": "code",
   "execution_count": null,
   "id": "6dbe0529",
   "metadata": {},
   "outputs": [],
   "source": [
    "# 6. Escreva um programa que peça a nota de 3 provas de um aluno e verifique se ele passou ou não de ano.\n",
    "\n"
   ]
  },
  {
   "cell_type": "code",
   "execution_count": null,
   "id": "f65b1b07",
   "metadata": {},
   "outputs": [],
   "source": [
    "# 7. Faça um programa que mostre uma questão de múltipla escolha com 5 opções (letras a, b, c, d, e e).\n",
    "\n"
   ]
  },
  {
   "cell_type": "markdown",
   "id": "7de8d509",
   "metadata": {},
   "source": [
    "8. Vamos fazer um programa para verificar quem é o assassino de um crime. Para descobrir o assassino, a polícia faz um pequeno questionário com 5 perguntas onde a resposta só pode ser sim ou não:\n",
    "\n",
    "a. Mora perto da vítima?\n",
    "\n",
    "b. Já trabalhou com a vítima? \n",
    "\n",
    "c. Telefonou para a vítima?\n",
    "\n",
    "d. Esteve no local do crime?\n",
    "\n",
    "e. Devia para a vítima?\n",
    "\n",
    "Cada resposta sim dá um ponto para o suspeito. A polícia considera\n",
    "que os suspeitos com 5 pontos são os assassinos, com 4 a 3 pontos são\n",
    "cúmplices e 2 pontos são apenas suspeitos, necessitando outras\n",
    "investigações. Valores abaixo de 1 são liberados. \n",
    "\n",
    "\n"
   ]
  },
  {
   "cell_type": "code",
   "execution_count": null,
   "id": "3e30f76e",
   "metadata": {},
   "outputs": [],
   "source": []
  },
  {
   "cell_type": "markdown",
   "id": "410f7428",
   "metadata": {},
   "source": [
    " 9.  Um produto vai sofrer aumento de acordo com a Tabela 1 abaixo. Faça\n",
    "um programa que peça para o usuário digitar o valor do produto de\n",
    "acordo com o preço antigo e escreva uma das mensagens da Tabela\n",
    "2, de acordo com o preço reajustado: \n",
    "\n",
    "![tabela_1](https://s3-sa-east-1.amazonaws.com/lcpi/ea3f2097-6c1a-4560-a632-d96508e81d09.png)\n",
    "\n",
    "\n",
    "![tabela 2](https://s3-sa-east-1.amazonaws.com/lcpi/472a59db-16eb-4f65-a99a-df81a7dbed2f.png)\n",
    "\n",
    "\n",
    "\n",
    "Será que conseguimos escrever o problema acima de uma forma mais fácil?\n"
   ]
  },
  {
   "cell_type": "code",
   "execution_count": null,
   "id": "d77825ed",
   "metadata": {},
   "outputs": [],
   "source": [
    "# Desafio 1. Faça um programa que leia 3 números e informe o maior deles.\n",
    "\n"
   ]
  },
  {
   "cell_type": "code",
   "execution_count": null,
   "id": "98cc9237",
   "metadata": {},
   "outputs": [],
   "source": [
    "# Desafio 2. Faça o mesmo programa do exercício anterior, porém com 4 números.\n",
    "\n",
    "\n"
   ]
  },
  {
   "cell_type": "markdown",
   "id": "972b263a",
   "metadata": {},
   "source": [
    "Desafio 3. Um hospital quer fazer o diagnóstico de gripe ou dengue a partir de um questionário de sintomas, tendo as perguntas abaixo, faça um programa que faça o diagnóstico deste hospital:\n",
    "\n",
    "a. Sente dor no corpo?\n",
    "\n",
    "b. Você tem febre?\n",
    "\n",
    "c. Você tem tosse?\n",
    "\n",
    "d. Está com congestão nasal?\n",
    "\n",
    "e. Tem manchas pelo corpo?\n",
    "\n",
    "Para o diagnóstico ele tem a seguinte tabela:\n",
    "\n",
    "![Tabela Gripe](https://s3-sa-east-1.amazonaws.com/lcpi/efd600f9-f8fa-4d68-83d0-945d9e5496bb.png)\n"
   ]
  },
  {
   "cell_type": "code",
   "execution_count": null,
   "id": "f6cd2a4f",
   "metadata": {},
   "outputs": [],
   "source": []
  }
 ],
 "metadata": {
  "kernelspec": {
   "display_name": "Python 3 (ipykernel)",
   "language": "python",
   "name": "python3"
  },
  "language_info": {
   "codemirror_mode": {
    "name": "ipython",
    "version": 3
   },
   "file_extension": ".py",
   "mimetype": "text/x-python",
   "name": "python",
   "nbconvert_exporter": "python",
   "pygments_lexer": "ipython3",
   "version": "3.9.6"
  }
 },
 "nbformat": 4,
 "nbformat_minor": 5
}
