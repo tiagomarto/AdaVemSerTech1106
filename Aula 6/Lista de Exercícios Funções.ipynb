{
 "cells": [
  {
   "cell_type": "code",
   "execution_count": 1,
   "id": "3eff014d",
   "metadata": {},
   "outputs": [],
   "source": [
    "# 1. Faça uma função que recebe um número e imprime seu dobro.\n"
   ]
  },
  {
   "cell_type": "code",
   "execution_count": null,
   "id": "7db99b3d",
   "metadata": {},
   "outputs": [],
   "source": [
    "# 2. Faça uma função que recebe o valor do raio de um círculo e retorna o valor do comprimento de sua circunferência: C = 2*pi*r. \n",
    "\n"
   ]
  },
  {
   "cell_type": "code",
   "execution_count": null,
   "id": "6eff9502",
   "metadata": {},
   "outputs": [],
   "source": [
    "# 3. Faça uma função para cada operação matemática básica (soma, subtração, multiplicação e divisão). As funções devem receber dois números e retornar o resultado da operação.\n"
   ]
  },
  {
   "cell_type": "code",
   "execution_count": null,
   "id": "fc1b436f",
   "metadata": {},
   "outputs": [],
   "source": [
    "# 4. Faça uma função que recebe um nome e imprime “olá, [nome]”.\n"
   ]
  },
  {
   "cell_type": "code",
   "execution_count": null,
   "id": "25b932c5",
   "metadata": {},
   "outputs": [],
   "source": [
    "# 5. Faça uma função que recebe um nome e um horário e imprime “Bom dia, [nome]”, caso seja antes de 12h, “Boa Tarde, [nome]”, caso seja entre 12h e 18h e “Boa noite, [nome]” se for após às 18h.\n"
   ]
  },
  {
   "cell_type": "code",
   "execution_count": null,
   "id": "2ee3ab9b",
   "metadata": {},
   "outputs": [],
   "source": [
    "# 6. Faça uma função que recebe um número e retorne True se ele é par ou False, se não.\n"
   ]
  },
  {
   "cell_type": "code",
   "execution_count": null,
   "id": "a0517874",
   "metadata": {},
   "outputs": [],
   "source": [
    "# 7. Faça uma função que sorteie 10 números aleatórios entre 0 e 100 e retorne o maior entre eles.\n"
   ]
  },
  {
   "cell_type": "code",
   "execution_count": null,
   "id": "b4d6ef13",
   "metadata": {},
   "outputs": [],
   "source": [
    "# 8. Faça uma função que recebe um número n de entrada, sorteia n números aleatórios entre 0 e 100 e retorna a média deles.\n"
   ]
  },
  {
   "cell_type": "code",
   "execution_count": null,
   "id": "5cd48a56",
   "metadata": {},
   "outputs": [],
   "source": [
    "# 9. Faça uma função que recebe uma lista de palavras e retorna uma lista contendo as mesmas palavras da lista anterior, porém escritas em caixa alta.\n",
    "\n"
   ]
  },
  {
   "cell_type": "code",
   "execution_count": null,
   "id": "098f9bac",
   "metadata": {},
   "outputs": [],
   "source": [
    "# 10. Faça uma função que recebe duas listas e retorna a soma item a item dessas listas.\n"
   ]
  },
  {
   "cell_type": "code",
   "execution_count": null,
   "id": "1bb83afe",
   "metadata": {},
   "outputs": [],
   "source": [
    "# 11. Faça uma função que receba duas listas e retorne o produto item a item dessas listas.\n",
    "\n"
   ]
  },
  {
   "cell_type": "code",
   "execution_count": null,
   "id": "4ec21040",
   "metadata": {},
   "outputs": [],
   "source": [
    "# 12. Faça uma função que recebe um número x e uma lista numérica e retorna uma lista cujos elementos são os itens da lista de entrada multiplicado por x.\n",
    "\n"
   ]
  },
  {
   "cell_type": "code",
   "execution_count": null,
   "id": "02a8fb33",
   "metadata": {},
   "outputs": [],
   "source": [
    "# 13. Faça uma função que recebe uma lista de números e retorna a soma dos elementos dessa lista.\n"
   ]
  },
  {
   "cell_type": "code",
   "execution_count": null,
   "id": "be45d853",
   "metadata": {},
   "outputs": [],
   "source": [
    "# 14. Faça uma função que recebe uma lista de números e retorna a média aritmética dos elementos dessa lista.\n"
   ]
  },
  {
   "cell_type": "code",
   "execution_count": null,
   "id": "7f024d5c",
   "metadata": {},
   "outputs": [],
   "source": [
    "# Desafio 1. Faça uma função que receba um número e calcule seu fatorial.\n",
    "\n"
   ]
  },
  {
   "cell_type": "code",
   "execution_count": null,
   "id": "4961b41e",
   "metadata": {},
   "outputs": [],
   "source": [
    "# Desafio 2.  Faça uma função que recebe duas entradas: um input dado pelo usuário e um string que informa o tipo de dado (\"idade\", \"salário\" ou \"sexo\"), e verifica se os dados digitados foram válidos, usando os seguintes critérios:\n",
    "# a.  Idade: entre 0 e 150; \n",
    "# b.  Salário: maior que 0; \n",
    "# c.  Sexo: M, F ou Outro.\n",
    "\n"
   ]
  },
  {
   "cell_type": "markdown",
   "id": "9e818ffd",
   "metadata": {},
   "source": [
    "Desafio 3. A sequência Fibonacci é a sequência cujos dois primeiros termos são 1 e os demais são obtidos através da soma de seus dois antecessores, isso é:\n",
    "\n",
    "a. Fibonacci(1) = 1 e Fibonacci(2) = 2;\n",
    "\n",
    "b. dado qualquer número n >= 3, Fibonacci(n) = Fibonacci(n-1) +\n",
    "Fibonacci(n-2)\n",
    "\n",
    "Assim, os 10 primeiros termos da sequência Fibonacci são:\n",
    "\n",
    " 1, 1, 2, 3, 5, 8, 13, 21, 34, 55…\n",
    " \n",
    "Faça uma função que receba um número n e calcule o termo de\n",
    "número n da sequência Fibonacci. \n",
    "\n"
   ]
  },
  {
   "cell_type": "code",
   "execution_count": null,
   "id": "cc197093",
   "metadata": {},
   "outputs": [],
   "source": []
  },
  {
   "cell_type": "markdown",
   "id": "408dd652",
   "metadata": {},
   "source": [
    "Desafio 4. HEAVY METAL! - Faça um jogo de BlackJack usando funções: o BlackJack, ou Vinte e Um, é um jogo em que os jogadores podem comprar cartas livremente, enquanto tiverem menos de 21 pontos. No nosso jogo, o Ás vale um ponto; as cartas de 2 a 10 valem o número de pontos que elas representam; e Valete, Dama e Rei valem 10 pontos cada. Ganha o jogador que tiver o maior número de pontos, desde que este seja menor ou igual a 21. Nosso jogo deve ter as seguintes\n",
    "\n",
    "#### Funções:\n",
    "\n",
    "a. Função principal: a função que vamos chamar para iniciar o jogo. Essa função não irá receber nem retornar nenhuma variável. Ela deve perguntar o número de jogadores participantes e o nome de cada um. Em seguida ela chama as outras funções do jogo.\n",
    "\n",
    "b. Função para criar o baralho: essa função deve criar um baralho (uma lista) com as cartas do baralho. \n",
    "\n",
    "c. Função para a jogada: essa função deve receber o nome do\n",
    "jogador que irá realizar a jogada e, caso ele ainda esteja ativo\n",
    "(tenha menos de 21 pontos e ainda não tenha desistido de\n",
    "comprar cartas) deve perguntar se ele quer comprar uma carta.\n",
    "Se ele responder que sim, a função deve chamar a próxima\n",
    "função para sortear uma carta e somar o valor retornado na\n",
    "pontuação do jogador; se ele responder que não, a função deve\n",
    "desativar o jogador para que ele não possa mais comprar cartas;\n",
    "Essa função só deve ser chamada enquanto houver jogadores\n",
    "ativos.\n",
    "\n",
    "d. Função para o sorteio: essa função retira uma carta aleatória do\n",
    "baralho e retorna o número de pontos que essa carta vale.\n",
    "e. Função verificação: verifica e indica qual/quais\n",
    "\n",
    "jogador/jogadores tem o maior número de pontos, que seja\n",
    "menor ou igual a 21. \n"
   ]
  },
  {
   "cell_type": "code",
   "execution_count": null,
   "id": "d090f3be",
   "metadata": {},
   "outputs": [],
   "source": []
  },
  {
   "cell_type": "markdown",
   "id": "c62bdd22",
   "metadata": {},
   "source": [
    "Desafio 5. HEAVY METAL! Faça um sistema de cadastro de clientes. Modele cada cliente como uma lista de três elementos: nome, CPF e e-mail.\n",
    "\n",
    "a. Faça uma função que peça o nome, o CPF e o e-mail da pessoa e retorne uma lista contendo esses elementos nessa ordem.\n",
    "\n",
    "b. Os clientes cadastrados devem ser armazenados em uma lista (uma lista de listas, já que cada cliente será uma lista tal como produzido no item a).\n",
    "\n",
    "c. Faça uma função que recebe a lista do item b) e um CPF e, se esse cliente estiver na lista de cadastro, sua função deve devolver a lista de dados desse cliente; caso contrário, sua função deve imprimir “não encontrado”\n",
    "\n",
    "d. Enquanto não for digitado 0, o seu programa deve continuar rodando. Se digitado 0, seu programa deve cadastrar um novo cliente; se digitado 1, seu programa deve pedir um CPF e procurá-lo na lista de clientes (item c); se digitado 3, seu programa deve imprimir todos os clientes cadastrados. "
   ]
  },
  {
   "cell_type": "code",
   "execution_count": null,
   "id": "28dea336",
   "metadata": {},
   "outputs": [],
   "source": []
  }
 ],
 "metadata": {
  "kernelspec": {
   "display_name": "Python 3 (ipykernel)",
   "language": "python",
   "name": "python3"
  },
  "language_info": {
   "codemirror_mode": {
    "name": "ipython",
    "version": 3
   },
   "file_extension": ".py",
   "mimetype": "text/x-python",
   "name": "python",
   "nbconvert_exporter": "python",
   "pygments_lexer": "ipython3",
   "version": "3.9.6"
  }
 },
 "nbformat": 4,
 "nbformat_minor": 5
}
