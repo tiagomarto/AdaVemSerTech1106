{
 "cells": [
  {
   "cell_type": "markdown",
   "id": "660c14af",
   "metadata": {},
   "source": [
    "# Voltamos 20h15"
   ]
  },
  {
   "cell_type": "markdown",
   "id": "71173c22",
   "metadata": {},
   "source": [
    "Vamos aprender a programar em Python então precisamos entender o que é programar\n",
    "\n",
    "Programar é conseguir definir uma sequencia de passos bem definida para o computador seguir e realizar uma tarefa. Além disso, essa sequencia que definimos precisa ser comunicada ao computador usando um idioma que ele entenda."
   ]
  },
  {
   "cell_type": "markdown",
   "id": "f7b1ccde",
   "metadata": {},
   "source": [
    "## Variável\n",
    "\n",
    "Uma variavel é um par entre um rótulo e uma informação\n",
    "\n",
    "É um tipo de conteudo que muda de valor conforme o sistema é executado."
   ]
  },
  {
   "cell_type": "code",
   "execution_count": 1,
   "id": "eff0725d",
   "metadata": {},
   "outputs": [
    {
     "name": "stdout",
     "output_type": "stream",
     "text": [
      "6\n"
     ]
    }
   ],
   "source": [
    "numero = 6\n",
    "print(numero)"
   ]
  },
  {
   "cell_type": "markdown",
   "id": "e1ec4b5e",
   "metadata": {},
   "source": [
    "Variáveis tem um tipo de dado.\n",
    "\n",
    "É uma definição de o que posso ou não fazer com esse dado."
   ]
  },
  {
   "cell_type": "code",
   "execution_count": 5,
   "id": "66dfdb41",
   "metadata": {},
   "outputs": [],
   "source": [
    "## No python temos 4 tipos de dados básicos\n",
    "num_inteiro = 5 ## int Armazena um numero sem virgula\n",
    "num_real = 3.14 ## float Armazena um numero com virgula\n",
    "texto = 'Tiago' ## str Armazena um texto\n",
    "booleano = True ## bool Armazena um valor lógico (verdade ou mentira)"
   ]
  },
  {
   "cell_type": "code",
   "execution_count": null,
   "id": "828bc104",
   "metadata": {},
   "outputs": [],
   "source": []
  },
  {
   "cell_type": "markdown",
   "id": "5b05667c",
   "metadata": {},
   "source": [
    "O python é uma linguagem FRACAMENTE tipada"
   ]
  },
  {
   "cell_type": "code",
   "execution_count": 4,
   "id": "1cff6032",
   "metadata": {},
   "outputs": [
    {
     "name": "stdout",
     "output_type": "stream",
     "text": [
      "<class 'int'>\n",
      "<class 'str'>\n"
     ]
    }
   ],
   "source": [
    "num_inteiro = 5\n",
    "print(type(num_inteiro))\n",
    "num_inteiro = 'Olá mundo'\n",
    "print(type(num_inteiro))"
   ]
  },
  {
   "cell_type": "markdown",
   "id": "83a078ce",
   "metadata": {},
   "source": [
    "## Entradas"
   ]
  },
  {
   "cell_type": "code",
   "execution_count": 6,
   "id": "4f62f9da",
   "metadata": {},
   "outputs": [
    {
     "name": "stdout",
     "output_type": "stream",
     "text": [
      "Olá, meu nome é Tiago\n"
     ]
    }
   ],
   "source": [
    "## Podemos receber entradas de duas maneiras no codigo\n",
    "## A primeira maneira é colocar manualmente (hardcoded) a informação no código\n",
    "\n",
    "nome = 'Tiago'\n",
    "\n",
    "print('Olá, meu nome é', nome)"
   ]
  },
  {
   "cell_type": "code",
   "execution_count": 10,
   "id": "d6212cc7",
   "metadata": {},
   "outputs": [
    {
     "name": "stdout",
     "output_type": "stream",
     "text": [
      "Digite seu nome: Jonas\n"
     ]
    },
    {
     "data": {
      "text/plain": [
       "'Jonas'"
      ]
     },
     "execution_count": 10,
     "metadata": {},
     "output_type": "execute_result"
    }
   ],
   "source": [
    "## função input, serve para fazermos dados serem lidos pelo teclado\n",
    "input('Digite seu nome: ')\n"
   ]
  },
  {
   "cell_type": "code",
   "execution_count": 9,
   "id": "f5b06fc2",
   "metadata": {},
   "outputs": [
    {
     "name": "stdout",
     "output_type": "stream",
     "text": [
      "Insira sua idade: 26\n",
      "<class 'str'>\n"
     ]
    }
   ],
   "source": [
    "## A função input SEMPRE assume que tenho uma string.\n",
    "idade = input('Insira sua idade: ') ## quando eu igualo a função input a uma variavel o que eu\n",
    "## Estou fazendo é pedindo para a variavel guardar o resultado da função\n",
    "print(type(idade))"
   ]
  },
  {
   "cell_type": "code",
   "execution_count": 11,
   "id": "33f0d86f",
   "metadata": {},
   "outputs": [
    {
     "name": "stdout",
     "output_type": "stream",
     "text": [
      "Digite sua idade: 26\n",
      "<class 'int'>\n"
     ]
    }
   ],
   "source": [
    "## Como a função input sempre assume que eu tenho uma string, tenho que ser capaz de FORÇAR\n",
    "## O tipo de um dado. O nome 'tecnico' disso é COERÇAO DE TIPO\n",
    "\n",
    "idade = int(input('Digite sua idade: ')) ## Se coloco um tipo de variavel e abro parentesis\n",
    "## Forço o conteudo (no caso o resultado da função input) ao tipo que escrevi\n",
    "print(type(idade))"
   ]
  },
  {
   "cell_type": "code",
   "execution_count": null,
   "id": "149a272b",
   "metadata": {},
   "outputs": [],
   "source": [
    "num_de_andares = int(input('Digite o numero de andares (ESCREVA SO COM NUMEROS): '))"
   ]
  },
  {
   "cell_type": "markdown",
   "id": "2bb047e5",
   "metadata": {},
   "source": [
    "## Saídas"
   ]
  },
  {
   "cell_type": "code",
   "execution_count": 13,
   "id": "721472c3",
   "metadata": {},
   "outputs": [
    {
     "name": "stdout",
     "output_type": "stream",
     "text": [
      "O print imprime o que eu quiser na tela\n"
     ]
    }
   ],
   "source": [
    "## Para fazer saida mostramos algo na tela, para isso usamos a função print\n",
    "print('O print imprime o que eu quiser na tela')"
   ]
  },
  {
   "cell_type": "code",
   "execution_count": 14,
   "id": "c4a5d754",
   "metadata": {},
   "outputs": [
    {
     "name": "stdout",
     "output_type": "stream",
     "text": [
      "Aspas duplas ou aspas simples qual a melhor pratica?\n"
     ]
    }
   ],
   "source": [
    "print(\"Aspas duplas ou aspas simples qual a melhor pratica?\")"
   ]
  },
  {
   "cell_type": "code",
   "execution_count": 15,
   "id": "3d13f204",
   "metadata": {},
   "outputs": [
    {
     "name": "stdout",
     "output_type": "stream",
     "text": [
      "Tanto faz, não tem muito uma melhor pratica nesse caso\n"
     ]
    }
   ],
   "source": [
    "print(\"Tanto faz, não tem muito uma melhor pratica nesse caso\")"
   ]
  },
  {
   "cell_type": "code",
   "execution_count": 17,
   "id": "c6961dc8",
   "metadata": {},
   "outputs": [
    {
     "name": "stdout",
     "output_type": "stream",
     "text": [
      "let's go\n"
     ]
    }
   ],
   "source": [
    "print('let\\'s go') ## Posso colocar uma barra na frente para forçar a aspas a ser uma aspas"
   ]
  },
  {
   "cell_type": "code",
   "execution_count": 18,
   "id": "6d976c47",
   "metadata": {},
   "outputs": [
    {
     "name": "stdout",
     "output_type": "stream",
     "text": [
      "como estava em Hamlet \"Ser ou nao ser\"\n"
     ]
    }
   ],
   "source": [
    "print(\"como estava em Hamlet \\\"Ser ou nao ser\\\"\")"
   ]
  },
  {
   "cell_type": "code",
   "execution_count": 19,
   "id": "6d331f19",
   "metadata": {},
   "outputs": [
    {
     "name": "stdout",
     "output_type": "stream",
     "text": [
      "aaaaa\n",
      "bbbbbb\n"
     ]
    }
   ],
   "source": [
    "print('aaaaa\\nbbbbbb') ## O \\n funciona como 'pule uma linha'"
   ]
  },
  {
   "cell_type": "code",
   "execution_count": 20,
   "id": "71427654",
   "metadata": {},
   "outputs": [
    {
     "name": "stdout",
     "output_type": "stream",
     "text": [
      "Olá, eu sou Tiago e tenho 26 anos\n"
     ]
    }
   ],
   "source": [
    "nome = 'Tiago'\n",
    "idade = 26\n",
    "print('Olá, eu sou', nome, 'e tenho', idade, 'anos')"
   ]
  },
  {
   "cell_type": "code",
   "execution_count": 21,
   "id": "ff981c72",
   "metadata": {},
   "outputs": [
    {
     "name": "stdout",
     "output_type": "stream",
     "text": [
      "Olá, eu sou Tiago, e tenho 26 anos\n"
     ]
    }
   ],
   "source": [
    "print(f'Olá, eu sou {nome}, e tenho {idade} anos')"
   ]
  },
  {
   "cell_type": "markdown",
   "id": "e3e94101",
   "metadata": {},
   "source": [
    "## Operadores algebricos"
   ]
  },
  {
   "cell_type": "markdown",
   "id": "ebd734eb",
   "metadata": {},
   "source": [
    "São operadores que realizam calculos matematicos"
   ]
  },
  {
   "cell_type": "markdown",
   "id": "55429a93",
   "metadata": {},
   "source": [
    "**Operadores Aritméticos**\n",
    "\n",
    "|     Operador    |     Nome                 |     Função                                                                       |\n",
    "|-----------------|--------------------------|----------------------------------------------------------------------------------|\n",
    "|     +           |     Adição               |     Realiza   a soma de ambos operandos.                                         |\n",
    "|     -           |     Subtração            |     Realiza   a subtração de ambos operandos.                                    |\n",
    "|     *           |     Multiplicação        |     Realiza   a multiplicação de ambos operandos.                                |\n",
    "|     /           |     Divisão              |     Realiza   a Divisão de ambos operandos.                                      |\n",
    "|     //          |     Divisão   inteira    |     Realiza   a divisão entre operandos e a parte decimal de ambos operandos.    |\n",
    "|     %           |     Módulo               |     Retorna   o resto da divisão de ambos operandos.                             |\n",
    "|     **          |     Exponenciação        |     Retorna   o resultado da elevação da potência pelo outro.                    |"
   ]
  },
  {
   "cell_type": "code",
   "execution_count": 23,
   "id": "e380c37a",
   "metadata": {
    "scrolled": true
   },
   "outputs": [
    {
     "name": "stdout",
     "output_type": "stream",
     "text": [
      "soma 5\n",
      "sub -1\n",
      "mult 6\n",
      "divisao 0.6666666666666666\n",
      "divisao inteira 0\n",
      "modulo 2\n",
      "exponencial 8\n"
     ]
    }
   ],
   "source": [
    "soma = 2 + 3\n",
    "sub = 2 - 3\n",
    "mult = 2 * 3\n",
    "divisao = 2 / 3\n",
    "divisao_inteira = 2 // 3\n",
    "modulo = 2 % 3\n",
    "exponencial = 2 ** 3\n",
    "\n",
    "print(f'soma {soma}')\n",
    "print(f'sub {sub}')\n",
    "print(f'mult {mult}')\n",
    "print(f'divisao {divisao}')\n",
    "print(f'divisao inteira {divisao_inteira}')\n",
    "print(f'modulo {modulo}')\n",
    "print(f'exponencial {exponencial}')"
   ]
  }
 ],
 "metadata": {
  "kernelspec": {
   "display_name": "Python 3 (ipykernel)",
   "language": "python",
   "name": "python3"
  },
  "language_info": {
   "codemirror_mode": {
    "name": "ipython",
    "version": 3
   },
   "file_extension": ".py",
   "mimetype": "text/x-python",
   "name": "python",
   "nbconvert_exporter": "python",
   "pygments_lexer": "ipython3",
   "version": "3.9.6"
  }
 },
 "nbformat": 4,
 "nbformat_minor": 5
}
