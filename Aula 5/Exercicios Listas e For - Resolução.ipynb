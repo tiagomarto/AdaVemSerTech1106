{
 "cells": [
  {
   "cell_type": "code",
   "execution_count": 1,
   "id": "3d9f8cc5",
   "metadata": {},
   "outputs": [
    {
     "name": "stdout",
     "output_type": "stream",
     "text": [
      "1\n",
      "2\n",
      "3\n",
      "4\n"
     ]
    }
   ],
   "source": [
    "# 1. Crie uma lista qualquer e faça um programa que imprima cada elemento da lista usando o for.\n",
    "lista = [1,2,3,4]\n",
    "for elemento in lista:\n",
    "    print(elemento)"
   ]
  },
  {
   "cell_type": "code",
   "execution_count": 2,
   "id": "9ef88e55",
   "metadata": {},
   "outputs": [
    {
     "name": "stdout",
     "output_type": "stream",
     "text": [
      "1\n",
      "2\n",
      "3\n",
      "4\n"
     ]
    }
   ],
   "source": [
    "# 2. Faça um programa que imprima todos os itens de uma lista usando while e compare com o exercício 1.\n",
    "lista = [1,2,3,4]\n",
    "i = 0\n",
    "while i < len(lista):\n",
    "    print(lista[i])\n",
    "    i = i + 1"
   ]
  },
  {
   "cell_type": "code",
   "execution_count": 3,
   "id": "bdf979c5",
   "metadata": {},
   "outputs": [
    {
     "name": "stdout",
     "output_type": "stream",
     "text": [
      "Digite um número: 1\n",
      "[0]\n"
     ]
    }
   ],
   "source": [
    "# 3. Faça um programa que peça para o usuário digitar um número n e imprima uma lista com todos os números de 0 a n-1.\n",
    "n = int(input(\"Digite um número: \"))\n",
    "lista = []\n",
    "for i in range(n):\n",
    "    lista.append(i)\n",
    "print(lista)\n"
   ]
  },
  {
   "cell_type": "code",
   "execution_count": null,
   "id": "84fe3068",
   "metadata": {},
   "outputs": [],
   "source": [
    "# 4. Faça um programa que olhe todos os itens de uma lista e diga quantos deles são pares. \n",
    "\n",
    "lista = [1, 4, -8, 12, 3, -5, 2, -14, 6]\n",
    "pares = 0\n",
    "for elemento in lista:\n",
    "    if elemento % 2 == 0:\n",
    "        pares = pares 1\n",
    "print(\"Na lista existem\", pares, \"números pares.\")"
   ]
  },
  {
   "cell_type": "code",
   "execution_count": null,
   "id": "c2f114db",
   "metadata": {},
   "outputs": [],
   "source": [
    "# 5. Faça um programa que imprima o maior número de uma lista, sem usar o método max().\n",
    "\n",
    "lista = [1, 4, -8, 12, 3, -5, 2, -14, 6]\n",
    "maior = lista[0]\n",
    "for elemento in lista:\n",
    "    if elemento > maior:\n",
    "        maior = elemento\n",
    "print(\"O maior elemento da lista é\", maior)"
   ]
  },
  {
   "cell_type": "code",
   "execution_count": null,
   "id": "bec80550",
   "metadata": {},
   "outputs": [],
   "source": [
    "# 6. Agora usando o método max() faça um programa que imprima os três maiores números de uma lista. \n",
    "\n",
    "lista = [1, 4, -8, 12, 3, -5, 2, -14, 6]\n",
    "for i in range(3):\n",
    "    maior_numero = max(lista)\n",
    "    print(maior_numero)\n",
    "    lista.remove(maior_numero)"
   ]
  },
  {
   "cell_type": "code",
   "execution_count": null,
   "id": "e58d2bae",
   "metadata": {},
   "outputs": [],
   "source": [
    "# 7. Faça um programa que, dadas duas listas de mesmo tamanho, crie uma nova lista com cada elemento igual a soma dos elementos da lista 1 com os da lista 2, na mesma posição. \n",
    "\n",
    "lista1 = [1,4,5]\n",
    "lista2 = [2,2,3]\n",
    "lista3 = []\n",
    "if len(lista1) != len(lista2):\n",
    "    print(\"As listas tem tamanhos diferentes!\")\n",
    "else:\n",
    "    for i in range(len(lista1)):\n",
    "        valor = lista1[i] + lista2[i]\n",
    "        lista3.append(valor)\n",
    "    print(lista3)\n",
    "\n"
   ]
  },
  {
   "cell_type": "code",
   "execution_count": null,
   "id": "b182c2af",
   "metadata": {},
   "outputs": [],
   "source": [
    "# 8. Faça um programa que dadas duas listas de mesmo tamanho, imprima o produto escalar entre elas. \n",
    "lista1 = [1,4,5]\n",
    "lista2 = [2,2,3]\n",
    "soma = 0\n",
    "for i in range(len(lista1)):\n",
    "    soma = soma + lista1[i]*lista2[i]\n",
    "print(soma)"
   ]
  },
  {
   "cell_type": "code",
   "execution_count": null,
   "id": "931a75f9",
   "metadata": {},
   "outputs": [],
   "source": [
    "# 9. Faça um programa que pede para o usuário digitar 5 números e, ao final, imprime uma lista com os 5 números digitados pelo usuário (sem converter os números para int ou float). \n",
    "\n",
    "lista = []\n",
    "for i in range(5):\n",
    "    num = input(\"Digite um número: \")\n",
    "    lista.append(num)\n",
    "print(lista)"
   ]
  },
  {
   "cell_type": "code",
   "execution_count": null,
   "id": "e7cb56b9",
   "metadata": {},
   "outputs": [],
   "source": [
    "# 10. Pegue a lista gerada no exercício anterior e transforme cada um dos itens dessa lista em um float.\n",
    "for i in range(len(lista)):\n",
    "    lista[i] = float(lista[i])\n",
    "\n",
    "\n",
    "print(lista)"
   ]
  },
  {
   "cell_type": "code",
   "execution_count": 15,
   "id": "2427237b",
   "metadata": {},
   "outputs": [
    {
     "name": "stdout",
     "output_type": "stream",
     "text": [
      "Lista completa: [93, 50, 85, 60, 49, 12, 36, 94, 65, 56]\n",
      "4 primeiros números:\n",
      "93\n",
      "50\n",
      "85\n",
      "60\n",
      "5 últimos números:\n",
      "12\n",
      "36\n",
      "94\n",
      "65\n",
      "56\n",
      "Posições pares:\n",
      "93\n",
      "85\n",
      "49\n",
      "36\n",
      "65\n",
      "Posições ímpares:\n",
      "50\n",
      "60\n",
      "12\n",
      "94\n",
      "56\n",
      "Lista invertida:\n",
      "56\n",
      "65\n",
      "94\n",
      "36\n",
      "12\n",
      "49\n",
      "60\n",
      "85\n",
      "50\n",
      "93\n",
      "Lista invertida dos 5 primeiros:\n",
      "49\n",
      "60\n",
      "85\n",
      "50\n",
      "93\n",
      "Lista invertida dos 5 ultimos:\n",
      "56\n",
      "65\n",
      "94\n",
      "36\n",
      "12\n"
     ]
    }
   ],
   "source": [
    "import random\n",
    "\n",
    "numeros = []\n",
    "for i in range(10):\n",
    "    numero_sorteado = random.randint(0, 100)\n",
    "    numeros.append(numero_sorteado)\n",
    "\n",
    "print(\"Lista completa:\", numeros)\n",
    "\n",
    "# a.  uma lista com os 4 primeiros números;\n",
    "print(\"4 primeiros números:\")\n",
    "for i in range(0, 4):\n",
    "    print(numeros[i])\n",
    "\n",
    "# b.  uma lista com os 5 últimos números;\n",
    "print(\"5 últimos números:\")\n",
    "for i in range(5, 10):\n",
    "    print(numeros[i])\n",
    "\n",
    "# c.  uma lista contendo apenas os elementos das posições pares;\n",
    "print(\"Posições pares:\")\n",
    "for i in range(0, 10):\n",
    "    if i % 2 == 0:\n",
    "        print(numeros[i])\n",
    "\n",
    "# d.  uma lista contendo apenas os elementos das posições ímpares;\n",
    "print(\"Posições ímpares:\")\n",
    "for i in range(0, 10):\n",
    "    if i % 2 != 0:\n",
    "        print(numeros[i])\n",
    "\n",
    "# e.  a lista inversa da lista sorteada (isto é, uma lista que começa com o último elemento da lista sorteada e termina com o primeiro);\n",
    "print(\"Lista invertida:\")\n",
    "contador = -1\n",
    "while contador > -11:\n",
    "    print(numeros[contador])\n",
    "    contador = contador - 1\n",
    "\n",
    "# f.  uma lista inversa dos 5 primeiros números;\n",
    "print(\"Lista invertida dos 5 primeiros:\")\n",
    "contador = -6\n",
    "while contador > - 11:\n",
    "    print(numeros[contador])\n",
    "    contador = contador - 1\n",
    "\n",
    "# g.  uma lista inversa dos 5 últimos números.\n",
    "print(\"Lista invertida dos 5 ultimos:\")\n",
    "contador = -1\n",
    "while contador > - 6:\n",
    "    print(numeros[contador])\n",
    "    contador = contador - 1"
   ]
  },
  {
   "cell_type": "code",
   "execution_count": 10,
   "id": "53148d3c",
   "metadata": {},
   "outputs": [
    {
     "data": {
      "text/plain": [
       "17"
      ]
     },
     "execution_count": 10,
     "metadata": {},
     "output_type": "execute_result"
    }
   ],
   "source": [
    "numeros[-10]"
   ]
  },
  {
   "cell_type": "code",
   "execution_count": null,
   "id": "732e28c4",
   "metadata": {},
   "outputs": [],
   "source": [
    "## jeito alternativo\n",
    "import random\n",
    "\n",
    "numeros = []\n",
    "for i in range(10):\n",
    "    numero_sorteado = random.randint(0, 100)\n",
    "    numeros.append(numero_sorteado)\n",
    "\n",
    "print(\"Lista completa:\", numeros)\n",
    "\n",
    "# a.  uma lista com os 4 primeiros números;\n",
    "print(\"4 primeiros números:\", numeros[:4])\n",
    "\n",
    "# b.  uma lista com os 5 últimos números;\n",
    "print(\"5 últimos números:\", numeros[-5:])\n",
    "\n",
    "# c.  uma lista contendo apenas os elementos das posições pares;\n",
    "print(\"Posições pares:\", numeros[::2])\n",
    "\n",
    "# d.  uma lista contendo apenas os elementos das posições ímpares;\n",
    "print(\"Posições ímpares:\", numeros[1::2])\n",
    "\n",
    "# e.  a lista inversa da lista sorteada (isto é, uma lista que começa com o último elemento da lista sorteada e termina com o primeiro);\n",
    "print(\"Lista invertida:\", numeros[::-1])\n",
    "\n",
    "# f.  uma lista inversa dos 5 primeiros números;\n",
    "print(\"Lista invertida dos 5 primeiros:\", numeros[4::-1])\n",
    "\n",
    "# g.  uma lista inversa dos 5 últimos números.\n",
    "print(\"Lista invertida dos 5 ultimos:\", numeros[:-6:-1])"
   ]
  },
  {
   "cell_type": "code",
   "execution_count": null,
   "id": "b47d5c1d",
   "metadata": {},
   "outputs": [],
   "source": [
    "import random\n",
    "\n",
    "numeros = []\n",
    "for i in range(10):\n",
    "    numero_sorteado = random.randint(0, 100)\n",
    "    numeros.append(numero_sorteado)\n",
    "    \n",
    "maior_que_50 = 0\n",
    "for n in numeros:\n",
    "    if n > 50:\n",
    "        maior_que_50 += 1\n",
    "print(\"números > 50 =\", maior_que_50)"
   ]
  },
  {
   "cell_type": "code",
   "execution_count": 5,
   "id": "5a2486a7",
   "metadata": {},
   "outputs": [
    {
     "name": "stdout",
     "output_type": "stream",
     "text": [
      "87\n",
      "3\n",
      "46.9\n",
      "469\n"
     ]
    }
   ],
   "source": [
    "numeros = []\n",
    "for i in range(10):\n",
    "    numero_sorteado = random.randint(0, 100)\n",
    "    numeros.append(numero_sorteado)\n",
    "\n",
    "# a.  o maior número sorteado;\n",
    "print(max(numeros))\n",
    "\n",
    "# b.  o menor número sorteado;\n",
    "print(min(numeros))\n",
    "\n",
    "# c.  a média dos números sorteados;\n",
    "print(sum(numeros)/len(numeros))\n",
    "\n",
    "# d.  a soma dos números sorteados.\n",
    "print(sum(numeros))"
   ]
  },
  {
   "cell_type": "code",
   "execution_count": null,
   "id": "ab2eea2d",
   "metadata": {},
   "outputs": [],
   "source": [
    "#Desafio 1. Faça um programa que peça para o usuário digitar o nome e a idade de um aluno e o número de provas que esse aluno fez. Depois, o programa deve pedir para o usuário digitar as notas de cada prova do aluno. Ao final o programa deve imprimir uma lista contendo:\n",
    "# a.  Nome do aluno na posição 0\n",
    "# b.  Idade do aluno na posição 1\n",
    "# c.  Uma lista com todas as notas na posição 2 \n",
    "# d.  A média do aluno na posição 3\n",
    "# e.  True ou False, caso a média seja maior que 5 ou não, na posição 4\n",
    "\n",
    "nome = input(\"Qual o nome do aluno? \")\n",
    "idade = int(input(\"Qual a idade do aluno? \"))\n",
    "no_provas = int(input(\"Quantas provas o aluno fez? \"))\n",
    "notas = []\n",
    "for i in range(no_provas):\n",
    "    nota = float(input(\"Digite uma nota de prova: \"))\n",
    "    notas.append(nota)\n",
    "media = sum(notas)/len(notas)\n",
    "aprovado = (media >= 5)\n",
    "lista = [nome, idade, notas, media, aprovado]\n",
    "print(lista)"
   ]
  },
  {
   "cell_type": "code",
   "execution_count": null,
   "id": "f9bc1ba4",
   "metadata": {},
   "outputs": [],
   "source": [
    "# Desafio 2. Faça um programa como o do item anterior, porém que imprima a média sem considerar a maior e menor nota do aluno (nesse caso o número de provas precisa ser obrigatoriamente maior que dois).\n",
    "\n",
    "nome = input(\"Qual o nome do aluno? \")\n",
    "idade = int(input(\"Qual a idade do aluno? \"))\n",
    "no_provas = int(input(\"Quantas provas o aluno fez? \"))\n",
    "notas = []\n",
    "for i in range(no_provas):\n",
    "    nota = float(input(\"Digite uma nota de prova: \"))\n",
    "    notas.append(nota)\n",
    "notas2 = notas[:]  # Cópia da lista original para ser destruída\n",
    "notas2.remove(max(notas2))\n",
    "notas2.remove(min(notas2))\n",
    "media = sum(notas2)/len(notas2)\n",
    "aprovado = (media >= 5)\n",
    "lista = [nome, idade, notas, media, aprovado]\n",
    "print(lista)"
   ]
  },
  {
   "cell_type": "code",
   "execution_count": null,
   "id": "4ba481e9",
   "metadata": {},
   "outputs": [],
   "source": [
    "# Desafio 3. Faça um programa que pede para o usuário digitar o CPF e verifica se ele é válido. \n",
    "\n",
    "CPF = list(input(\"Digite o seu CPF(apenas dígitos): \"))  # Convertemos para uma lista de dígitos\n",
    "for i in range(len(CPF)):\n",
    "    CPF[i] = int(CPF[i])  # Convertemos a lista para inteiros\n",
    "print(CPF)\n",
    "\n",
    "soma = 0\n",
    "\n",
    "for i in range(9):\n",
    "    soma = soma + CPF[i]*(10-i)\n",
    "\n",
    "if soma*10 % 11 == CPF[9]:\n",
    "    soma = 0\n",
    "    for i in range(10):\n",
    "        soma = soma + CPF[i] * (11 - i)\n",
    "    if soma*10 % 11 == CPF[10]:\n",
    "        print(\"CPF Válido\")\n",
    "    else:\n",
    "        print(\"CPF Inválido\")\n",
    "else:\n",
    "    print(\"CPF Inválido\")\n"
   ]
  }
 ],
 "metadata": {
  "kernelspec": {
   "display_name": "Python 3 (ipykernel)",
   "language": "python",
   "name": "python3"
  },
  "language_info": {
   "codemirror_mode": {
    "name": "ipython",
    "version": 3
   },
   "file_extension": ".py",
   "mimetype": "text/x-python",
   "name": "python",
   "nbconvert_exporter": "python",
   "pygments_lexer": "ipython3",
   "version": "3.9.6"
  }
 },
 "nbformat": 4,
 "nbformat_minor": 5
}
