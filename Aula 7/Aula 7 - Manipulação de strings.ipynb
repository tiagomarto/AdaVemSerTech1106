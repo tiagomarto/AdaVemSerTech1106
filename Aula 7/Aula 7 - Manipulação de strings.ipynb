{
 "cells": [
  {
   "cell_type": "markdown",
   "id": "7536a61d",
   "metadata": {},
   "source": [
    "## Exercícios da aula passada"
   ]
  },
  {
   "cell_type": "markdown",
   "id": "e1aa0a25",
   "metadata": {},
   "source": [
    "## Manipulação de strings"
   ]
  },
  {
   "cell_type": "markdown",
   "id": "5f900f67",
   "metadata": {},
   "source": [
    "\n",
    "Podemos acessar individualmente cada caractere em uma frase.\n",
    "A ideia é a mesma de acessar uma lista:"
   ]
  },
  {
   "cell_type": "code",
   "execution_count": null,
   "id": "4c455f36",
   "metadata": {},
   "outputs": [],
   "source": []
  },
  {
   "cell_type": "markdown",
   "id": "21ea587b",
   "metadata": {},
   "source": [
    "Os loops que usamos para listas funcionam aqui também:\n"
   ]
  },
  {
   "cell_type": "code",
   "execution_count": null,
   "id": "4f1c8ba0",
   "metadata": {},
   "outputs": [],
   "source": []
  },
  {
   "cell_type": "markdown",
   "id": "1d0995c8",
   "metadata": {},
   "source": [
    "Porém, strings são imutáveis: não podemos alterar caracteres individuais\n",
    "\n",
    "A linha abaixo, dará erro no programa:\n",
    "\n",
    "frase[4] = 'C'\n"
   ]
  },
  {
   "cell_type": "code",
   "execution_count": null,
   "id": "1675eb2c",
   "metadata": {},
   "outputs": [],
   "source": [
    "\n"
   ]
  },
  {
   "cell_type": "markdown",
   "id": "8752b0b2",
   "metadata": {},
   "source": [
    "Podemos converter strings para listas:\n"
   ]
  },
  {
   "cell_type": "code",
   "execution_count": null,
   "id": "da626771",
   "metadata": {},
   "outputs": [],
   "source": []
  },
  {
   "cell_type": "markdown",
   "id": "e9c6748a",
   "metadata": {},
   "source": [
    "função join() intercala cada elemento de uma lista com uma string."
   ]
  },
  {
   "cell_type": "code",
   "execution_count": null,
   "id": "57abc0e2",
   "metadata": {},
   "outputs": [],
   "source": []
  },
  {
   "cell_type": "markdown",
   "id": "a9240558",
   "metadata": {},
   "source": [
    "Usar um join() com uma string vazia é útil para transformar a lista de volta em string:"
   ]
  },
  {
   "cell_type": "code",
   "execution_count": null,
   "id": "67842be1",
   "metadata": {},
   "outputs": [],
   "source": []
  },
  {
   "cell_type": "markdown",
   "id": "82e333e3",
   "metadata": {},
   "source": [
    "Funções interessantes que retornam a string alterada"
   ]
  },
  {
   "cell_type": "code",
   "execution_count": null,
   "id": "fb2f6188",
   "metadata": {},
   "outputs": [],
   "source": []
  },
  {
   "cell_type": "markdown",
   "id": "991e7093",
   "metadata": {},
   "source": [
    "A função Replace susbtitui a primeira substring pela segunda"
   ]
  },
  {
   "cell_type": "code",
   "execution_count": null,
   "id": "e98be5b0",
   "metadata": {},
   "outputs": [],
   "source": []
  },
  {
   "cell_type": "markdown",
   "id": "e0f8db31",
   "metadata": {},
   "source": [
    "Note que NENHUMA delas ALTERA a string original, elas sempre retornam\n",
    "a string nova."
   ]
  },
  {
   "cell_type": "code",
   "execution_count": null,
   "id": "fcd8e34f",
   "metadata": {},
   "outputs": [],
   "source": []
  },
  {
   "cell_type": "markdown",
   "id": "f0692147",
   "metadata": {},
   "source": [
    "Opcões de formatação"
   ]
  },
  {
   "cell_type": "code",
   "execution_count": null,
   "id": "553a945a",
   "metadata": {},
   "outputs": [],
   "source": []
  }
 ],
 "metadata": {
  "kernelspec": {
   "display_name": "Python 3 (ipykernel)",
   "language": "python",
   "name": "python3"
  },
  "language_info": {
   "codemirror_mode": {
    "name": "ipython",
    "version": 3
   },
   "file_extension": ".py",
   "mimetype": "text/x-python",
   "name": "python",
   "nbconvert_exporter": "python",
   "pygments_lexer": "ipython3",
   "version": "3.9.6"
  }
 },
 "nbformat": 4,
 "nbformat_minor": 5
}
