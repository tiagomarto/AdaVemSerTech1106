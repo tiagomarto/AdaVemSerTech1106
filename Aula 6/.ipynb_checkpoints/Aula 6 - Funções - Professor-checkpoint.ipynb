{
 "cells": [
  {
   "cell_type": "markdown",
   "id": "5417c7c2",
   "metadata": {},
   "source": [
    "## Exercícios da aula passada:"
   ]
  },
  {
   "cell_type": "code",
   "execution_count": null,
   "id": "57e84c3a",
   "metadata": {},
   "outputs": [],
   "source": [
    "'''\n",
    "Desafio HEAVY METAL.\n",
    "\n",
    "Faça um programa que pede para o usuário digitar o CPF e verifica se\n",
    "ele é válido. Para isso, primeiramente o programa deve multiplicar\n",
    "cada um dos 9 primeiros dígitos do CPF pelos números de 10 a 2 e\n",
    "somar todas as respostas. O resultado deve ser multiplicado por 10 e\n",
    "dividido por 11. O resto dessa divisão deve ser igual ao primeiro dígito\n",
    "verificador (10º dígito). Em seguida, o programa deve multiplicar cada \n",
    "um dos 10 primeiros dígitos do CPF pelos números de 11 a 2 e repetir\n",
    "o procedimento anterior para verificar o segundo dígito verificador.\n",
    "\n",
    "Exemplo:\n",
    "Se o CPF for 286.255.878-87 o programa deve fazer primeiro:\n",
    " x = (2*10 + 8*9 + 6*8 + 2*7 + 5*6 + 5*5 + 8*4 + 7*3 + 8*2).\n",
    "Em seguida o programa deve testar se x*10%11 == 8 (o décimo número\n",
    "do CPF).\n",
    "\n",
    "Se sim, o programa deve calcular\n",
    " x = (2*11 + 8*10 + 6*9 + 2*8 + 5*7 + 5*6 + 8*5 + 7*4 + 8*3 + 8*2)\n",
    "e verificar se x*10%11 == 7 (o décimo primeiro número do CPF)\n",
    "'''"
   ]
  },
  {
   "cell_type": "code",
   "execution_count": 13,
   "id": "46b9373d",
   "metadata": {},
   "outputs": [
    {
     "name": "stdout",
     "output_type": "stream",
     "text": [
      "Digite o CPF sem pontos e sem traços: 222222222222\n",
      "[2, 2, 2, 2, 2, 2, 2, 2, 2, 2, 2, 2]\n",
      "O CPF 222222222222 é um CPF válido\n"
     ]
    }
   ],
   "source": [
    "## 286.255.878-87\n",
    "cpf = input('Digite o CPF sem pontos e sem traços: ')\n",
    "lista_cpf = list(cpf)\n",
    "\n",
    "for i in range(len(lista_cpf)):\n",
    "    lista_cpf[i] = int(lista_cpf[i])\n",
    "print(lista_cpf)\n",
    "\n",
    "verificadorI = 0\n",
    "verificadorII = 0\n",
    "fatorI = 10\n",
    "fatorII = 11\n",
    "DECIMO_DIGITO = int(lista_cpf[9])\n",
    "DECIMO_PRIMEIRO_DIGITO = int(lista_cpf[10])\n",
    "\n",
    "for digito in lista_cpf[:9]:\n",
    "    verificadorI = verificadorI + int(digito) * fatorI\n",
    "    fatorI = fatorI - 1\n",
    "verificadorI = (verificadorI * 10) % 11\n",
    "\n",
    "for digito in lista_cpf[:10]:\n",
    "    verificadorII = verificadorII + int(digito) * fatorII\n",
    "    fatorII = fatorII - 1\n",
    "verificadorII = (verificadorII * 10) % 11\n",
    "\n",
    "if (verificadorI == DECIMO_DIGITO) and (verificadorII == DECIMO_PRIMEIRO_DIGITO):\n",
    "    print(f'O CPF {cpf} é um CPF válido')\n",
    "else:\n",
    "    print(f'O CPF {cpf} é um CPF invválido. Favor verificar!')\n"
   ]
  },
  {
   "cell_type": "markdown",
   "id": "a4de2858",
   "metadata": {},
   "source": [
    "## Funções"
   ]
  },
  {
   "cell_type": "markdown",
   "id": "a653faf6",
   "metadata": {},
   "source": [
    "Imagine você que toda vez que quisermos validar um CPF temos que copiar e colar todo esse montão de código. Ainda que seja possível, não é muito funcional. Para resolver esse problema. Surgem as funções!\n",
    "\n",
    "Funções são uma espécie de \"subprograma\".\n",
    "Elas são como pequenos pedacinhos de programa que podem ser chamadas pelo nome.\n",
    "\n",
    "Para criar uma função usamos o comando \"def\" e o nome da função.\n",
    "\n",
    "Elas são um bloco de comando como if/elif/else, while e for, então pedem : e também identação"
   ]
  },
  {
   "cell_type": "code",
   "execution_count": 24,
   "id": "1af3b034",
   "metadata": {},
   "outputs": [
    {
     "name": "stdout",
     "output_type": "stream",
     "text": [
      "funcao linha 1\n",
      "funcao linha 2\n",
      "funcao linha 3\n",
      "funcao linha 1\n",
      "funcao linha 2\n",
      "funcao linha 3\n",
      "funcao linha 1\n",
      "funcao linha 2\n",
      "funcao linha 3\n"
     ]
    }
   ],
   "source": [
    "def funcao_imprime_linhas():\n",
    "    print('funcao linha 1')\n",
    "    print('funcao linha 2')\n",
    "    print('funcao linha 3')\n",
    "    \n",
    "funcao_imprime_linhas()\n",
    "funcao_imprime_linhas()\n",
    "funcao_imprime_linhas()"
   ]
  },
  {
   "cell_type": "markdown",
   "id": "2ae7fd77",
   "metadata": {},
   "source": [
    "Quando uma função é chamada pelo nome, o fluxo do programa é interrompido. Em seguida, a função inteira é executada, ao final dela, o programa volta a ser executado de onde parou"
   ]
  },
  {
   "cell_type": "code",
   "execution_count": 25,
   "id": "c9191a23",
   "metadata": {},
   "outputs": [
    {
     "name": "stdout",
     "output_type": "stream",
     "text": [
      "Programa principal linha 1\n",
      "funcao linha 1\n",
      "funcao linha 2\n",
      "funcao linha 3\n",
      "Programa principal linha 2\n"
     ]
    }
   ],
   "source": [
    "print('Programa principal linha 1')\n",
    "funcao_imprime_linhas()\n",
    "print('Programa principal linha 2')"
   ]
  },
  {
   "cell_type": "markdown",
   "id": "25d89c9a",
   "metadata": {},
   "source": [
    "É possível passarmos informações para uma função.\n",
    "\n",
    "Chamamos essas informações de **\"parâmetros\"** ou **\"argumentos\"**.\n",
    "\n",
    "Na definição da função, daremos nome a esses parâmetros.\n",
    "\n",
    "Dentro da função, eles serão tratados como se fossem variáveis"
   ]
  },
  {
   "cell_type": "code",
   "execution_count": 26,
   "id": "af61b13a",
   "metadata": {},
   "outputs": [
    {
     "name": "stdout",
     "output_type": "stream",
     "text": [
      "Oi, eu me chamo Tiago\n"
     ]
    }
   ],
   "source": [
    "def me_apresentar(): ## Função que não está generica\n",
    "    print('Oi, eu me chamo Tiago')\n",
    "    \n",
    "me_apresentar()"
   ]
  },
  {
   "cell_type": "code",
   "execution_count": 30,
   "id": "a499fb22",
   "metadata": {},
   "outputs": [
    {
     "name": "stdout",
     "output_type": "stream",
     "text": [
      "Qual seu nome? Tiago\n",
      "Oi, eu me chamo Tiago\n"
     ]
    }
   ],
   "source": [
    "## a função pode receber dentro do parentesis um valor (pode ser variavel, lista, o que voce quiser)\n",
    "\n",
    "def me_apresentar(nome):\n",
    "    print(f'Oi, eu me chamo {nome}')\n",
    "    \n",
    "nome = input('Qual seu nome? ')\n",
    "\n",
    "me_apresentar(nome)\n",
    "## Esses valores definidos, servem só na função ou no meu programa? -> Só na função\n",
    "# me_apresentar('Tiago')\n",
    "# me_apresentar('Rapha')"
   ]
  },
  {
   "cell_type": "markdown",
   "id": "18360a1d",
   "metadata": {},
   "source": [
    "Ao chamarmos a nossa funcao, passamos os parâmetros entre parênteses.\n",
    "\n",
    "O nome ou valor passado **não precisam** ser iguais aos declarados na função!\n",
    "\n",
    "O nome do parâmetro interno da função é um \"apelido\" que a função dará\n",
    "para o valor ou variável que passamos."
   ]
  },
  {
   "cell_type": "code",
   "execution_count": 31,
   "id": "d3dfed3f",
   "metadata": {},
   "outputs": [
    {
     "name": "stdout",
     "output_type": "stream",
     "text": [
      "Oi, eu me chamo Tiago\n",
      "Oi, eu me chamo João\n"
     ]
    }
   ],
   "source": [
    "me_apresentar('Tiago')\n",
    "x = 'João'\n",
    "me_apresentar(x)"
   ]
  },
  {
   "cell_type": "markdown",
   "id": "c65b65c3",
   "metadata": {},
   "source": [
    "Uma função pode receber vários parâmetros separados por vírgula\n"
   ]
  },
  {
   "cell_type": "code",
   "execution_count": 33,
   "id": "b72d75c6",
   "metadata": {},
   "outputs": [
    {
     "name": "stdout",
     "output_type": "stream",
     "text": [
      "Meu nome é Tiago, eu tenho 26 anos e meu hobbie é Leitura\n"
     ]
    }
   ],
   "source": [
    "def apresentacao_completa(nome, idade, hobbie):\n",
    "    print(f'Meu nome é {nome}, eu tenho {idade} anos e meu hobbie é {hobbie}')\n",
    "    \n",
    "apresentacao_completa('Tiago', 26, 'Leitura')"
   ]
  },
  {
   "cell_type": "markdown",
   "id": "b78ea4e2",
   "metadata": {},
   "source": [
    "Podemos indicar para o desenvolvedor qual o tipo que esperamos que o parametro tenha.\n",
    "\n",
    "Isso se chama annotation"
   ]
  },
  {
   "cell_type": "code",
   "execution_count": 34,
   "id": "05543fcb",
   "metadata": {},
   "outputs": [
    {
     "name": "stdout",
     "output_type": "stream",
     "text": [
      "Meu nome é Tiago, eu tenho melancia anos e meu hobbie é Leitura\n"
     ]
    }
   ],
   "source": [
    "def apresentacao_completa(nome : str, idade : int, hobbie : str):\n",
    "    print(f'Meu nome é {nome}, eu tenho {idade} anos e meu hobbie é {hobbie}')\n",
    "    \n",
    "apresentacao_completa('Tiago', 26, 'Leitura')"
   ]
  },
  {
   "cell_type": "code",
   "execution_count": 37,
   "id": "e8b9ff3a",
   "metadata": {},
   "outputs": [
    {
     "name": "stdout",
     "output_type": "stream",
     "text": [
      "É str\n"
     ]
    }
   ],
   "source": [
    "nome = 'Tiago'\n",
    "idade = 26\n",
    "if(isinstance(nome, str)): ## Se quero conferir um tipo de dado\n",
    "    print('É str')"
   ]
  },
  {
   "cell_type": "markdown",
   "id": "70ea7ed3",
   "metadata": {},
   "source": [
    "Se a função pede 3 parametros e eu passo 2 ela quebra"
   ]
  },
  {
   "cell_type": "code",
   "execution_count": 53,
   "id": "059b395e",
   "metadata": {},
   "outputs": [
    {
     "name": "stdout",
     "output_type": "stream",
     "text": [
      "Meu nome é Tiago, eu tenho Tiago anos e meu hobbie é 26\n"
     ]
    }
   ],
   "source": [
    "def apresentacao_completa(nome, idade, hobbie='Jogar Futebol'):\n",
    "    print(f'Meu nome é {nome}, eu tenho {idade} anos e meu hobbie é {hobbie}')\n",
    "    \n",
    "apresentacao_completa('Tiago', 26)"
   ]
  },
  {
   "cell_type": "markdown",
   "id": "e1835e81",
   "metadata": {},
   "source": [
    "Podemos passar parâmetros fora de ordem, mas para isso precisamos explicitar qual parâmetro estamos passando, para evitar ambiguidade ou erros de interpretação do Python"
   ]
  },
  {
   "cell_type": "code",
   "execution_count": 61,
   "id": "2848981c",
   "metadata": {},
   "outputs": [
    {
     "name": "stdout",
     "output_type": "stream",
     "text": [
      "Meu nome é 26, eu tenho Leitura anos e meu hobbie é Tiago\n"
     ]
    }
   ],
   "source": [
    "def apresentacao_completa(nome, idade, hobbie):\n",
    "    print(f'Meu nome é {nome}, eu tenho {idade} anos e meu hobbie é {hobbie}')\n",
    "    \n",
    "apresentacao_completa(26, 'Leitura', 'Tiago')\n"
   ]
  },
  {
   "cell_type": "code",
   "execution_count": 41,
   "id": "38d80860",
   "metadata": {},
   "outputs": [
    {
     "name": "stdout",
     "output_type": "stream",
     "text": [
      "Meu nome é Tiago, eu tenho 26 anos e meu hobbie é Leitura\n"
     ]
    }
   ],
   "source": [
    "## identificando parametros funciona\n",
    "apresentacao_completa(idade=26, hobbie='Leitura', nome='Tiago')"
   ]
  },
  {
   "cell_type": "code",
   "execution_count": 45,
   "id": "c0480f7f",
   "metadata": {},
   "outputs": [
    {
     "name": "stdout",
     "output_type": "stream",
     "text": [
      "Digite seu nome: Tiago\n",
      "Digite sua idade: 26\n",
      "Digite seu hobbie: Leitura\n",
      "Meu nome é Tiago, eu tenho 26 anos e meu hobbie é Leitura\n"
     ]
    }
   ],
   "source": [
    "nome = input('Digite seu nome: ')\n",
    "idade = int(input('Digite sua idade: '))\n",
    "hobbie = input('Digite seu hobbie: ')\n",
    "\n",
    "apresentacao_completa(nome=nome, idade=idade, hobbie=hobbie) ## O da direita é a variavel do programa\n",
    "## O da esquerda é o nome definido na funcao para o parametro"
   ]
  },
  {
   "cell_type": "code",
   "execution_count": 50,
   "id": "57737269",
   "metadata": {},
   "outputs": [
    {
     "name": "stdout",
     "output_type": "stream",
     "text": [
      "Digite sua nota 1: 8\n",
      "Digite sua nota 2: 7\n",
      "Passou de ano\n",
      "media:7.5\n",
      "presenca:1\n"
     ]
    }
   ],
   "source": [
    "def verifica_se_passou_de_ano(media, presenca=1): ## Definir um valor padrao\n",
    "    if (media >= 5) and (presenca >= 0.75):\n",
    "        print(f'Passou de ano\\nmedia:{media}\\npresenca:{presenca}')\n",
    "    else:\n",
    "        print(f'Reprovou de ano\\nmedia:{media}\\npresenca:{presenca}')\n",
    "        \n",
    "nota_1 = float(input('Digite sua nota 1: '))\n",
    "nota_2 = float(input('Digite sua nota 2: '))\n",
    "media = (nota_1 + nota_2)/2\n",
    "\n",
    "# presenca = float(input('Digite a presenca, de 0 a 1: '))\n",
    "\n",
    "verifica_se_passou_de_ano(media)"
   ]
  },
  {
   "cell_type": "markdown",
   "id": "8c0f2607",
   "metadata": {},
   "source": [
    "Uma função pode ter uma \"resposta\". \n",
    "\n",
    "Por exemplo, nossa função pode ser uma conta, e o resultado da conta pode ser útil em nosso programa.\n",
    "\n",
    "Dizemos que essas funções \"retornam\" um valor. Utilizamos a palavra \"return\" para fazer uma função retornar sua resposta.\n",
    "\n",
    "Quando uma função retorna um valor, ela pode ser usada em expressões matemáticas e lógicas, ter seu valor atribuido a uma variável etc."
   ]
  },
  {
   "cell_type": "code",
   "execution_count": 54,
   "id": "4e8c2be7",
   "metadata": {},
   "outputs": [
    {
     "name": "stdout",
     "output_type": "stream",
     "text": [
      "\n",
      "None\n"
     ]
    }
   ],
   "source": [
    "## O print é uma funcao\n",
    "## Se eu der print no print ele não mostra nada (porque ele não tem um \"valor\")\n",
    "print(print())"
   ]
  },
  {
   "cell_type": "code",
   "execution_count": 55,
   "id": "4afe4465",
   "metadata": {},
   "outputs": [
    {
     "name": "stdout",
     "output_type": "stream",
     "text": [
      "Digite algo:5\n",
      "5\n"
     ]
    }
   ],
   "source": [
    "## O input também é uma funcao\n",
    "## Se eu der print no input ele mostra o que eu digitei (porque o input DEVOLVE o valor que eu digitei)\n",
    "print(input('Digite algo:'))"
   ]
  },
  {
   "cell_type": "code",
   "execution_count": 56,
   "id": "dd8e59dd",
   "metadata": {},
   "outputs": [
    {
     "name": "stdout",
     "output_type": "stream",
     "text": [
      "Oi\n",
      "None\n"
     ]
    }
   ],
   "source": [
    "X = print('Oi')\n",
    "print(X) ## Não devolve nada então nao pode ser salva no X"
   ]
  },
  {
   "cell_type": "code",
   "execution_count": 6,
   "id": "2ffbfad5",
   "metadata": {},
   "outputs": [
    {
     "name": "stdout",
     "output_type": "stream",
     "text": [
      "4.0\n"
     ]
    }
   ],
   "source": [
    "## Toda vez que eu preciso que o programa secundario (funcao) VOLTE algo para o programa principal\n",
    "## Preciso usar o RETURN\n",
    "\n",
    "def media_da_lista(lista : list):\n",
    "    media = sum(lista) / len(lista)\n",
    "    return media\n",
    "\n",
    "\n",
    "lista1 = [1,2,3,4,5]\n",
    "lista2 = [3,4,5,6,7]\n",
    "media1 = media_da_lista(lista1) ## -> (1 + 2 + 3+ 4+ 5) / 5\n",
    "media2 = media_da_lista(lista2)\n",
    "\n",
    "media_das_medias = (media1 + media2 ) / 2\n",
    "print(media_das_medias)\n",
    "# print(media_da_lista([1,2,3,4]))\n",
    "# print(media_da_lista(lista))"
   ]
  },
  {
   "cell_type": "code",
   "execution_count": 3,
   "id": "ef981aa2",
   "metadata": {},
   "outputs": [
    {
     "name": "stdout",
     "output_type": "stream",
     "text": [
      "120\n",
      "None\n"
     ]
    }
   ],
   "source": [
    "def fatorial(n):\n",
    "    prod = 1\n",
    "    for i in range(n, 0, -1):\n",
    "        prod *= i\n",
    "    return (prod)\n",
    "\n",
    "fat = fatorial(5)\n",
    "print(fat)"
   ]
  },
  {
   "cell_type": "code",
   "execution_count": 1,
   "id": "47d7084c",
   "metadata": {},
   "outputs": [],
   "source": [
    "def eh_par(numero):\n",
    "    if (numero % 2 == 0):\n",
    "        return True\n",
    "    else:\n",
    "        return False"
   ]
  },
  {
   "cell_type": "code",
   "execution_count": 2,
   "id": "d31b8f44",
   "metadata": {},
   "outputs": [
    {
     "name": "stdout",
     "output_type": "stream",
     "text": [
      "False\n"
     ]
    }
   ],
   "source": [
    "digito = 5\n",
    "eh_par(digito)\n"
   ]
  },
  {
   "cell_type": "code",
   "execution_count": 83,
   "id": "ab9dfbab",
   "metadata": {},
   "outputs": [
    {
     "name": "stdout",
     "output_type": "stream",
     "text": [
      "True\n",
      "True\n",
      "False\n",
      "False\n",
      "True\n",
      "0\n"
     ]
    }
   ],
   "source": [
    "lista = [10, 2, 3, 5, 6]\n",
    "qtos_pares_na_lista = 0\n",
    "\n",
    "for numero in lista:\n",
    "    if eh_par(numero):\n",
    "        qtos_pares_na_lista+=1\n",
    "        \n",
    "print(qtos_pares_na_lista)"
   ]
  },
  {
   "cell_type": "code",
   "execution_count": 8,
   "id": "156e9961",
   "metadata": {},
   "outputs": [
    {
     "name": "stdout",
     "output_type": "stream",
     "text": [
      "O preco da bagagem foi 648.0, porque ela está pesando 16 kgs\n"
     ]
    }
   ],
   "source": [
    "def calcular_peso(lista): ## Calcular o peso de todas as coisas da minha lista de viagem\n",
    "    peso = sum(lista)\n",
    "    return peso\n",
    "    \n",
    "def preco_da_bagagem(peso):\n",
    "    preco = peso * 40.50\n",
    "    return preco\n",
    "    \n",
    "lista_de_itens = [10, 2, 4]\n",
    "peso_da_bagagem = calcular_peso(lista_de_itens)\n",
    "preco = preco_da_bagagem(peso_da_bagagem)\n",
    "print(f'O preco da bagagem foi {preco}, porque ela está pesando {peso_da_bagagem} kgs')"
   ]
  }
 ],
 "metadata": {
  "kernelspec": {
   "display_name": "Python 3 (ipykernel)",
   "language": "python",
   "name": "python3"
  },
  "language_info": {
   "codemirror_mode": {
    "name": "ipython",
    "version": 3
   },
   "file_extension": ".py",
   "mimetype": "text/x-python",
   "name": "python",
   "nbconvert_exporter": "python",
   "pygments_lexer": "ipython3",
   "version": "3.9.6"
  }
 },
 "nbformat": 4,
 "nbformat_minor": 5
}
