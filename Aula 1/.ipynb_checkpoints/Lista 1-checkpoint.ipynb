{
 "cells": [
  {
   "cell_type": "code",
   "execution_count": 1,
   "id": "f8f4ba21",
   "metadata": {},
   "outputs": [
    {
     "name": "stdout",
     "output_type": "stream",
     "text": [
      "Olá, mundo!\n"
     ]
    }
   ],
   "source": [
    "# 1. Faça um Programa que mostre a mensagem \"Olá, mundo!\" na tela.\n"
   ]
  },
  {
   "cell_type": "code",
   "execution_count": 2,
   "id": "e4a18044",
   "metadata": {},
   "outputs": [
    {
     "name": "stdout",
     "output_type": "stream",
     "text": [
      "digite um número: 10\n",
      "O número informado foi 10\n"
     ]
    }
   ],
   "source": [
    "# 2. Faça um programa que peça um número e mostre a mensagem \"O número informado foi [número]\""
   ]
  },
  {
   "cell_type": "code",
   "execution_count": 3,
   "id": "49b30fa2",
   "metadata": {},
   "outputs": [
    {
     "name": "stdout",
     "output_type": "stream",
     "text": [
      "digite um número: 10\n",
      "O número informado é 10.0\n"
     ]
    }
   ],
   "source": [
    "# 3. Faça um programa que peça um número para o usuário (string), converta-o para float e depois imprima-o na tela. Você consegue fazer a mesma coisa, porém convertendo para int?\n",
    "#Convertendo para float\n"
   ]
  },
  {
   "cell_type": "code",
   "execution_count": 4,
   "id": "ab764b94",
   "metadata": {},
   "outputs": [
    {
     "name": "stdout",
     "output_type": "stream",
     "text": [
      "digite um número: 10\n",
      "digite outro número: 5\n",
      "A soma é: 15\n"
     ]
    }
   ],
   "source": [
    "# 4. Faça um programa que peça dois números e imprima a soma deles.\n",
    "\n"
   ]
  },
  {
   "cell_type": "code",
   "execution_count": 5,
   "id": "ade2592d",
   "metadata": {},
   "outputs": [
    {
     "name": "stdout",
     "output_type": "stream",
     "text": [
      "Digite a nota 1: 1\n",
      "Digite a nota 2: 2\n",
      "Digite a nota 3: 3\n",
      "Digite a nota 4: 4\n",
      "A média das notas é: 2.5\n",
      "A média das notas é: 2.5\n"
     ]
    }
   ],
   "source": [
    "# 5. Faça um programa que peça as 4 notas bimestrais de um aluno e mostre a média aritmética delas.\n"
   ]
  },
  {
   "cell_type": "code",
   "execution_count": 6,
   "id": "74dbeafd",
   "metadata": {},
   "outputs": [
    {
     "name": "stdout",
     "output_type": "stream",
     "text": [
      "Digite um número em metros: 10\n",
      "O número digitado em centímetros é: 1000.0\n"
     ]
    }
   ],
   "source": [
    "# 6. Faça um programa que converta um valor em metros para centímetros.\n"
   ]
  },
  {
   "cell_type": "code",
   "execution_count": 7,
   "id": "a21b1da5",
   "metadata": {},
   "outputs": [
    {
     "name": "stdout",
     "output_type": "stream",
     "text": [
      "Digite o raio de um círculo: 5\n",
      "A área do círculo é 78.5\n"
     ]
    }
   ],
   "source": [
    "# 7. Faça um programa que peça o raio de um círculo, calcule e mostre sua área. Obs: Formula da área de um círculo, A = 3.14*r²  \n"
   ]
  },
  {
   "cell_type": "code",
   "execution_count": 8,
   "id": "56d8a614",
   "metadata": {},
   "outputs": [
    {
     "name": "stdout",
     "output_type": "stream",
     "text": [
      "Quanto você ganha por hora: 50\n",
      "Qual a quantidade de horas que você trabalha por mês: 10\n",
      "Você recebe 500.0 por mês\n"
     ]
    }
   ],
   "source": [
    "# 8. Faça um programa que pergunte quanto você ganha por hora e o número de horas trabalhadas no mês e depois, calcule e mostre o total do seu salário no referido mês.\n",
    "\n"
   ]
  },
  {
   "cell_type": "code",
   "execution_count": 10,
   "id": "46a33436",
   "metadata": {},
   "outputs": [
    {
     "name": "stdout",
     "output_type": "stream",
     "text": [
      "Digite a temperatura em Farenheit: 200\n",
      "A temperatura digitada, em graus Celsius, é: 93.33333333333333\n"
     ]
    }
   ],
   "source": [
    "# 9. Faça um programa que peça a temperatura em graus Fahrenheit (F), transforme e mostre a temperatura em graus Celsius (°C). \n",
    "# C = (5 * (F-32) / 9).\n"
   ]
  },
  {
   "cell_type": "code",
   "execution_count": 11,
   "id": "ff177d47",
   "metadata": {},
   "outputs": [
    {
     "name": "stdout",
     "output_type": "stream",
     "text": [
      "Digite a temperatura em graus Celsius: 30\n",
      "A temperatura digitada, em Fahrenheit, é: 86.0\n"
     ]
    }
   ],
   "source": [
    "# Inverso\n"
   ]
  },
  {
   "cell_type": "code",
   "execution_count": 12,
   "id": "7efabcdf",
   "metadata": {},
   "outputs": [
    {
     "name": "stdout",
     "output_type": "stream",
     "text": [
      "Qual o dia? 10\n",
      "Qual o mês? 2\n",
      "Qual o ano? 2023\n",
      "A data é: 10 / 2 / 2023\n"
     ]
    }
   ],
   "source": [
    "# 10. Faça um programa que peça o dia, o mês e o ano para o usuário e imprima a data completa no formato dd/mm/aaaa.\n",
    "\n"
   ]
  },
  {
   "cell_type": "code",
   "execution_count": 14,
   "id": "6e0fa030",
   "metadata": {},
   "outputs": [
    {
     "name": "stdout",
     "output_type": "stream",
     "text": [
      "digite um número inteiro: 10\n",
      "digite outro número inteiro: 20\n",
      "agora digite um número real: 3.5\n",
      "O produto do dobro do primeiro com metade do segundo: 200.0\n",
      "A soma do triplo do primeiro com o terceiro: 33.5\n",
      "O terceiro elevado ao cubo: 42.875\n"
     ]
    }
   ],
   "source": [
    "#11.Faça um programa que peça 2 números inteiros e um número real, calcule e mostre:\n",
    "\n",
    "# a) o produto do dobro do primeiro com metade do segundo.\n",
    "\n",
    "#b) a soma do triplo do primeiro com o terceiro.\n",
    "#c) o terceiro elevado ao cubo.\n"
   ]
  },
  {
   "cell_type": "code",
   "execution_count": 15,
   "id": "1a1b6d28",
   "metadata": {},
   "outputs": [
    {
     "name": "stdout",
     "output_type": "stream",
     "text": [
      "digite seu peso em kg:70\n",
      "digite sua altura em m:1.5\n",
      "seu imc é 31.11111111111111\n"
     ]
    }
   ],
   "source": [
    "# 12. Faça um programa que peça o peso e altura de uma pessoa e calcule seu IMC (Índice de Massa Corporal).\n",
    "\n"
   ]
  },
  {
   "cell_type": "code",
   "execution_count": 16,
   "id": "a5b2bcc1",
   "metadata": {},
   "outputs": [
    {
     "name": "stdout",
     "output_type": "stream",
     "text": [
      "Qual o valor? 100\n",
      "O novo valor é R$ 114.99999999999999\n"
     ]
    }
   ],
   "source": [
    "# 13. Faça um programa que peça um valor monetário e aumente-o em 15%. Seu programa deve imprimir a mensagem “O novo valor é R$[valor]”.\n"
   ]
  },
  {
   "cell_type": "code",
   "execution_count": 17,
   "id": "4ea72f9d",
   "metadata": {},
   "outputs": [
    {
     "name": "stdout",
     "output_type": "stream",
     "text": [
      "Qual o valor? 150\n",
      "O novo valor é R$ 127.5\n"
     ]
    }
   ],
   "source": [
    "#14. Faça um programa que peça um valor monetário e diminua-o em 15%. Seu programa deve imprimir a mensagem “O novo valor é R$[valor]”.\n"
   ]
  },
  {
   "cell_type": "markdown",
   "id": "3b58746c",
   "metadata": {},
   "source": [
    "## Desafios"
   ]
  },
  {
   "cell_type": "code",
   "execution_count": 18,
   "id": "ca767ba2",
   "metadata": {},
   "outputs": [
    {
     "name": "stdout",
     "output_type": "stream",
     "text": [
      "Digite a posição inicial: 0\n",
      "Digite a velocidade inicial: 10\n",
      "Digite um instante no tempo: 5\n",
      "A posição no instante t = 5.0 é -75.0\n"
     ]
    }
   ],
   "source": [
    "#Desafio 1. Peça para o usuário digitar uma velocidade inicial (em m/s), uma posição inicial (em m) e um instante de tempo (em s) e imprima a posição de um projétil nesse instante de tempo.\n",
    "\n"
   ]
  },
  {
   "cell_type": "code",
   "execution_count": 19,
   "id": "0fcfb3de",
   "metadata": {},
   "outputs": [],
   "source": [
    "# Desafio 2.Faça um programa que informe a data e a hora para o usuário. Para isso use a função datetime.now() do módulo datetime.\n",
    "\n"
   ]
  }
 ],
 "metadata": {
  "kernelspec": {
   "display_name": "Python 3 (ipykernel)",
   "language": "python",
   "name": "python3"
  },
  "language_info": {
   "codemirror_mode": {
    "name": "ipython",
    "version": 3
   },
   "file_extension": ".py",
   "mimetype": "text/x-python",
   "name": "python",
   "nbconvert_exporter": "python",
   "pygments_lexer": "ipython3",
   "version": "3.9.6"
  }
 },
 "nbformat": 4,
 "nbformat_minor": 5
}
