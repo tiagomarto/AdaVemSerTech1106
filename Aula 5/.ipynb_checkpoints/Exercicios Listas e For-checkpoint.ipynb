{
 "cells": [
  {
   "cell_type": "code",
   "execution_count": 1,
   "id": "3d9f8cc5",
   "metadata": {},
   "outputs": [
    {
     "name": "stdout",
     "output_type": "stream",
     "text": [
      "2\n",
      "3\n",
      "1\n",
      "0\n"
     ]
    }
   ],
   "source": [
    "# 1. Crie uma lista qualquer e faça um programa que imprima cada elemento da lista usando o for.\n",
    "lista = [2,3,1,0]\n",
    "for elemento in lista:\n",
    "    print(elemento)"
   ]
  },
  {
   "cell_type": "code",
   "execution_count": 3,
   "id": "9ef88e55",
   "metadata": {},
   "outputs": [
    {
     "name": "stdout",
     "output_type": "stream",
     "text": [
      "2\n",
      "3\n",
      "1\n",
      "0\n"
     ]
    }
   ],
   "source": [
    "# 2. Faça um programa que imprima todos os itens de uma lista usando while e compare com o exercício 1.\n",
    "lista = [2,3,1,0]\n",
    "contador = 0\n",
    "while contador < len(lista):\n",
    "    print(lista[contador])\n",
    "    contador = contador + 1"
   ]
  },
  {
   "cell_type": "code",
   "execution_count": 4,
   "id": "bdf979c5",
   "metadata": {},
   "outputs": [
    {
     "name": "stdout",
     "output_type": "stream",
     "text": [
      "Digite um número: 10\n",
      "[0, 1, 2, 3, 4, 5, 6, 7, 8, 9]\n"
     ]
    }
   ],
   "source": [
    "# 3. Faça um programa que peça para o usuário digitar um número n e imprima uma lista com todos os números de 0 a n-1.\n",
    "\n",
    "numero = int(input('Digite um número: '))\n",
    "lista = []\n",
    "for i in range(numero):\n",
    "    lista.append(i)\n",
    "print(lista)"
   ]
  },
  {
   "cell_type": "code",
   "execution_count": 7,
   "id": "01058a6a",
   "metadata": {},
   "outputs": [
    {
     "name": "stdout",
     "output_type": "stream",
     "text": [
      "Digite um número: 20\n",
      "[0, 1, 2, 3, 4, 5, 6, 7, 8, 9, 10, 11, 12, 13, 14, 15, 16, 17, 18, 19]\n"
     ]
    }
   ],
   "source": [
    "numero = int(input('Digite um número: '))\n",
    "lista = [i for i in range(numero)]\n",
    "print(lista)"
   ]
  },
  {
   "cell_type": "code",
   "execution_count": 8,
   "id": "84fe3068",
   "metadata": {},
   "outputs": [
    {
     "name": "stdout",
     "output_type": "stream",
     "text": [
      "Na lista existem 6 numeros pares\n"
     ]
    }
   ],
   "source": [
    "# 4. Faça um programa que olhe todos os itens de uma lista e diga quantos deles são pares. \n",
    "lista = [1, 4, -8, 12, 3, -5, 2, -14, 6]\n",
    "pares = 0\n",
    "for elemento in lista:\n",
    "    if elemento % 2 == 0:\n",
    "        pares = pares + 1\n",
    "print(f'Na lista existem {pares} numeros pares')"
   ]
  },
  {
   "cell_type": "code",
   "execution_count": 9,
   "id": "c2f114db",
   "metadata": {},
   "outputs": [
    {
     "name": "stdout",
     "output_type": "stream",
     "text": [
      "O maior elemento da lista é 12\n"
     ]
    }
   ],
   "source": [
    "# 5. Faça um programa que imprima o maior número de uma lista, sem usar o método max().\n",
    "\n",
    "lista = [1, 4, -8, 12, 3, -5, 2, -14, 6]\n",
    "maior = lista[0]\n",
    "for elemento in lista:\n",
    "    if elemento > maior:\n",
    "        maior = elemento\n",
    "print(f\"O maior elemento da lista é {maior}\")"
   ]
  },
  {
   "cell_type": "code",
   "execution_count": 12,
   "id": "bec80550",
   "metadata": {},
   "outputs": [
    {
     "name": "stdout",
     "output_type": "stream",
     "text": [
      "12\n",
      "6\n",
      "4\n",
      "[1, -8, 3, -5, 2, -14]\n"
     ]
    }
   ],
   "source": [
    "# 6. Agora usando o método max() faça um programa que imprima os três maiores números de uma lista. \n",
    "\n",
    "lista = [1, 4, -8, 12, 3, -5, 2, -14, 6]\n",
    "for i in range(3):\n",
    "    maior_numero = max(lista)\n",
    "    print(maior_numero)\n",
    "    lista.remove(maior_numero)\n",
    "print(lista)"
   ]
  },
  {
   "cell_type": "code",
   "execution_count": 21,
   "id": "de34ae32",
   "metadata": {},
   "outputs": [
    {
     "name": "stdout",
     "output_type": "stream",
     "text": [
      "12\n",
      "6\n",
      "4\n",
      "[1, -8, 3, -5, 2, -14]\n"
     ]
    }
   ],
   "source": [
    "lista = [1, 4, -8, 12, 3, -5, 2, -14, 6]\n",
    "lista_auxiliar = lista\n",
    "# lista_auxiliar = lista[:] ## Faz uma copia da lista inteira\n",
    "# lista_auxiliar = lista.copy() ## Faz uma copia da lista inteira\n",
    "\n",
    "for i in range(3):\n",
    "    maior_numero = max(lista_auxiliar)\n",
    "    print(maior_numero)\n",
    "    lista_auxiliar.remove(maior_numero)\n",
    "print(lista)"
   ]
  },
  {
   "cell_type": "code",
   "execution_count": 22,
   "id": "c9f0d3ea",
   "metadata": {},
   "outputs": [
    {
     "name": "stdout",
     "output_type": "stream",
     "text": [
      "[1, 10, -8, 12, 3, -5, 2, -14, 6]\n"
     ]
    }
   ],
   "source": [
    "lista = [1, 4, -8, 12, 3, -5, 2, -14, 6]\n",
    "lista_auxiliar = lista\n",
    "lista_auxiliar[1] = 10\n",
    "print(lista)"
   ]
  },
  {
   "cell_type": "code",
   "execution_count": 11,
   "id": "0d5a56d4",
   "metadata": {},
   "outputs": [
    {
     "name": "stdout",
     "output_type": "stream",
     "text": [
      "[25, 22, 10]\n"
     ]
    }
   ],
   "source": [
    "lista = [22, 25, 1, 3, 9, 10, 6, 4, 7, 6]\n",
    "maiores = []\n",
    "\n",
    "for i in range(3):\n",
    "    maiores.append(max(lista))\n",
    "    lista.remove(max(lista))\n",
    "\n",
    "print(maiores)"
   ]
  },
  {
   "cell_type": "code",
   "execution_count": null,
   "id": "e58d2bae",
   "metadata": {},
   "outputs": [],
   "source": [
    "# 7. Faça um programa que, dadas duas listas de mesmo tamanho, crie uma nova lista com cada elemento igual a soma dos elementos da lista 1 com os da lista 2, na mesma posição. \n",
    "\n",
    "\n"
   ]
  },
  {
   "cell_type": "code",
   "execution_count": null,
   "id": "b182c2af",
   "metadata": {},
   "outputs": [],
   "source": [
    "# 8. Faça um programa que dadas duas listas de mesmo tamanho, imprima o produto escalar entre elas. \n",
    "# O produto escalar é a soma dos produtos de uma lista dois a dois\n",
    "# por exemplo, nas listas [1, 3, 5] e [2, 4, 6] se resolve (1*2) + (3*4) + (6*5) = 44"
   ]
  },
  {
   "cell_type": "code",
   "execution_count": null,
   "id": "7d4c9b9d",
   "metadata": {},
   "outputs": [],
   "source": [
    "## 9. Faça um Programa que peça as 4 notas bimestrais e mostre a média\n",
    "## aritmética delas, usando listas."
   ]
  },
  {
   "cell_type": "code",
   "execution_count": 15,
   "id": "2427237b",
   "metadata": {},
   "outputs": [
    {
     "name": "stdout",
     "output_type": "stream",
     "text": [
      "Lista completa: [93, 50, 85, 60, 49, 12, 36, 94, 65, 56]\n",
      "4 primeiros números:\n",
      "93\n",
      "50\n",
      "85\n",
      "60\n",
      "5 últimos números:\n",
      "12\n",
      "36\n",
      "94\n",
      "65\n",
      "56\n",
      "Posições pares:\n",
      "93\n",
      "85\n",
      "49\n",
      "36\n",
      "65\n",
      "Posições ímpares:\n",
      "50\n",
      "60\n",
      "12\n",
      "94\n",
      "56\n",
      "Lista invertida:\n",
      "56\n",
      "65\n",
      "94\n",
      "36\n",
      "12\n",
      "49\n",
      "60\n",
      "85\n",
      "50\n",
      "93\n",
      "Lista invertida dos 5 primeiros:\n",
      "49\n",
      "60\n",
      "85\n",
      "50\n",
      "93\n",
      "Lista invertida dos 5 ultimos:\n",
      "56\n",
      "65\n",
      "94\n",
      "36\n",
      "12\n"
     ]
    }
   ],
   "source": [
    "## 12. Sorteie uma lista de 10 números e imprima: \n",
    "\n",
    "\n",
    "\n",
    "# a.  uma lista com os 4 primeiros números;\n",
    "\n",
    "\n",
    "# b.  uma lista com os 5 últimos números;\n",
    "\n",
    "\n",
    "# c.  uma lista contendo apenas os elementos das posições pares;\n",
    "\n",
    "\n",
    "# d.  uma lista contendo apenas os elementos das posições ímpares;\n",
    "\n",
    "\n",
    "# e.  a lista inversa da lista sorteada (isto é, uma lista que começa com o último elemento da lista sorteada e termina com o primeiro);\n",
    "\n",
    "\n",
    "# f.  uma lista inversa dos 5 primeiros números;\n",
    "\n",
    "\n",
    "# g.  uma lista inversa dos 5 últimos números.\n"
   ]
  },
  {
   "cell_type": "code",
   "execution_count": null,
   "id": "b47d5c1d",
   "metadata": {},
   "outputs": [],
   "source": [
    "## 13. Faça um programa que sorteia 10 números entre 0 e 100 e conte\n",
    "## quantos números sorteados são maiores que 50. \n"
   ]
  },
  {
   "cell_type": "code",
   "execution_count": 5,
   "id": "5a2486a7",
   "metadata": {},
   "outputs": [
    {
     "name": "stdout",
     "output_type": "stream",
     "text": [
      "87\n",
      "3\n",
      "46.9\n",
      "469\n"
     ]
    }
   ],
   "source": [
    "## 14. Faça um programa que sorteie 10 números entre 0 e 100 e imprima: \n",
    "\n",
    "\n",
    "# a.  o maior número sorteado;\n",
    "\n",
    "\n",
    "# b.  o menor número sorteado;\n",
    "\n",
    "\n",
    "# c.  a média dos números sorteados;\n",
    "\n",
    "\n",
    "# d.  a soma dos números sorteados.\n"
   ]
  },
  {
   "cell_type": "code",
   "execution_count": null,
   "id": "ab2eea2d",
   "metadata": {},
   "outputs": [],
   "source": [
    "#Desafio 1. Faça um programa que peça para o usuário digitar o nome e a idade de um aluno e o número de provas que esse aluno fez. Depois, o programa deve pedir para o usuário digitar as notas de cada prova do aluno. Ao final o programa deve imprimir uma lista contendo:\n",
    "# a.  Nome do aluno na posição 0\n",
    "# b.  Idade do aluno na posição 1\n",
    "# c.  Uma lista com todas as notas na posição 2 \n",
    "# d.  A média do aluno na posição 3\n",
    "# e.  True ou False, caso a média seja maior que 5 ou não, na posição 4\n",
    "\n"
   ]
  },
  {
   "cell_type": "code",
   "execution_count": null,
   "id": "f9bc1ba4",
   "metadata": {},
   "outputs": [],
   "source": [
    "# Desafio 2. Faça um programa como o do item anterior, porém que imprima a média \n",
    "## sem considerar a maior e menor nota do aluno \n",
    "## (nesse caso o número de provas precisa ser obrigatoriamente maior que dois).\n",
    "\n"
   ]
  },
  {
   "cell_type": "code",
   "execution_count": null,
   "id": "4ba481e9",
   "metadata": {},
   "outputs": [],
   "source": [
    "'''\n",
    "Desafio HEAVY METAL.\n",
    "\n",
    "Faça um programa que pede para o usuário digitar o CPF e verifica se\n",
    "ele é válido. Para isso, primeiramente o programa deve multiplicar\n",
    "cada um dos 9 primeiros dígitos do CPF pelos números de 10 a 2 e\n",
    "somar todas as respostas. O resultado deve ser multiplicado por 10 e\n",
    "dividido por 11. O resto dessa divisão deve ser igual ao primeiro dígito\n",
    "verificador (10º dígito). Em seguida, o programa deve multiplicar cada \n",
    "um dos 10 primeiros dígitos do CPF pelos números de 11 a 2 e repetir\n",
    "o procedimento anterior para verificar o segundo dígito verificador.\n",
    "\n",
    "Exemplo:\n",
    "Se o CPF for 286.255.878-87 o programa deve fazer primeiro:\n",
    " x = (2*10 + 8*9 + 6*8 + 2*7 + 5*6 + 5*5 + 8*4 + 7*3 + 8*2).\n",
    "Em seguida o programa deve testar se x*10%11 == 8 (o décimo número\n",
    "do CPF).\n",
    "\n",
    "Se sim, o programa deve calcular\n",
    " x = (2*11 + 8*10 + 6*9 + 2*8 + 5*7 + 5*6 + 8*5 + 7*4 + 8*3 + 8*2)\n",
    "e verificar se x*10%11 == 7 (o décimo primeiro número do CPF)\n",
    "'''\n",
    "\n"
   ]
  }
 ],
 "metadata": {
  "kernelspec": {
   "display_name": "Python 3 (ipykernel)",
   "language": "python",
   "name": "python3"
  },
  "language_info": {
   "codemirror_mode": {
    "name": "ipython",
    "version": 3
   },
   "file_extension": ".py",
   "mimetype": "text/x-python",
   "name": "python",
   "nbconvert_exporter": "python",
   "pygments_lexer": "ipython3",
   "version": "3.9.6"
  }
 },
 "nbformat": 4,
 "nbformat_minor": 5
}
