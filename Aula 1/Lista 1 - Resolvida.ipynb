{
 "cells": [
  {
   "cell_type": "code",
   "execution_count": 1,
   "id": "f8f4ba21",
   "metadata": {},
   "outputs": [
    {
     "name": "stdout",
     "output_type": "stream",
     "text": [
      "Olá, mundo!\n"
     ]
    }
   ],
   "source": [
    "# 1. Faça um Programa que mostre a mensagem \"Olá, mundo!\" na tela.\n",
    "print('Olá, mundo!')"
   ]
  },
  {
   "cell_type": "code",
   "execution_count": 2,
   "id": "e4a18044",
   "metadata": {},
   "outputs": [
    {
     "name": "stdout",
     "output_type": "stream",
     "text": [
      "Digite um numero: 5\n",
      "O numero informado foi 5\n"
     ]
    }
   ],
   "source": [
    "# 2. Faça um programa que peça um número e mostre a mensagem \"O número informado foi [número]\"\n",
    "num = input('Digite um numero: ')\n",
    "print('O numero informado foi', num)"
   ]
  },
  {
   "cell_type": "code",
   "execution_count": 3,
   "id": "49b30fa2",
   "metadata": {},
   "outputs": [
    {
     "name": "stdout",
     "output_type": "stream",
     "text": [
      "Digite um numero: 5\n",
      "O numero informado é 5.0\n"
     ]
    }
   ],
   "source": [
    "# 3. Faça um programa que peça um número para o usuário (string), converta-o para float e depois imprima-o na tela. Você consegue fazer a mesma coisa, porém convertendo para int?\n",
    "#Convertendo para float\n",
    "num = input('Digite um numero: ')\n",
    "num = float(num) ##Coerção\n",
    "print('O numero informado é', num)"
   ]
  },
  {
   "cell_type": "code",
   "execution_count": 4,
   "id": "ab764b94",
   "metadata": {},
   "outputs": [
    {
     "name": "stdout",
     "output_type": "stream",
     "text": [
      "Digite um número: 5\n",
      "Digite outro numero: 4\n",
      "A soma é: 9\n"
     ]
    }
   ],
   "source": [
    "# 4. Faça um programa que peça dois números e imprima a soma deles.\n",
    "\n",
    "num1 = int(input('Digite um número: '))\n",
    "num2 = int(input('Digite outro numero: '))\n",
    "\n",
    "print('A soma é:', num1 + num2)"
   ]
  },
  {
   "cell_type": "code",
   "execution_count": 5,
   "id": "ade2592d",
   "metadata": {},
   "outputs": [
    {
     "name": "stdout",
     "output_type": "stream",
     "text": [
      "Digite a nota 1: 5\n",
      "Digite a nota 2: 6\n",
      "Digite a nota 3: 6\n",
      "Digite a nota 4: 5\n",
      "A média das notas é: 5.5\n"
     ]
    }
   ],
   "source": [
    "# 5. Faça um programa que peça as 4 notas bimestrais de um aluno e mostre a média aritmética delas.\n",
    "\n",
    "n1 = float(input('Digite a nota 1: '))\n",
    "n2 = float(input('Digite a nota 2: '))\n",
    "n3 = float(input('Digite a nota 3: '))\n",
    "n4 = float(input('Digite a nota 4: '))\n",
    "\n",
    "soma = n1+n2+n3+n4\n",
    "media = soma / 4\n",
    "\n",
    "print('A média das notas é:', media)"
   ]
  },
  {
   "cell_type": "code",
   "execution_count": 6,
   "id": "74dbeafd",
   "metadata": {},
   "outputs": [
    {
     "name": "stdout",
     "output_type": "stream",
     "text": [
      "Digite um número em metros: 5\n",
      "O numero digitado em centimetros é 500.0\n"
     ]
    }
   ],
   "source": [
    "# 6. Faça um programa que converta um valor em metros para centímetros.\n",
    "\n",
    "metros = float(input('Digite um número em metros: '))\n",
    "print('O numero digitado em centimetros é', metros * 100)"
   ]
  },
  {
   "cell_type": "code",
   "execution_count": 7,
   "id": "a21b1da5",
   "metadata": {},
   "outputs": [
    {
     "name": "stdout",
     "output_type": "stream",
     "text": [
      "Digite o raio de um circulo: 5\n",
      "A area  do circulo é 78.5\n"
     ]
    }
   ],
   "source": [
    "# 7. Faça um programa que peça o raio de um círculo, calcule e mostre sua área. Obs: Formula da área de um círculo, A = 3.14*r²  \n",
    "PI = 3.14\n",
    "\n",
    "raio = float(input('Digite o raio de um circulo: '))\n",
    "## print('A area  do circulo é', 3.14 * raio ** 2) ## Magic number, não é legal\n",
    "print('A area  do circulo é', PI * raio ** 2)"
   ]
  },
  {
   "cell_type": "code",
   "execution_count": 9,
   "id": "56d8a614",
   "metadata": {},
   "outputs": [
    {
     "name": "stdout",
     "output_type": "stream",
     "text": [
      "Quanto você por hora: 100\n",
      "Quantas horas você trabalhou no mes: 50\n",
      "Voce deve receber R$ 5000.0 no mês em 6.25 dias trabalhados\n"
     ]
    }
   ],
   "source": [
    "# 8. Faça um programa que pergunte quanto você ganha por hora e o número de horas trabalhadas no mês e depois, calcule e mostre o total do seu salário no referido mês.\n",
    "\n",
    "salario = float(input('Quanto você por hora: '))\n",
    "horas = float(input(\"Quantas horas você trabalhou no mes: \"))\n",
    "dias = horas / 8\n",
    "print('Voce deve receber R$', salario * horas, 'no mês em', dias, 'dias trabalhados')"
   ]
  },
  {
   "cell_type": "code",
   "execution_count": 10,
   "id": "46a33436",
   "metadata": {},
   "outputs": [
    {
     "name": "stdout",
     "output_type": "stream",
     "text": [
      "Digite a temperatura em Fahrenheit: 32\n",
      "A temperatura digitada, em graus Celsius, é: 0.0\n"
     ]
    }
   ],
   "source": [
    "# 9. Faça um programa que peça a temperatura em graus Fahrenheit (F), transforme e mostre a temperatura em graus Celsius (°C). \n",
    "# C = (5 * (F-32) / 9).\n",
    "fahrenheit = float(input(\"Digite a temperatura em Fahrenheit: \"))\n",
    "celsius = 5 * (fahrenheit - 32) / 9\n",
    "print(\"A temperatura digitada, em graus Celsius, é:\", celsius)"
   ]
  },
  {
   "cell_type": "code",
   "execution_count": 11,
   "id": "ff177d47",
   "metadata": {},
   "outputs": [
    {
     "name": "stdout",
     "output_type": "stream",
     "text": [
      "Digite a temperatura em celsius: 0\n",
      "A temperatura digitada, em Fahrenheit, é 32.0\n"
     ]
    }
   ],
   "source": [
    "# Inverso\n",
    "celsius = float(input('Digite a temperatura em celsius: '))\n",
    "fahrenheit = celsius * 9 / 5 + 32\n",
    "print(\"A temperatura digitada, em Fahrenheit, é\", fahrenheit)"
   ]
  },
  {
   "cell_type": "code",
   "execution_count": 12,
   "id": "7efabcdf",
   "metadata": {},
   "outputs": [
    {
     "name": "stdout",
     "output_type": "stream",
     "text": [
      "Qual o dia?9\n",
      "Qual o mes?10\n",
      "Qual o ano?2023\n",
      "A data é 9 / 10 / 2023\n"
     ]
    }
   ],
   "source": [
    "# 10. Faça um programa que peça o dia, o mês e o ano para o usuário e imprima a data completa no formato dd/mm/aaaa.\n",
    "\n",
    "dia = int(input('Qual o dia?'))\n",
    "mes = int(input('Qual o mes?'))\n",
    "ano = int(input('Qual o ano?'))\n",
    "\n",
    "print('A data é', dia, '/', mes, '/', ano)"
   ]
  },
  {
   "cell_type": "code",
   "execution_count": 13,
   "id": "6e0fa030",
   "metadata": {},
   "outputs": [
    {
     "name": "stdout",
     "output_type": "stream",
     "text": [
      "Digite um número inteiro: 3\n",
      "Digite outro número inteiro: 4\n",
      "Agora digite um número real: 2\n",
      "O produto do dobro do primeiro com metade do segundo: 12.0\n",
      "A soma do triplo do primeiro com o terceiro: 11.0\n",
      "O terceiro ao cubo 8.0\n"
     ]
    }
   ],
   "source": [
    "#11.Faça um programa que peça 2 números inteiros e um número real, calcule e mostre:\n",
    "int1 = int(input('Digite um número inteiro: '))\n",
    "int2 = int(input('Digite outro número inteiro: '))\n",
    "real1 = float(input('Agora digite um número real: '))\n",
    "\n",
    "# a) o produto do dobro do primeiro com metade do segundo.\n",
    "print('O produto do dobro do primeiro com metade do segundo:', 2*int1*int2/2)\n",
    "\n",
    "#b) a soma do triplo do primeiro com o terceiro.\n",
    "print('A soma do triplo do primeiro com o terceiro:', 3 * int1 + real1)\n",
    "\n",
    "#c) o terceiro elevado ao cubo.\n",
    "print('O terceiro ao cubo', real1**3)\n"
   ]
  },
  {
   "cell_type": "code",
   "execution_count": 18,
   "id": "1a1b6d28",
   "metadata": {},
   "outputs": [
    {
     "ename": "KeyboardInterrupt",
     "evalue": "Interrupted by user",
     "output_type": "error",
     "traceback": [
      "\u001b[1;31m---------------------------------------------------------------------------\u001b[0m",
      "\u001b[1;31mKeyboardInterrupt\u001b[0m                         Traceback (most recent call last)",
      "\u001b[1;32m~\\AppData\\Local\\Temp/ipykernel_8456/577096241.py\u001b[0m in \u001b[0;36m<module>\u001b[1;34m\u001b[0m\n\u001b[0;32m      1\u001b[0m \u001b[1;31m# 12. Faça um programa que peça o peso e altura de uma pessoa e calcule seu IMC (Índice de Massa Corporal).\u001b[0m\u001b[1;33m\u001b[0m\u001b[1;33m\u001b[0m\u001b[1;33m\u001b[0m\u001b[0m\n\u001b[0;32m      2\u001b[0m \u001b[1;33m\u001b[0m\u001b[0m\n\u001b[1;32m----> 3\u001b[1;33m \u001b[0mpeso\u001b[0m \u001b[1;33m=\u001b[0m \u001b[0mfloat\u001b[0m\u001b[1;33m(\u001b[0m\u001b[0minput\u001b[0m\u001b[1;33m(\u001b[0m\u001b[1;34m'digite seu peso em kg:'\u001b[0m\u001b[1;33m)\u001b[0m\u001b[1;33m)\u001b[0m\u001b[1;33m\u001b[0m\u001b[1;33m\u001b[0m\u001b[0m\n\u001b[0m\u001b[0;32m      4\u001b[0m \u001b[0maltura\u001b[0m \u001b[1;33m=\u001b[0m \u001b[0mfloat\u001b[0m\u001b[1;33m(\u001b[0m\u001b[0minput\u001b[0m\u001b[1;33m(\u001b[0m\u001b[1;34m'digite sua altura em m:'\u001b[0m\u001b[1;33m)\u001b[0m\u001b[1;33m)\u001b[0m\u001b[1;33m\u001b[0m\u001b[1;33m\u001b[0m\u001b[0m\n\u001b[0;32m      5\u001b[0m \u001b[1;33m\u001b[0m\u001b[0m\n",
      "\u001b[1;32mc:\\program files\\python39\\lib\\site-packages\\ipykernel\\kernelbase.py\u001b[0m in \u001b[0;36mraw_input\u001b[1;34m(self, prompt)\u001b[0m\n\u001b[0;32m   1004\u001b[0m                 \u001b[1;34m\"raw_input was called, but this frontend does not support input requests.\"\u001b[0m\u001b[1;33m\u001b[0m\u001b[1;33m\u001b[0m\u001b[0m\n\u001b[0;32m   1005\u001b[0m             )\n\u001b[1;32m-> 1006\u001b[1;33m         return self._input_request(\n\u001b[0m\u001b[0;32m   1007\u001b[0m             \u001b[0mstr\u001b[0m\u001b[1;33m(\u001b[0m\u001b[0mprompt\u001b[0m\u001b[1;33m)\u001b[0m\u001b[1;33m,\u001b[0m\u001b[1;33m\u001b[0m\u001b[1;33m\u001b[0m\u001b[0m\n\u001b[0;32m   1008\u001b[0m             \u001b[0mself\u001b[0m\u001b[1;33m.\u001b[0m\u001b[0m_parent_ident\u001b[0m\u001b[1;33m[\u001b[0m\u001b[1;34m\"shell\"\u001b[0m\u001b[1;33m]\u001b[0m\u001b[1;33m,\u001b[0m\u001b[1;33m\u001b[0m\u001b[1;33m\u001b[0m\u001b[0m\n",
      "\u001b[1;32mc:\\program files\\python39\\lib\\site-packages\\ipykernel\\kernelbase.py\u001b[0m in \u001b[0;36m_input_request\u001b[1;34m(self, prompt, ident, parent, password)\u001b[0m\n\u001b[0;32m   1049\u001b[0m             \u001b[1;32mexcept\u001b[0m \u001b[0mKeyboardInterrupt\u001b[0m\u001b[1;33m:\u001b[0m\u001b[1;33m\u001b[0m\u001b[1;33m\u001b[0m\u001b[0m\n\u001b[0;32m   1050\u001b[0m                 \u001b[1;31m# re-raise KeyboardInterrupt, to truncate traceback\u001b[0m\u001b[1;33m\u001b[0m\u001b[1;33m\u001b[0m\u001b[1;33m\u001b[0m\u001b[0m\n\u001b[1;32m-> 1051\u001b[1;33m                 \u001b[1;32mraise\u001b[0m \u001b[0mKeyboardInterrupt\u001b[0m\u001b[1;33m(\u001b[0m\u001b[1;34m\"Interrupted by user\"\u001b[0m\u001b[1;33m)\u001b[0m \u001b[1;32mfrom\u001b[0m \u001b[1;32mNone\u001b[0m\u001b[1;33m\u001b[0m\u001b[1;33m\u001b[0m\u001b[0m\n\u001b[0m\u001b[0;32m   1052\u001b[0m             \u001b[1;32mexcept\u001b[0m \u001b[0mException\u001b[0m\u001b[1;33m:\u001b[0m\u001b[1;33m\u001b[0m\u001b[1;33m\u001b[0m\u001b[0m\n\u001b[0;32m   1053\u001b[0m                 \u001b[0mself\u001b[0m\u001b[1;33m.\u001b[0m\u001b[0mlog\u001b[0m\u001b[1;33m.\u001b[0m\u001b[0mwarning\u001b[0m\u001b[1;33m(\u001b[0m\u001b[1;34m\"Invalid Message:\"\u001b[0m\u001b[1;33m,\u001b[0m \u001b[0mexc_info\u001b[0m\u001b[1;33m=\u001b[0m\u001b[1;32mTrue\u001b[0m\u001b[1;33m)\u001b[0m\u001b[1;33m\u001b[0m\u001b[1;33m\u001b[0m\u001b[0m\n",
      "\u001b[1;31mKeyboardInterrupt\u001b[0m: Interrupted by user"
     ]
    }
   ],
   "source": [
    "# 12. Faça um programa que peça o peso e altura de uma pessoa e calcule seu IMC (Índice de Massa Corporal).\n",
    "\n",
    "peso = float(input('digite seu peso em kg:'))\n",
    "altura = float(input('digite sua altura em m:'))\n",
    "\n",
    "print('O seu imc é', peso / (altura**2))"
   ]
  },
  {
   "cell_type": "code",
   "execution_count": 24,
   "id": "a5b2bcc1",
   "metadata": {},
   "outputs": [
    {
     "name": "stdout",
     "output_type": "stream",
     "text": [
      "Qual o valor? 100\n",
      "O novo valor aumentado é 115.00\n",
      "O novo valor com desconto é R$ 85.0\n"
     ]
    }
   ],
   "source": [
    "# 13. Faça um programa que peça um valor monetário e aumente-o em 15%. Seu programa deve imprimir a mensagem “O novo valor é R$[valor]”.\n",
    "valor = float(input('Qual o valor? '))\n",
    "# print('O novo valor aumentado é R$', round(valor*1.15))\n",
    "print('O novo valor aumentado é {:.2f}'.format(valor*1.15))\n",
    "\n",
    "#14. Faça um programa que peça um valor monetário e diminua-o em 15%. Seu programa deve imprimir a mensagem “O novo valor é R$[valor]”.\n",
    "print('O novo valor com desconto é R$', valor*0.85)"
   ]
  },
  {
   "cell_type": "code",
   "execution_count": null,
   "id": "4ea72f9d",
   "metadata": {},
   "outputs": [],
   "source": []
  },
  {
   "cell_type": "markdown",
   "id": "3b58746c",
   "metadata": {},
   "source": [
    "## Desafios"
   ]
  },
  {
   "cell_type": "code",
   "execution_count": 26,
   "id": "ca767ba2",
   "metadata": {},
   "outputs": [
    {
     "name": "stdout",
     "output_type": "stream",
     "text": [
      "Digite a posição inicial: 0\n",
      "Digite a velocidade inicial20\n",
      "Digite um instante no tempo: 2\n",
      "A posicao no instante t = 2.0 é 20.0\n"
     ]
    }
   ],
   "source": [
    "#Desafio 1. Peça para o usuário digitar uma velocidade inicial (em m/s), uma posição inicial (em m) e um instante de tempo (em s) e imprima a posição de um projétil nesse instante de tempo.\n",
    "\n",
    "posicao_inicial = float(input('Digite a posição inicial: '))\n",
    "velocidade_inicial = float(input('Digite a velocidade inicial: '))\n",
    "tempo = float(input('Digite um instante no tempo: '))\n",
    "GRAVIDADE = -10\n",
    "\n",
    "y = posicao_inicial + velocidade_inicial * tempo + 0.5 * GRAVIDADE * tempo**2\n",
    "\n",
    "print('A posicao no instante t =', tempo\n",
    "      , 'é', y)"
   ]
  },
  {
   "cell_type": "code",
   "execution_count": 27,
   "id": "0fcfb3de",
   "metadata": {},
   "outputs": [
    {
     "name": "stdout",
     "output_type": "stream",
     "text": [
      "O horario é 2023-10-09 19:57:10.092579\n"
     ]
    }
   ],
   "source": [
    "# Desafio 2.Faça um programa que informe a data e a hora para o usuário. \n",
    "## Para isso use a função datetime.now() do módulo datetime.\n",
    "\n",
    "import datetime\n",
    "\n",
    "horario = datetime.datetime.now()\n",
    "\n",
    "print('O horario é', horario)\n",
    "\n"
   ]
  }
 ],
 "metadata": {
  "kernelspec": {
   "display_name": "Python 3 (ipykernel)",
   "language": "python",
   "name": "python3"
  },
  "language_info": {
   "codemirror_mode": {
    "name": "ipython",
    "version": 3
   },
   "file_extension": ".py",
   "mimetype": "text/x-python",
   "name": "python",
   "nbconvert_exporter": "python",
   "pygments_lexer": "ipython3",
   "version": "3.9.6"
  }
 },
 "nbformat": 4,
 "nbformat_minor": 5
}
