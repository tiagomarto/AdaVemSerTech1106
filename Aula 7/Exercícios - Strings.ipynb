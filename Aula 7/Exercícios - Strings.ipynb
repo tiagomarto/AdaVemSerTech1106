{
 "cells": [
  {
   "cell_type": "code",
   "execution_count": null,
   "id": "d554ae17",
   "metadata": {},
   "outputs": [],
   "source": [
    "# 1. Faça um programa que pede para o usuário digitar uma palavra e \n",
    "# imprima cada letra em uma linha.\n",
    "\n"
   ]
  },
  {
   "cell_type": "code",
   "execution_count": null,
   "id": "c2c50b27",
   "metadata": {},
   "outputs": [],
   "source": [
    "# 2. Faça um programa que pede para o usuário digitar uma palavra e \n",
    "# cria uma nova string igual, copiando letra por letra a palavra digitada, \n",
    "# depois imprima a nova string.\n",
    "\n"
   ]
  },
  {
   "cell_type": "code",
   "execution_count": null,
   "id": "6c8f463d",
   "metadata": {},
   "outputs": [],
   "source": [
    "# 3. Altere o exercício anterior para que a string copiada alterne entre \n",
    "# letras maiúsculas e minúsculas.\n"
   ]
  },
  {
   "cell_type": "code",
   "execution_count": null,
   "id": "cb4becac",
   "metadata": {},
   "outputs": [],
   "source": [
    "\n",
    "# 4. Faça um programa que pede para o usuário digitar uma palavra e \n",
    "# cria uma nova string igual, porém com espaço entre cada letra, depois \n",
    "# imprima a nova string:\n",
    "\n"
   ]
  },
  {
   "cell_type": "code",
   "execution_count": null,
   "id": "d491711e",
   "metadata": {},
   "outputs": [],
   "source": [
    "# 5. Faça uma função que receba uma string e retorne uma nova string \n",
    "# substituindo:\n",
    "# 'a' por '4'\n",
    "# 'e' por '3'\n",
    "# 'I' por '1'\n",
    "# 't' por '7'\n",
    "\n"
   ]
  },
  {
   "cell_type": "code",
   "execution_count": null,
   "id": "1ffbf452",
   "metadata": {},
   "outputs": [],
   "source": [
    "# 6. Faça uma função que recebe uma string e retorna ela ao contrário.\n",
    "\n"
   ]
  },
  {
   "cell_type": "code",
   "execution_count": null,
   "id": "1819b7e4",
   "metadata": {},
   "outputs": [],
   "source": [
    "# 7. Agora faça uma função que recebe uma palavra e diz se ela é um \n",
    "# palíndromo, ou seja, se ela é igual a ela mesma ao contrário. \n"
   ]
  },
  {
   "cell_type": "code",
   "execution_count": null,
   "id": "30350fee",
   "metadata": {},
   "outputs": [],
   "source": [
    "# 8. Faça uma função que receba um texto e uma palavra, então \n",
    "# verifique se a palavra está no texto, retornando True ou False.\n",
    "# 2 formas:\n",
    "\n"
   ]
  },
  {
   "cell_type": "code",
   "execution_count": null,
   "id": "871b51cd",
   "metadata": {},
   "outputs": [],
   "source": [
    "# 9. Faça uma função que receba uma string que contém tanto números \n",
    "# quanto letras e caracteres especiais, e que separe as letras em uma \n",
    "# variável e os números em outra (os caracteres especiais podem ser \n",
    "# descartados). Ao final a função deve imprimir as duas variáveis.\n"
   ]
  },
  {
   "cell_type": "code",
   "execution_count": 1,
   "id": "444dac0d",
   "metadata": {},
   "outputs": [],
   "source": [
    "# Desafio 1.  Faça uma função que receba uma string e uma letra e:\n",
    "# a.  imprima quantas vezes a letra aparece na string;\n",
    "# b.  imprima todas as posições em que a letra aparece na string;\n",
    "# c.  retorne a distância entre a primeira e a última aparição dessa \n",
    "# letra na string.\n",
    "\n",
    "\n"
   ]
  },
  {
   "cell_type": "code",
   "execution_count": null,
   "id": "aeac3586",
   "metadata": {},
   "outputs": [],
   "source": []
  },
  {
   "cell_type": "code",
   "execution_count": null,
   "id": "4728179b",
   "metadata": {},
   "outputs": [],
   "source": []
  },
  {
   "cell_type": "code",
   "execution_count": null,
   "id": "be1802d3",
   "metadata": {},
   "outputs": [],
   "source": []
  }
 ],
 "metadata": {
  "kernelspec": {
   "display_name": "Python 3 (ipykernel)",
   "language": "python",
   "name": "python3"
  },
  "language_info": {
   "codemirror_mode": {
    "name": "ipython",
    "version": 3
   },
   "file_extension": ".py",
   "mimetype": "text/x-python",
   "name": "python",
   "nbconvert_exporter": "python",
   "pygments_lexer": "ipython3",
   "version": "3.9.6"
  }
 },
 "nbformat": 4,
 "nbformat_minor": 5
}
