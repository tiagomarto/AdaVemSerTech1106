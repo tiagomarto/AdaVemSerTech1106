{
 "cells": [
  {
   "cell_type": "markdown",
   "id": "77cdea31",
   "metadata": {},
   "source": [
    "## Exercícios da aula passada"
   ]
  },
  {
   "cell_type": "code",
   "execution_count": null,
   "id": "b9e7d535",
   "metadata": {},
   "outputs": [],
   "source": [
    "# 5. Faça um programa que leia a validade das informações:\n",
    "#a.Idade: entre 0 e 150;\n",
    "\n",
    "    \n",
    "#b.Salario: maior que 0;\n",
    "\n",
    "\n",
    "\n",
    "#c.Sexo: M ou F;\n"
   ]
  },
  {
   "cell_type": "code",
   "execution_count": null,
   "id": "e2a3d02e",
   "metadata": {},
   "outputs": [],
   "source": [
    "# 6. Escreva um programa que peça a nota de 3 provas de um aluno \n",
    "# e verifique se ele passou ou não de ano.\n",
    "\n"
   ]
  },
  {
   "cell_type": "code",
   "execution_count": null,
   "id": "020614b1",
   "metadata": {},
   "outputs": [],
   "source": [
    "# 7. Faça um programa que mostre uma questão de múltipla escolha \n",
    "# com 5 opções (letras a, b, c, d, e).\n",
    "\n"
   ]
  },
  {
   "cell_type": "markdown",
   "id": "f0a7805d",
   "metadata": {},
   "source": [
    "8. Vamos fazer um programa para verificar quem é o assassino de um crime. Para descobrir o assassino, a polícia faz um pequeno questionário com 5 perguntas onde a resposta só pode ser sim ou não:\n",
    "\n",
    "a. Mora perto da vítima?\n",
    "\n",
    "b. Já trabalhou com a vítima? \n",
    "\n",
    "c. Telefonou para a vítima?\n",
    "\n",
    "d. Esteve no local do crime?\n",
    "\n",
    "e. Devia para a vítima?\n",
    "\n",
    "Cada resposta sim dá um ponto para o suspeito. A polícia considera\n",
    "que os suspeitos com 5 pontos são os assassinos, com 4 a 3 pontos são\n",
    "cúmplices e 2 pontos são apenas suspeitos, necessitando outras\n",
    "investigações. Valores abaixo de 1 são liberados. \n",
    "\n",
    "\n"
   ]
  },
  {
   "cell_type": "code",
   "execution_count": null,
   "id": "fc036b34",
   "metadata": {},
   "outputs": [],
   "source": []
  },
  {
   "cell_type": "markdown",
   "id": "77d68588",
   "metadata": {},
   "source": [
    " 9.  Um produto vai sofrer aumento de acordo com a Tabela 1 abaixo. Faça\n",
    "um programa que peça para o usuário digitar o valor do produto de\n",
    "acordo com o preço antigo e escreva uma das mensagens da Tabela\n",
    "2, de acordo com o preço reajustado: \n",
    "\n",
    "![tabela_1](https://s3-sa-east-1.amazonaws.com/lcpi/ea3f2097-6c1a-4560-a632-d96508e81d09.png)\n",
    "\n",
    "\n",
    "![tabela 2](https://s3-sa-east-1.amazonaws.com/lcpi/472a59db-16eb-4f65-a99a-df81a7dbed2f.png)\n",
    "\n",
    "\n",
    "\n",
    "Será que conseguimos escrever o problema acima de uma forma mais fácil?\n"
   ]
  },
  {
   "cell_type": "code",
   "execution_count": 1,
   "id": "c1bd7b2c",
   "metadata": {},
   "outputs": [],
   "source": [
    "# Desafio 1. Faça um programa que leia 3 números e informe o maior deles.\n",
    "\n"
   ]
  },
  {
   "cell_type": "code",
   "execution_count": null,
   "id": "ef3f995a",
   "metadata": {},
   "outputs": [],
   "source": [
    "# Desafio 2. Faça o mesmo programa do exercício anterior, \n",
    "# porém com 4 números.\n"
   ]
  },
  {
   "cell_type": "markdown",
   "id": "8a7e4759",
   "metadata": {},
   "source": [
    "Desafio 3. Um hospital quer fazer o diagnóstico de gripe ou dengue a partir de um questionário de sintomas, tendo as perguntas abaixo, faça um programa que faça o diagnóstico deste hospital:\n",
    "\n",
    "a. Sente dor no corpo?\n",
    "\n",
    "b. Você tem febre?\n",
    "\n",
    "c. Você tem tosse?\n",
    "\n",
    "d. Está com congestão nasal?\n",
    "\n",
    "e. Tem manchas pelo corpo?\n",
    "\n",
    "Para o diagnóstico ele tem a seguinte tabela:\n",
    "\n",
    "![Tabela Gripe](https://s3-sa-east-1.amazonaws.com/lcpi/efd600f9-f8fa-4d68-83d0-945d9e5496bb.png)\n"
   ]
  },
  {
   "cell_type": "markdown",
   "id": "095daecc",
   "metadata": {},
   "source": [
    "## Aula 3 - Repetições"
   ]
  },
  {
   "cell_type": "code",
   "execution_count": null,
   "id": "e18a1b04",
   "metadata": {},
   "outputs": [],
   "source": [
    "# Agora a pouco, fizemos o exercício do maior de 3 numeros\n",
    "\n"
   ]
  },
  {
   "cell_type": "code",
   "execution_count": null,
   "id": "8fa9c4d7",
   "metadata": {},
   "outputs": [],
   "source": []
  },
  {
   "cell_type": "markdown",
   "id": "623b7267",
   "metadata": {},
   "source": [
    "Pensando em validações também\n",
    "\n",
    "Um **if** não garante que eu consigo validar o valor de um campo pois se o usuário não acertar na 2a vez, ele seguirá inválido"
   ]
  },
  {
   "cell_type": "code",
   "execution_count": null,
   "id": "87031dc4",
   "metadata": {},
   "outputs": [],
   "source": []
  },
  {
   "cell_type": "code",
   "execution_count": null,
   "id": "b8abf97e",
   "metadata": {},
   "outputs": [],
   "source": []
  },
  {
   "cell_type": "markdown",
   "id": "cf969b11",
   "metadata": {},
   "source": [
    "Pensando de forma geral, todo tipo de código que deve se repetir várias vezes pode ser feito\n",
    "\n",
    "com o while, como somar vários valores, gerar uma sequência etc."
   ]
  },
  {
   "cell_type": "code",
   "execution_count": null,
   "id": "8ec100ad",
   "metadata": {},
   "outputs": [],
   "source": []
  },
  {
   "cell_type": "code",
   "execution_count": null,
   "id": "320e376e",
   "metadata": {},
   "outputs": [],
   "source": []
  },
  {
   "cell_type": "markdown",
   "id": "44085bc3",
   "metadata": {},
   "source": [
    "**PONTO DE ATENÇÃO** \n",
    "Variáveis mudam ativamente de valor durante a execução de um código. Não lembrar disso dá varios nós na cabeça (principalmente pra quem ta começando agora)\n",
    "\n",
    "**Dica** Se o python está te apresentando um código com a estrutura abaixo, lembre-se da ordem de execução\n",
    "\n",
    "a = a + 1\n",
    "\n",
    "1. Avalio a expressão que está a direita do igual\n",
    "2. Atribuo o valor para a variável a esquerda do igual\n",
    "\n",
    "Exemplo disso aqui -> Contador"
   ]
  },
  {
   "cell_type": "code",
   "execution_count": null,
   "id": "8ca8f3a1",
   "metadata": {},
   "outputs": [],
   "source": []
  },
  {
   "cell_type": "code",
   "execution_count": null,
   "id": "249e0619",
   "metadata": {},
   "outputs": [],
   "source": []
  },
  {
   "cell_type": "code",
   "execution_count": null,
   "id": "6b5d55a2",
   "metadata": {},
   "outputs": [],
   "source": []
  }
 ],
 "metadata": {
  "kernelspec": {
   "display_name": "Python 3 (ipykernel)",
   "language": "python",
   "name": "python3"
  },
  "language_info": {
   "codemirror_mode": {
    "name": "ipython",
    "version": 3
   },
   "file_extension": ".py",
   "mimetype": "text/x-python",
   "name": "python",
   "nbconvert_exporter": "python",
   "pygments_lexer": "ipython3",
   "version": "3.9.6"
  }
 },
 "nbformat": 4,
 "nbformat_minor": 5
}
