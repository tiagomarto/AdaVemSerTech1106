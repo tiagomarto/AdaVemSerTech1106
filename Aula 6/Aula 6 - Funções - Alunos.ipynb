{
 "cells": [
  {
   "cell_type": "markdown",
   "id": "5417c7c2",
   "metadata": {},
   "source": [
    "## Exercícios da aula passada:"
   ]
  },
  {
   "cell_type": "code",
   "execution_count": null,
   "id": "57e84c3a",
   "metadata": {},
   "outputs": [],
   "source": []
  },
  {
   "cell_type": "markdown",
   "id": "a4de2858",
   "metadata": {},
   "source": [
    "## Funções"
   ]
  },
  {
   "cell_type": "markdown",
   "id": "a653faf6",
   "metadata": {},
   "source": [
    "Imagine você que toda vez que quisermos validar um CPF temos que copiar e colar todo esse montão de código. Ainda que seja possível, não é muito funcional. Para resolver esse problema. Surgem as funções!\n",
    "\n",
    "Funções são uma espécie de \"subprograma\".\n",
    "Elas são como pequenos pedacinhos de programa que podem ser chamadas pelo nome.\n",
    "\n",
    "Para criar uma função usamos o comando \"def\" e o nome da função.\n",
    "\n",
    "Elas são um bloco de comando como if/elif/else, while e for, então pedem : e também identação"
   ]
  },
  {
   "cell_type": "code",
   "execution_count": null,
   "id": "1af3b034",
   "metadata": {},
   "outputs": [],
   "source": []
  },
  {
   "cell_type": "markdown",
   "id": "2ae7fd77",
   "metadata": {},
   "source": [
    "Quando uma função é chamada pelo nome, o fluxo do programa é interrompido. Em seguida, a função inteira é executada, ao final dela, o programa volta a ser executado de onde parou"
   ]
  },
  {
   "cell_type": "code",
   "execution_count": null,
   "id": "c9191a23",
   "metadata": {},
   "outputs": [],
   "source": []
  },
  {
   "cell_type": "markdown",
   "id": "25d89c9a",
   "metadata": {},
   "source": [
    "É possível passarmos informações para uma função.\n",
    "\n",
    "Chamamos essas informações de **\"parâmetros\"** ou **\"argumentos**.\n",
    "\n",
    "Na definição da função, daremos nome a esses parâmetros.\n",
    "\n",
    "Dentro da função, eles serão tratados como se fossem variáveis"
   ]
  },
  {
   "cell_type": "code",
   "execution_count": null,
   "id": "af61b13a",
   "metadata": {},
   "outputs": [],
   "source": []
  },
  {
   "cell_type": "markdown",
   "id": "18360a1d",
   "metadata": {},
   "source": [
    "Ao chamarmos a nossa funcao, passamos os parâmetros entre parênteses.\n",
    "\n",
    "O nome ou valor passado **não precisam** ser iguais aos declarados na função!\n",
    "\n",
    "O nome do parâmetro interno da função é um \"apelido\" que a função dará\n",
    "para o valor ou variável que passamos."
   ]
  },
  {
   "cell_type": "code",
   "execution_count": null,
   "id": "d3dfed3f",
   "metadata": {},
   "outputs": [],
   "source": []
  },
  {
   "cell_type": "markdown",
   "id": "c65b65c3",
   "metadata": {},
   "source": [
    "Uma função pode receber vários parâmetros separados por vírgula\n"
   ]
  },
  {
   "cell_type": "code",
   "execution_count": null,
   "id": "b72d75c6",
   "metadata": {},
   "outputs": [],
   "source": []
  },
  {
   "cell_type": "markdown",
   "id": "e1835e81",
   "metadata": {},
   "source": [
    "Podemos passar parâmetros fora de ordem, mas para isso precisamos explicitar qual parâmetro estamos passando, para evitar ambiguidade ou erros de interpretação do Python"
   ]
  },
  {
   "cell_type": "code",
   "execution_count": null,
   "id": "2848981c",
   "metadata": {},
   "outputs": [],
   "source": []
  },
  {
   "cell_type": "markdown",
   "id": "8c0f2607",
   "metadata": {},
   "source": [
    "Uma função pode ter uma \"resposta\". \n",
    "\n",
    "Por exemplo, nossa função pode ser uma conta, e o resultado da conta pode ser útil em nosso programa.\n",
    "\n",
    "Dizemos que essas funções \"retornam\" um valor. Utilizamos a palavra \"return\" para fazer uma função retornar sua resposta.\n",
    "\n",
    "Quando uma função retorna um valor, ela pode ser usada em expressões matemáticas e lógicas, ter seu valor atribuido a uma variável etc."
   ]
  },
  {
   "cell_type": "code",
   "execution_count": null,
   "id": "4e8c2be7",
   "metadata": {},
   "outputs": [],
   "source": []
  },
  {
   "cell_type": "code",
   "execution_count": null,
   "id": "4afe4465",
   "metadata": {},
   "outputs": [],
   "source": []
  }
 ],
 "metadata": {
  "kernelspec": {
   "display_name": "Python 3 (ipykernel)",
   "language": "python",
   "name": "python3"
  },
  "language_info": {
   "codemirror_mode": {
    "name": "ipython",
    "version": 3
   },
   "file_extension": ".py",
   "mimetype": "text/x-python",
   "name": "python",
   "nbconvert_exporter": "python",
   "pygments_lexer": "ipython3",
   "version": "3.9.6"
  }
 },
 "nbformat": 4,
 "nbformat_minor": 5
}
