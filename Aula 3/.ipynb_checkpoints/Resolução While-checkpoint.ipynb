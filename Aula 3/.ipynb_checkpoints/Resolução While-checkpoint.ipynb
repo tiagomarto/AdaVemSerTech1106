{
 "cells": [
  {
   "cell_type": "code",
   "execution_count": 1,
   "id": "c5d81316",
   "metadata": {},
   "outputs": [
    {
     "name": "stdout",
     "output_type": "stream",
     "text": [
      "Digite um número: 1\n",
      "1\n"
     ]
    }
   ],
   "source": [
    "## Exercícios - While\n",
    "\n",
    "# 1. Faça um programa que peça ao usuário um número e imprima todos os números de um até o número dado.\n",
    "num = int(input(\"Digite um número: \"))\n",
    "i = 0\n",
    "while i < num:\n",
    "    i = i + 1\n",
    "    print(i)"
   ]
  },
  {
   "cell_type": "code",
   "execution_count": null,
   "id": "2c063e6a",
   "metadata": {},
   "outputs": [],
   "source": [
    "# 2. Peça ao usuário para digitar um número n e some todos os números de 1 a n.\n",
    "num = int(input(\"Digite um número: \"))\n",
    "i = 0\n",
    "soma = 0\n",
    "while i < num:\n",
    "    i = i + 1\n",
    "    soma = soma + i\n",
    "\n",
    "print(\"A soma de todos os número de 1 a\", num, \"é\", soma)"
   ]
  },
  {
   "cell_type": "code",
   "execution_count": null,
   "id": "9477cfa6",
   "metadata": {},
   "outputs": [],
   "source": [
    "# 3. Peça ao usuário para digitar um número e imprima o fatorial de n.\n",
    "num = int(input(\"Digite um número: \"))\n",
    "i = 0\n",
    "fatorial = 1\n",
    "\n",
    "while i < num:\n",
    "    i = i + 1\n",
    "    fatorial = fatorial * i\n",
    "\n",
    "print(\"O fatorial de\", num, \"é\", fatorial)"
   ]
  },
  {
   "cell_type": "code",
   "execution_count": null,
   "id": "717e9126",
   "metadata": {},
   "outputs": [],
   "source": [
    "i = 0\n",
    "while i < 10:\n",
    "    i = i + 1\n",
    "    print(\"9 x\", i, \"=\", i*9)"
   ]
  },
  {
   "cell_type": "code",
   "execution_count": null,
   "id": "77968e79",
   "metadata": {},
   "outputs": [],
   "source": [
    "# 5. 5. Faça um programa que recebe um número inteiro do usuário e imprime na tela a quantidade de divisores desse número e quais são eles.\n",
    "num = int(input(\"Digite um número: \"))\n",
    "div = 1\n",
    "while div <= num:\n",
    "    if num % div == 0:\n",
    "        print(div, \"é divisor do número\")\n",
    "    div = div + 1\n"
   ]
  },
  {
   "cell_type": "code",
   "execution_count": null,
   "id": "d2a31bd4",
   "metadata": {},
   "outputs": [],
   "source": [
    "# 6. Faça um programa, usando loops, que peça para um usuário digitar um número e que só finaliza quando o usuário digitar 0. Ao final imprima a soma de todos os números digitados.\n",
    "num = int(input(\"Digite um número. Para sair, digite 0: \"))\n",
    "soma = 0\n",
    "while num != 0:\n",
    "    soma = soma + num\n",
    "    num = int(input(\"Digite um número. Para sair, digite 0: \"))\n",
    "print(\"A soma é\", soma)"
   ]
  },
  {
   "cell_type": "code",
   "execution_count": null,
   "id": "0ff3132a",
   "metadata": {},
   "outputs": [],
   "source": [
    "# 7. Faça um programa que sorteia um número N e peça para o usuário adivinhar o número sorteado. A cada resposta errada, o seu programa deve imprimir um aviso dizendo que a resposta está errada e pedir novamente uma resposta ao usuário.\n",
    "\n",
    "# Forma de gerar um numero pseudoaleatório:\n",
    "\n",
    "import random\n",
    "# no_aleatorio = random.randint(0,10) # gera um número inteiro aleatório entre 0 e 10\n",
    "\n",
    "# Dica: para testar o programa, defina um no_aleatorio manualmente, como mostrado abaixo.\n",
    "\n",
    "no_aleatorio = 14\n",
    "numero = int(input(\"Digite um número: \"))\n",
    "while numero != no_aleatorio:\n",
    "    print(\"Resposta errada!\")\n",
    "    numero = int(input(\"Digite outro número: \"))\n",
    "print(\"Resposta correta, o número sorteado foi\", no_aleatorio)"
   ]
  },
  {
   "cell_type": "code",
   "execution_count": null,
   "id": "8c0c25e5",
   "metadata": {},
   "outputs": [],
   "source": [
    "# 8. Faça um programa que peça para o usuário digitar a idade, o salário e o sexo até que as entradas digitadas sejam válidas\n",
    "\n",
    "idade = int(input(\"Digite a idade: \"))\n",
    "while idade < 0 or idade >= 150:\n",
    "    print(\"Idade inválida.\")\n",
    "    idade = int(input(\"Digite a idade: \"))\n",
    "\n",
    "salario = int(input(\"Digite o salário: \"))\n",
    "while salario < 0:\n",
    "    print(\"Salário inválido.\")\n",
    "    salario = int(input(\"Digite o salário: \"))\n",
    "\n",
    "sexo = input(\"Digite o sexo (F/M/Outro): \")\n",
    "# 2 exemplos de expressões booleanas válidas pra esse teste\n",
    "# while sexo != 'M' and sexo != 'F' and sexo != 'Outro':\n",
    "while not (sexo == 'M' or sexo == 'F' or sexo == 'Outro'):\n",
    "    print(\"Sexo inválido.\")\n",
    "    sexo = input(\"Digite o sexo: \")\n"
   ]
  },
  {
   "cell_type": "code",
   "execution_count": null,
   "id": "493df312",
   "metadata": {},
   "outputs": [],
   "source": [
    "# Desafio 1. Calcule a soma de até mil termos da série 1 + 1/2 + 1/4 + 1/8 + 1/16 + ... \n",
    "\n",
    "contador = 0\n",
    "soma = 1 # Já considerando o primeito termo\n",
    "termo = 1\n",
    "\n",
    "while contador < 1000:\n",
    "    termo /= 2    # Divide o termo atual por 2\n",
    "    soma += termo # Soma o termo atual\n",
    "    contador += 1\n",
    "\n",
    "print(\"Como esperado, essa soma converge para\", soma)"
   ]
  },
  {
   "cell_type": "code",
   "execution_count": null,
   "id": "7c54edb2",
   "metadata": {},
   "outputs": [],
   "source": [
    "# Desafio 2. Calcule a soma de mil termos dos inversos dos fatoriais: 1/(1!) + 1/(2!) + 1/(3!) + 1/(4!) + ...\n",
    "\n",
    "contador = 1 # Começamos em 1 para não dividirmos por 0\n",
    "soma = 0\n",
    "termo = 1\n",
    "\n",
    "while contador < 1000:\n",
    "    termo /= contador # Se dividirmos pelo contador, formamos o fatorial até aquele termo\n",
    "    soma += termo # Soma o termo atual\n",
    "    contador += 1\n",
    "\n",
    "print(\"Como esperado, essa soma converge para\", soma)"
   ]
  },
  {
   "cell_type": "code",
   "execution_count": null,
   "id": "a4045229",
   "metadata": {},
   "outputs": [],
   "source": []
  },
  {
   "cell_type": "code",
   "execution_count": null,
   "id": "e56ae026",
   "metadata": {},
   "outputs": [],
   "source": []
  },
  {
   "cell_type": "code",
   "execution_count": null,
   "id": "9fd54e8f",
   "metadata": {},
   "outputs": [],
   "source": []
  }
 ],
 "metadata": {
  "kernelspec": {
   "display_name": "Python 3 (ipykernel)",
   "language": "python",
   "name": "python3"
  },
  "language_info": {
   "codemirror_mode": {
    "name": "ipython",
    "version": 3
   },
   "file_extension": ".py",
   "mimetype": "text/x-python",
   "name": "python",
   "nbconvert_exporter": "python",
   "pygments_lexer": "ipython3",
   "version": "3.9.6"
  }
 },
 "nbformat": 4,
 "nbformat_minor": 5
}
