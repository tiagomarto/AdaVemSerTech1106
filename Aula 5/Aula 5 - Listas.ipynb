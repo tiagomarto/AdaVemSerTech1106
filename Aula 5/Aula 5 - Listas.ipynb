{
 "cells": [
  {
   "cell_type": "code",
   "execution_count": 1,
   "id": "5f3eb285",
   "metadata": {},
   "outputs": [
    {
     "name": "stdout",
     "output_type": "stream",
     "text": [
      "Digite um numero: 12\n",
      "Digite um numero: 13\n",
      "Digite um numero: 14\n",
      "Digite um numero: 0\n"
     ]
    }
   ],
   "source": [
    "## Quero um programa em que a pessoa digita quantos numeros ela quiser e eu digo o SEGUNDO maior\n",
    "\n",
    "numero = int(input('Digite um numero: '))\n",
    "maior = numero\n",
    "numero = int(input('Digite um numero: '))\n",
    "\n",
    "if (numero > maior):\n",
    "    segundo_maior = maior\n",
    "    maior = numero\n",
    "    \n",
    "while (numero != 0):\n",
    "    numero = int(input('Digite um numero: '))\n",
    "\n",
    "    if (numero > maior):\n",
    "        segundo_maior = maior\n",
    "        maior = numero\n",
    "    elif (numero > segundo_maior):\n",
    "        segundo_maior = numero"
   ]
  },
  {
   "cell_type": "code",
   "execution_count": 2,
   "id": "d7a3c147",
   "metadata": {},
   "outputs": [],
   "source": [
    "## Listas são coleções de objetos em Python\n",
    "## Ao invés de declarmos 1 variável para cada valor que gostaríamos de armazenar\n",
    "## Podemos criar uma lista para armazenar vários valores\n",
    "## Listas são representadas por []"
   ]
  },
  {
   "cell_type": "code",
   "execution_count": 3,
   "id": "de98700f",
   "metadata": {},
   "outputs": [],
   "source": [
    "lista_1 = []\n",
    "lista_2 = [1, 2, 3, 4]\n",
    "lista_3 = list() # criando uma lista vazia"
   ]
  },
  {
   "cell_type": "code",
   "execution_count": 77,
   "id": "23aac008",
   "metadata": {},
   "outputs": [],
   "source": [
    "lista_4 = [1, 2.5, 3, 4]\n",
    "lista_5 = [1, 2.0, 'três', True]\n",
    "lista_6 = [1, [2, 3]] # lista dentro de lista"
   ]
  },
  {
   "cell_type": "code",
   "execution_count": 5,
   "id": "f50c3383",
   "metadata": {},
   "outputs": [
    {
     "name": "stdout",
     "output_type": "stream",
     "text": [
      "<class 'list'>\n"
     ]
    }
   ],
   "source": [
    "print(type(lista_5))"
   ]
  },
  {
   "cell_type": "code",
   "execution_count": 6,
   "id": "c72443c8",
   "metadata": {},
   "outputs": [],
   "source": [
    "lista =   [1, 3, 5, 7, 9, 11, 13, 15, 17, 19, 21]\n",
    "# índices  0  1  2  3  4   5   6   7   8   9  10\n",
    "# índice => posição dos elementos nessa lista (no python SEMPRE começa em 0)\n",
    "\n",
    "#"
   ]
  },
  {
   "cell_type": "code",
   "execution_count": 7,
   "id": "1de19c7b",
   "metadata": {},
   "outputs": [],
   "source": [
    "## Lista tem VALORES e INDICES\n",
    "## Valor -> O que está salvo na posicao"
   ]
  },
  {
   "cell_type": "code",
   "execution_count": 8,
   "id": "e195f090",
   "metadata": {},
   "outputs": [
    {
     "name": "stdout",
     "output_type": "stream",
     "text": [
      "[1, 3, 5, 7, 9, 11, 13, 15, 17, 19, 21]\n"
     ]
    }
   ],
   "source": [
    "print(lista)"
   ]
  },
  {
   "cell_type": "code",
   "execution_count": 9,
   "id": "8650e893",
   "metadata": {},
   "outputs": [],
   "source": [
    "## Acessamos cada elemento da lista através de um indice entre os colchetes"
   ]
  },
  {
   "cell_type": "code",
   "execution_count": 10,
   "id": "dc06304e",
   "metadata": {},
   "outputs": [
    {
     "name": "stdout",
     "output_type": "stream",
     "text": [
      "9\n"
     ]
    }
   ],
   "source": [
    "print(lista[4])"
   ]
  },
  {
   "cell_type": "code",
   "execution_count": 11,
   "id": "170ee602",
   "metadata": {},
   "outputs": [
    {
     "name": "stdout",
     "output_type": "stream",
     "text": [
      "[1, 3, 5, 7, 5, 11, 13, 15, 17, 19, 21]\n"
     ]
    }
   ],
   "source": [
    "## Associado a ideia de que eu posso acessar os elementos individualmente\n",
    "## Posso ALTERAR os elementos individualmente\n",
    "## fazer uma atribuição em uma posição\n",
    "lista[4] = 5\n",
    "print(lista)"
   ]
  },
  {
   "cell_type": "code",
   "execution_count": 12,
   "id": "4aef2cec",
   "metadata": {},
   "outputs": [
    {
     "name": "stdout",
     "output_type": "stream",
     "text": [
      "21\n",
      "19\n"
     ]
    }
   ],
   "source": [
    "## Posso acessar cada elemento da lista ao contrário\n",
    "print(lista[-1]) ## Traz o ULTIMO elemento\n",
    "print(lista[-2]) ## Traz o PENULTIMO elemento"
   ]
  },
  {
   "cell_type": "code",
   "execution_count": 13,
   "id": "473bc11a",
   "metadata": {},
   "outputs": [
    {
     "ename": "IndexError",
     "evalue": "list index out of range",
     "output_type": "error",
     "traceback": [
      "\u001b[1;31m---------------------------------------------------------------------------\u001b[0m",
      "\u001b[1;31mIndexError\u001b[0m                                Traceback (most recent call last)",
      "\u001b[1;32m~\\AppData\\Local\\Temp/ipykernel_1700/1450917141.py\u001b[0m in \u001b[0;36m<module>\u001b[1;34m\u001b[0m\n\u001b[1;32m----> 1\u001b[1;33m \u001b[0mprint\u001b[0m\u001b[1;33m(\u001b[0m\u001b[0mlista\u001b[0m\u001b[1;33m[\u001b[0m\u001b[1;36m15\u001b[0m\u001b[1;33m]\u001b[0m\u001b[1;33m)\u001b[0m \u001b[1;31m## Se eu tento acessar uma posicao que nao existe eu estouro o indice\u001b[0m\u001b[1;33m\u001b[0m\u001b[1;33m\u001b[0m\u001b[0m\n\u001b[0m",
      "\u001b[1;31mIndexError\u001b[0m: list index out of range"
     ]
    }
   ],
   "source": [
    "print(lista[15]) ## Se eu tento acessar uma posicao que nao existe eu estouro o indice"
   ]
  },
  {
   "cell_type": "code",
   "execution_count": 14,
   "id": "f11f533a",
   "metadata": {},
   "outputs": [
    {
     "name": "stdout",
     "output_type": "stream",
     "text": [
      "<class 'int'>\n"
     ]
    }
   ],
   "source": [
    "print(type(lista[1]))"
   ]
  },
  {
   "cell_type": "code",
   "execution_count": 20,
   "id": "7de04cd1",
   "metadata": {},
   "outputs": [
    {
     "name": "stdout",
     "output_type": "stream",
     "text": [
      "[1, 3, 5, 7, 5, 11, 13, 15, 17, 19, 21]\n",
      "[5, 7, 5, 11]\n",
      "[1, 3, 5]\n",
      "[7, 5, 11, 13, 15, 17, 19, 21]\n",
      "[1, 5, 5, 13, 17, 21]\n"
     ]
    }
   ],
   "source": [
    "## Acessar listas usando SLICING\n",
    "## Parecido com a função RANGE\n",
    "## Pode receber 3 informações\n",
    "## Começo (inclui)\n",
    "## Final (excludente)\n",
    "## Passo\n",
    "\n",
    "print(lista[:]) ## lista[começo:final:1]\n",
    "\n",
    "print(lista[2:6]) ## Os elementos entre o indice 2 e o indice 5\n",
    "print(lista[:3]) ## Se nao coloco o numero antes do : quer dizer desde o começo\n",
    "print(lista[3:]) ## Se eu não coloco depois do : quer dizer até o final\n",
    "\n",
    "print(lista[::2]) ## O ultimo dois pontos separa o final do passo\n"
   ]
  },
  {
   "cell_type": "code",
   "execution_count": 23,
   "id": "0953a20a",
   "metadata": {},
   "outputs": [
    {
     "name": "stdout",
     "output_type": "stream",
     "text": [
      "Digite o passo: -1\n",
      "[21, 19, 17, 15, 13, 11, 5, 7, 5, 3, 1]\n"
     ]
    }
   ],
   "source": [
    "passo = int(input('Digite o passo: '))\n",
    "print(lista[::passo])"
   ]
  },
  {
   "cell_type": "markdown",
   "id": "7694a312",
   "metadata": {},
   "source": [
    "## Percorrer a lista"
   ]
  },
  {
   "cell_type": "markdown",
   "id": "ff066636",
   "metadata": {},
   "source": [
    "**Maneiras de percorrer uma lista**\n",
    "\n",
    "numeros = [1, 3, 5, 7, 9]\n",
    "\n",
    "- Usando while\n",
    "\n",
    "Pros: Eu sei não só o elemento mas sei o indice também   \n",
    "Contra: Eu preciso controlar o índice\n",
    "\n",
    "```python\n",
    "contador = 0\n",
    "while (contador < len(numeros)):\n",
    "    print(numeros[contador])\n",
    "    contador = contador + 1  Se eu esquecer essa linha vira um loop infinito\n",
    "```\n",
    "\n",
    "\n",
    "- Jeito intermediario: for in range\n",
    "\n",
    "Pros: Sei o indice, não preciso controlar o loop  \n",
    "Contra: Precisa saber usar a função range  \n",
    "range(5) ->  [0, 1, 2, 3, 4]\n",
    "\n",
    "```python\n",
    "numeros = [1, 3, 5, 7, 9]\n",
    "for indice in range(len(numeros)):\n",
    "    print(numeros[indice])\n",
    "```\n",
    "\n",
    "\n",
    "- Usando só for (sem índice)\n",
    "\n",
    "Pros: não preciso me preocupar com o índice e nem com loop  \n",
    "Contra: não sei índice\n",
    "\n",
    "```python\n",
    "numeros = [1, 3, 5, 7, 9]\n",
    "for numero in numeros:        numero é uma especie de variavel temporaria, usamos item, elemento, etc\n",
    "    print(numero)\n",
    "```"
   ]
  },
  {
   "cell_type": "code",
   "execution_count": 24,
   "id": "6b147910",
   "metadata": {},
   "outputs": [],
   "source": [
    "numeros = [1, 3, 5, 7, 9]"
   ]
  },
  {
   "cell_type": "code",
   "execution_count": 25,
   "id": "79990ffa",
   "metadata": {},
   "outputs": [
    {
     "name": "stdout",
     "output_type": "stream",
     "text": [
      "1\n",
      "3\n",
      "5\n",
      "7\n",
      "9\n"
     ]
    }
   ],
   "source": [
    "## Usando while\n",
    "## Pros: Eu sei indices e elementos\n",
    "## Contras: Eu preciso controlar o indice\n",
    "\n",
    "contador = 0\n",
    "while (contador < len(numeros)):\n",
    "    print(numeros[contador])\n",
    "    contador = contador + 1"
   ]
  },
  {
   "cell_type": "code",
   "execution_count": 35,
   "id": "88413f28",
   "metadata": {},
   "outputs": [
    {
     "name": "stdout",
     "output_type": "stream",
     "text": [
      "[0, 0, 0, 0, 0]\n"
     ]
    }
   ],
   "source": [
    "## pegue uma lista de numeros e transforme TODOS em zero\n",
    "\n",
    "contador = 0\n",
    "while (contador < len(numeros)):\n",
    "    numeros[contador] = 0\n",
    "    contador = contador + 1\n",
    "print(numeros)"
   ]
  },
  {
   "cell_type": "code",
   "execution_count": 26,
   "id": "3a51c295",
   "metadata": {},
   "outputs": [
    {
     "name": "stdout",
     "output_type": "stream",
     "text": [
      "1\n",
      "3\n",
      "5\n",
      "7\n",
      "9\n"
     ]
    }
   ],
   "source": [
    "## Usando for -> É uma função de repeticao (loop) que utiliza os elementos da lista\n",
    "## Pros: Eu não preciso controlar indice\n",
    "## Contras: Eu não consigo alterar o valor oficial\n",
    "\n",
    "numeros = [1, 3, 5, 7, 9]\n",
    "for numero in numeros:\n",
    "    print(numero)"
   ]
  },
  {
   "cell_type": "code",
   "execution_count": 34,
   "id": "25105d59",
   "metadata": {},
   "outputs": [
    {
     "name": "stdout",
     "output_type": "stream",
     "text": [
      "Tiago\n",
      "Rodrigo\n",
      "Antonio\n"
     ]
    }
   ],
   "source": [
    "nomes = ['Tiago', 'Rodrigo', 'Antonio' ]\n",
    "for elemento in nomes:\n",
    "    print(elemento)"
   ]
  },
  {
   "cell_type": "code",
   "execution_count": 36,
   "id": "84289253",
   "metadata": {},
   "outputs": [
    {
     "name": "stdout",
     "output_type": "stream",
     "text": [
      "[1, 3, 5, 7, 9]\n"
     ]
    }
   ],
   "source": [
    "## pegue uma lista de numeros e transforme TODOS em zero\n",
    "numeros = [1, 3, 5, 7, 9]\n",
    "for numero in numeros:\n",
    "    numero = 0\n",
    "print(numeros)"
   ]
  },
  {
   "cell_type": "code",
   "execution_count": 37,
   "id": "49393c6f",
   "metadata": {},
   "outputs": [],
   "source": [
    "## Usando for in range -> jeito intermediario\n",
    "## Pros: Sei o indice, não preciso controlar o contador\n",
    "## Contras: preciso saber a função range"
   ]
  },
  {
   "cell_type": "code",
   "execution_count": null,
   "id": "1a000dca",
   "metadata": {},
   "outputs": [],
   "source": [
    "## A função range pode ser usada\n",
    "## range(5) -> vou do 0 até o 5 de um em um (o 5 não entra)\n",
    "## range(5) é como se fosse a lista [0, 1, 2, 3, 4]"
   ]
  },
  {
   "cell_type": "code",
   "execution_count": 40,
   "id": "239b2cb8",
   "metadata": {},
   "outputs": [
    {
     "name": "stdout",
     "output_type": "stream",
     "text": [
      "1\n",
      "3\n",
      "5\n",
      "7\n",
      "9\n"
     ]
    }
   ],
   "source": [
    "\n",
    "numeros = [1, 3, 5, 7, 9]\n",
    "\n",
    "for i in range(len(numeros)):\n",
    "    print(numeros[i])"
   ]
  },
  {
   "cell_type": "code",
   "execution_count": 41,
   "id": "953fa379",
   "metadata": {},
   "outputs": [
    {
     "name": "stdout",
     "output_type": "stream",
     "text": [
      "[0, 0, 0, 0, 0]\n"
     ]
    }
   ],
   "source": [
    "\n",
    "numeros = [1, 3, 5, 7, 9]\n",
    "\n",
    "for i in range(len(numeros)):\n",
    "    numeros[i] = 0\n",
    "print(numeros)"
   ]
  },
  {
   "cell_type": "code",
   "execution_count": 43,
   "id": "75c88018",
   "metadata": {},
   "outputs": [
    {
     "name": "stdout",
     "output_type": "stream",
     "text": [
      "quero que esse código rode 5 vezes\n",
      "quero que esse código rode 5 vezes\n",
      "quero que esse código rode 5 vezes\n",
      "quero que esse código rode 5 vezes\n",
      "quero que esse código rode 5 vezes\n"
     ]
    }
   ],
   "source": [
    "for i in range(5): ## Posso usar quando quero rodar um bloco um numero de vezes\n",
    "    print('quero que esse código rode 5 vezes')"
   ]
  },
  {
   "cell_type": "code",
   "execution_count": 48,
   "id": "98d13e94",
   "metadata": {},
   "outputs": [],
   "source": [
    "## A função range pode ser usada de outras duas maneiras\n",
    "## range(1, 5) -> vou do 1 até o 5 de um em um (o 5 não entra)\n",
    "## range(1, 5) é como se fosse a lista [1, 2, 3, 4]\n",
    "## range(0, 5, 2) -> vou do 0 até o 5 de dois em dois\n",
    "## range é como se fosse a lista [0, 2, 4]"
   ]
  },
  {
   "cell_type": "code",
   "execution_count": 47,
   "id": "9331caf9",
   "metadata": {},
   "outputs": [
    {
     "name": "stdout",
     "output_type": "stream",
     "text": [
      "1\n",
      "2\n",
      "3\n",
      "4\n"
     ]
    }
   ],
   "source": [
    "for i in range(1, 5):\n",
    "    print(i)"
   ]
  },
  {
   "cell_type": "code",
   "execution_count": 49,
   "id": "684b5384",
   "metadata": {},
   "outputs": [
    {
     "name": "stdout",
     "output_type": "stream",
     "text": [
      "0\n",
      "2\n",
      "4\n"
     ]
    }
   ],
   "source": [
    "for i in range(0, 5, 2):\n",
    "    print(i)"
   ]
  },
  {
   "cell_type": "markdown",
   "id": "f949a6c0",
   "metadata": {},
   "source": [
    "## Funções de listas"
   ]
  },
  {
   "cell_type": "markdown",
   "id": "6c09f749",
   "metadata": {},
   "source": [
    "## Funções de entrada"
   ]
  },
  {
   "cell_type": "code",
   "execution_count": 50,
   "id": "e942e3b3",
   "metadata": {},
   "outputs": [],
   "source": [
    "numeros = [1, 3, 5, 7]"
   ]
  },
  {
   "cell_type": "code",
   "execution_count": 52,
   "id": "22d35ba6",
   "metadata": {},
   "outputs": [
    {
     "name": "stdout",
     "output_type": "stream",
     "text": [
      "<class 'list'>\n",
      "[1, 3, 5, 7, 9]\n"
     ]
    }
   ],
   "source": [
    "## Função append -> é uma função de lista que adiciona um elemento no final da lista\n",
    "print(type(numeros))\n",
    "numeros.append(9)\n",
    "print(numeros)"
   ]
  },
  {
   "cell_type": "code",
   "execution_count": 53,
   "id": "64e2159b",
   "metadata": {},
   "outputs": [
    {
     "name": "stdout",
     "output_type": "stream",
     "text": [
      "[-1, 1, 3, 5, 7, 9]\n"
     ]
    }
   ],
   "source": [
    "## Função insert -> é uma função de lista que adiciona um elemento no indice que eu quiser da lista\n",
    "numeros.insert(0, -1) ## no parentesis recebe a posicao que eu quero e o valor\n",
    "print(numeros)"
   ]
  },
  {
   "cell_type": "code",
   "execution_count": 55,
   "id": "09550b47",
   "metadata": {},
   "outputs": [
    {
     "name": "stdout",
     "output_type": "stream",
     "text": [
      "Deseja adicionar um jogador de futebol? s\n",
      "Digite o nome do jogador: Ronaldo\n",
      "Deseja adicionar um jogador de futebol? s\n",
      "Digite o nome do jogador: Cano\n",
      "Deseja adicionar um jogador de futebol? s\n",
      "Digite o nome do jogador: Rustico\n",
      "Deseja adicionar um jogador de futebol? s\n",
      "Digite o nome do jogador: Lucas Moura\n",
      "Deseja adicionar um jogador de futebol? s\n",
      "Digite o nome do jogador: Rogerio Ceni\n",
      "Deseja adicionar um jogador de futebol? s\n",
      "Digite o nome do jogador: Messi\n",
      "Deseja adicionar um jogador de futebol? s\n",
      "Digite o nome do jogador: Belini\n",
      "Deseja adicionar um jogador de futebol? n\n",
      "['Ronaldo', 'Cano', 'Rustico', 'Lucas Moura', 'Rogerio Ceni', 'Messi', 'Belini']\n"
     ]
    }
   ],
   "source": [
    "jogadores_de_futebol = []\n",
    "\n",
    "resposta = 's'\n",
    "while (resposta == 's'):\n",
    "    resposta = input('Deseja adicionar um jogador de futebol? ').lower()\n",
    "    if (resposta == 's'):\n",
    "        jogador = input('Digite o nome do jogador: ')\n",
    "        jogadores_de_futebol.append(jogador)\n",
    "print(jogadores_de_futebol)"
   ]
  },
  {
   "cell_type": "code",
   "execution_count": 72,
   "id": "b7e73b11",
   "metadata": {},
   "outputs": [],
   "source": [
    "jogadores_de_futebol = ['Ronaldo', 'Cano', 'Rustico', 'Lucas Moura', 'Rogerio Ceni', 'Messi', 'Belini', 'Zico']\n",
    "jogadores_de_futebol.append('Ronaldo')"
   ]
  },
  {
   "cell_type": "code",
   "execution_count": null,
   "id": "5d0d39bb",
   "metadata": {},
   "outputs": [],
   "source": []
  },
  {
   "cell_type": "code",
   "execution_count": 58,
   "id": "09b24195",
   "metadata": {},
   "outputs": [
    {
     "data": {
      "text/plain": [
       "2"
      ]
     },
     "execution_count": 58,
     "metadata": {},
     "output_type": "execute_result"
    }
   ],
   "source": [
    "## algumas funções uteis\n",
    "# Count -> Conta ocorrencias na lista\n",
    "jogadores_de_futebol.count('Ronaldo')"
   ]
  },
  {
   "cell_type": "code",
   "execution_count": 61,
   "id": "7a5627f0",
   "metadata": {},
   "outputs": [
    {
     "ename": "ValueError",
     "evalue": "'Baloteli' is not in list",
     "output_type": "error",
     "traceback": [
      "\u001b[1;31m---------------------------------------------------------------------------\u001b[0m",
      "\u001b[1;31mValueError\u001b[0m                                Traceback (most recent call last)",
      "\u001b[1;32m~\\AppData\\Local\\Temp/ipykernel_1700/3202966728.py\u001b[0m in \u001b[0;36m<module>\u001b[1;34m\u001b[0m\n\u001b[0;32m      1\u001b[0m \u001b[1;31m# Index -> Me diz onde está na lista\u001b[0m\u001b[1;33m\u001b[0m\u001b[1;33m\u001b[0m\u001b[1;33m\u001b[0m\u001b[0m\n\u001b[1;32m----> 2\u001b[1;33m \u001b[0mjogadores_de_futebol\u001b[0m\u001b[1;33m.\u001b[0m\u001b[0mindex\u001b[0m\u001b[1;33m(\u001b[0m\u001b[1;34m'Baloteli'\u001b[0m\u001b[1;33m)\u001b[0m\u001b[1;33m\u001b[0m\u001b[1;33m\u001b[0m\u001b[0m\n\u001b[0m",
      "\u001b[1;31mValueError\u001b[0m: 'Baloteli' is not in list"
     ]
    }
   ],
   "source": [
    "# Index -> Me diz onde está na lista\n",
    "jogadores_de_futebol.index('Zico')"
   ]
  },
  {
   "cell_type": "code",
   "execution_count": 60,
   "id": "3f0c3d01",
   "metadata": {},
   "outputs": [
    {
     "name": "stdout",
     "output_type": "stream",
     "text": [
      "Zico\n"
     ]
    }
   ],
   "source": [
    "print(jogadores_de_futebol[7])"
   ]
  },
  {
   "cell_type": "code",
   "execution_count": 63,
   "id": "6768cd54",
   "metadata": {},
   "outputs": [
    {
     "name": "stdout",
     "output_type": "stream",
     "text": [
      "['Belini', 'Cano', 'Lucas Moura', 'Messi', 'Rogerio Ceni', 'Ronaldo', 'Ronaldo', 'Rustico', 'Zico']\n"
     ]
    }
   ],
   "source": [
    "jogadores_de_futebol.sort() ## Ordena a lista\n",
    "print(jogadores_de_futebol)"
   ]
  },
  {
   "cell_type": "markdown",
   "id": "4b3b49cd",
   "metadata": {},
   "source": [
    "### Funções de remoção"
   ]
  },
  {
   "cell_type": "code",
   "execution_count": 64,
   "id": "763614a5",
   "metadata": {},
   "outputs": [
    {
     "name": "stdout",
     "output_type": "stream",
     "text": [
      "['Belini', 'Cano', 'Lucas Moura', 'Messi', 'Rogerio Ceni', 'Ronaldo', 'Rustico', 'Zico']\n"
     ]
    }
   ],
   "source": [
    "jogadores_de_futebol.remove('Ronaldo') ## Remove a primeira ocorrencia deste elemento\n",
    "print(jogadores_de_futebol)"
   ]
  },
  {
   "cell_type": "code",
   "execution_count": 67,
   "id": "fc143140",
   "metadata": {},
   "outputs": [
    {
     "name": "stdout",
     "output_type": "stream",
     "text": [
      "['Belini', 'Messi', 'Rogerio Ceni', 'Ronaldo', 'Rustico', 'Zico']\n"
     ]
    }
   ],
   "source": [
    "del jogadores_de_futebol[1] ## Deleto pela posição\n",
    "print(jogadores_de_futebol)"
   ]
  },
  {
   "cell_type": "markdown",
   "id": "537ede5b",
   "metadata": {},
   "source": [
    "## Funções para listas de numeros"
   ]
  },
  {
   "cell_type": "code",
   "execution_count": 71,
   "id": "66a1ce53",
   "metadata": {},
   "outputs": [
    {
     "name": "stdout",
     "output_type": "stream",
     "text": [
      "Zico\n"
     ]
    }
   ],
   "source": [
    "digitos = [3, 1, 4, 1, 5, 9, 2, 6, 5]\n",
    "maior = max(digitos)\n",
    "print(maior)"
   ]
  },
  {
   "cell_type": "code",
   "execution_count": 69,
   "id": "e7285270",
   "metadata": {},
   "outputs": [
    {
     "name": "stdout",
     "output_type": "stream",
     "text": [
      "1\n"
     ]
    }
   ],
   "source": [
    "digitos = [3, 1, 4, 1, 5, 9, 2, 6, 5]\n",
    "menor = min(digitos)\n",
    "print(menor)"
   ]
  },
  {
   "cell_type": "code",
   "execution_count": 70,
   "id": "8bd4017a",
   "metadata": {},
   "outputs": [
    {
     "name": "stdout",
     "output_type": "stream",
     "text": [
      "36\n"
     ]
    }
   ],
   "source": [
    "digitos = [3, 1, 4, 1, 5, 9, 2, 6, 5]\n",
    "soma = sum(digitos)\n",
    "print(soma)"
   ]
  },
  {
   "cell_type": "markdown",
   "id": "30a1adc8",
   "metadata": {},
   "source": [
    "## Matrizes"
   ]
  },
  {
   "cell_type": "code",
   "execution_count": 78,
   "id": "34054b7a",
   "metadata": {},
   "outputs": [],
   "source": [
    "## Uma lista de lista\n",
    "matriz = [ [1, 3, 5], [2, 4, 6] ]"
   ]
  },
  {
   "cell_type": "code",
   "execution_count": null,
   "id": "a695eb30",
   "metadata": {},
   "outputs": [],
   "source": []
  },
  {
   "cell_type": "code",
   "execution_count": 86,
   "id": "4de06bdd",
   "metadata": {},
   "outputs": [
    {
     "name": "stdout",
     "output_type": "stream",
     "text": [
      "1\n"
     ]
    }
   ],
   "source": [
    "print(matriz[0][0])"
   ]
  },
  {
   "cell_type": "markdown",
   "id": "2498cca8",
   "metadata": {},
   "source": [
    "#### List Comprehension\n",
    "\n",
    "<img src='https://miro.medium.com/max/858/0*ChFR2D9j8fxqz3D5.png' width=800>"
   ]
  },
  {
   "cell_type": "code",
   "execution_count": 89,
   "id": "2ca43292",
   "metadata": {},
   "outputs": [
    {
     "name": "stdout",
     "output_type": "stream",
     "text": [
      "[0, 4, 16, 36, 64, 100]\n"
     ]
    }
   ],
   "source": [
    "## Quero criar uma lista que salve os numeros pares de 0 a 10 ao quadrado\n",
    "quadrados_pares = []\n",
    "for num in range(11):\n",
    "    if(num % 2 == 0):\n",
    "        quadrados_pares.append(num*num) ## num ** 2 tambem funciona\n",
    "print(quadrados_pares)"
   ]
  },
  {
   "cell_type": "code",
   "execution_count": 90,
   "id": "208dc574",
   "metadata": {},
   "outputs": [
    {
     "name": "stdout",
     "output_type": "stream",
     "text": [
      "[0, 4, 16, 36, 64, 100]\n"
     ]
    }
   ],
   "source": [
    "quadrados_pares = [num * num for num in range(11) if num % 2 == 0]\n",
    "print(quadrados_pares)"
   ]
  }
 ],
 "metadata": {
  "kernelspec": {
   "display_name": "Python 3 (ipykernel)",
   "language": "python",
   "name": "python3"
  },
  "language_info": {
   "codemirror_mode": {
    "name": "ipython",
    "version": 3
   },
   "file_extension": ".py",
   "mimetype": "text/x-python",
   "name": "python",
   "nbconvert_exporter": "python",
   "pygments_lexer": "ipython3",
   "version": "3.9.6"
  }
 },
 "nbformat": 4,
 "nbformat_minor": 5
}
