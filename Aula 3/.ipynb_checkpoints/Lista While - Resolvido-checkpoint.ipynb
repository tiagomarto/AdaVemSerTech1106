{
 "cells": [
  {
   "cell_type": "code",
   "execution_count": 1,
   "id": "c5d81316",
   "metadata": {},
   "outputs": [
    {
     "name": "stdout",
     "output_type": "stream",
     "text": [
      "Digite um número: 5\n",
      "1\n",
      "2\n",
      "3\n",
      "4\n",
      "5\n"
     ]
    }
   ],
   "source": [
    "## Exercícios - While\n",
    "\n",
    "# 1. Faça um programa que peça ao usuário um número e imprima todos os números de um até o número dado.\n",
    "num = int(input('Digite um número: '))\n",
    "contador = 0\n",
    "while (contador < num):\n",
    "    contador = contador + 1\n",
    "    print(contador)"
   ]
  },
  {
   "cell_type": "code",
   "execution_count": 2,
   "id": "2c063e6a",
   "metadata": {},
   "outputs": [
    {
     "name": "stdout",
     "output_type": "stream",
     "text": [
      "Digite um numero: 5\n",
      "A soma de todos os numeros de 1 a  5 é 15\n"
     ]
    }
   ],
   "source": [
    "# 2. Peça ao usuário para digitar um número n e some todos os números de 1 a n.\n",
    "numero = int(input('Digite um numero: '))\n",
    "i = 0\n",
    "soma = 0\n",
    "while (i < numero):\n",
    "    i = i + 1\n",
    "    soma = soma + i ## soma += i\n",
    "\n",
    "print('A soma de todos os numeros de 1 a ', num, 'é', soma)"
   ]
  },
  {
   "cell_type": "markdown",
   "id": "fa0db352",
   "metadata": {},
   "source": [
    "3. Peça ao usuário para digitar um número e imprima o fatorial de n.\n",
    "\n",
    "entradas -> num que vou calcular o fatorial (5)\n",
    "\n",
    "processamento -> 5! -> 5 * 4 * 3 * 2 * 1\n",
    "\n",
    "saidas -> fatorial calculado (120)"
   ]
  },
  {
   "cell_type": "code",
   "execution_count": 10,
   "id": "9477cfa6",
   "metadata": {},
   "outputs": [
    {
     "name": "stdout",
     "output_type": "stream",
     "text": [
      "Digite um número: 5\n",
      "i: 1\n",
      "fatorial: 1\n",
      "\n",
      "i: 2\n",
      "fatorial: 2\n",
      "\n",
      "i: 3\n",
      "fatorial: 6\n",
      "\n",
      "i: 4\n",
      "fatorial: 24\n",
      "\n",
      "O fatorial de 5 é 120\n"
     ]
    }
   ],
   "source": [
    "# 3. Peça ao usuário para digitar um número e imprima o fatorial de n.\n",
    "num = int(input('Digite um número: '))\n",
    "i = 1\n",
    "fatorial = 1\n",
    "\n",
    "while (i < num):\n",
    "    print('i:', i)\n",
    "    print('fatorial:', fatorial)\n",
    "    i = i + 1\n",
    "    fatorial = fatorial * i\n",
    "    print('')\n",
    "\n",
    "print('O fatorial de', num, 'é', fatorial)"
   ]
  },
  {
   "cell_type": "code",
   "execution_count": 5,
   "id": "0b612ade",
   "metadata": {},
   "outputs": [
    {
     "name": "stdout",
     "output_type": "stream",
     "text": [
      "digite um numero: 5\n",
      "O fatorial de 5 é 120\n"
     ]
    }
   ],
   "source": [
    "numero = int(input('digite um numero: '))\n",
    "fat = 1\n",
    "\n",
    "while numero > 1:\n",
    "    fat = fat * numero\n",
    "    numero -= 1 \n",
    "    \n",
    "print('O fatorial de', num, 'é', fat)"
   ]
  },
  {
   "cell_type": "code",
   "execution_count": 2,
   "id": "717e9126",
   "metadata": {},
   "outputs": [
    {
     "name": "stdout",
     "output_type": "stream",
     "text": [
      "9 x 1 = 9\n",
      "9 x 2 = 18\n",
      "9 x 3 = 27\n",
      "9 x 4 = 36\n",
      "9 x 5 = 45\n",
      "9 x 6 = 54\n",
      "9 x 7 = 63\n",
      "9 x 8 = 72\n",
      "9 x 9 = 81\n",
      "9 x 10 = 90\n"
     ]
    }
   ],
   "source": [
    "# 4. Faça um programa que imprima a taboada do 9\n",
    "i = 0\n",
    "while (i < 10):\n",
    "    i = i + 1\n",
    "    print(f'9 x {i} = {i*9}')"
   ]
  },
  {
   "cell_type": "code",
   "execution_count": 5,
   "id": "77968e79",
   "metadata": {},
   "outputs": [
    {
     "name": "stdout",
     "output_type": "stream",
     "text": [
      "Digite um numero: 10\n",
      "1 é um divisor do numero 10\n",
      "2 é um divisor do numero 10\n",
      "5 é um divisor do numero 10\n",
      "10 é um divisor do numero 10\n"
     ]
    }
   ],
   "source": [
    "# 5. Faça um programa que recebe um número inteiro do usuário e \n",
    "## imprime na tela a quantidade de divisores desse número e quais são eles.\n",
    "\n",
    "num = int(input('Digite um numero: '))\n",
    "div = 1\n",
    "limite_maximo = num / 2\n",
    "\n",
    "while (div <= limite_maximo):\n",
    "    if (num % div == 0):\n",
    "        print(f'{div} é um divisor do numero {num}')\n",
    "    div = div + 1\n",
    "\n",
    "print(f'{num} é um divisor do numero {num}')\n"
   ]
  },
  {
   "cell_type": "code",
   "execution_count": 6,
   "id": "d2a31bd4",
   "metadata": {},
   "outputs": [
    {
     "name": "stdout",
     "output_type": "stream",
     "text": [
      "Digite um numero. Para sair digite 0. 10\n",
      "Digite um numero. Para sair digite 0. 58\n",
      "Digite um numero. Para sair digite 0. 6\n",
      "Digite um numero. Para sair digite 0. 7\n",
      "Digite um numero. Para sair digite 0. 0\n",
      "A soma é 81\n"
     ]
    }
   ],
   "source": [
    "# 6. Faça um programa, usando loops, que peça para um usuário digitar um número \n",
    "# e que só finaliza quando o usuário digitar 0. Ao final imprima a soma de todos \n",
    "# os números digitados.\n",
    "num = int(input('Digite um numero. Para sair digite 0. '))\n",
    "soma = num\n",
    "while num != 0:\n",
    "    num = int(input('Digite um numero. Para sair digite 0. '))\n",
    "    soma += num\n",
    "print('A soma é', soma)\n",
    "\n"
   ]
  },
  {
   "cell_type": "code",
   "execution_count": 8,
   "id": "0ff3132a",
   "metadata": {},
   "outputs": [
    {
     "name": "stdout",
     "output_type": "stream",
     "text": [
      "10\n",
      "Digite um palpite: 5\n",
      "Resposta errada\n",
      "Digite um outro palpite: 7\n",
      "Resposta errada\n",
      "Digite um outro palpite: 8\n",
      "Resposta errada\n",
      "Digite um outro palpite: 1\n",
      "Resposta errada\n",
      "Digite um outro palpite: 10\n",
      "Resposta Correta, o numero sorteado foi 10\n"
     ]
    }
   ],
   "source": [
    "## 7. Faça um programa que sorteia um número N e peça para o usuário adivinhar o número sorteado. \n",
    "## A cada resposta errada, o seu programa deve imprimir um aviso dizendo que a \n",
    "## resposta está errada e pedir novamente uma resposta ao usuário.\n",
    "\n",
    "# Forma de gerar um numero pseudoaleatório:\n",
    "\n",
    "import random\n",
    "numero_aleatorio = random.randint(0,10) # gera um número inteiro aleatório entre 0 e 10\n",
    "\n",
    "print(numero_aleatorio)\n",
    "\n",
    "numero = int(input('Digite um palpite: '))\n",
    "while numero != numero_aleatorio:\n",
    "    print('Resposta errada')\n",
    "    numero = int(input('Digite um outro palpite: '))\n",
    "print(f'Resposta Correta, o numero sorteado foi {numero_aleatorio}')\n",
    "\n"
   ]
  },
  {
   "cell_type": "code",
   "execution_count": 11,
   "id": "8c0c25e5",
   "metadata": {},
   "outputs": [
    {
     "name": "stdout",
     "output_type": "stream",
     "text": [
      "Digite a idade: 1150\n",
      "Idade inválida.\n",
      "Digite a idade: 150\n",
      "Digite o salário: 500\n",
      "Digite o sexo (F/M/Outro): m\n"
     ]
    }
   ],
   "source": [
    "# 8. Faça um programa que peça para o usuário digitar a idade, o salário e o sexo até que as entradas digitadas sejam válidas\n",
    "\n",
    "\n",
    "idade = int(input(\"Digite a idade: \"))\n",
    "while idade < 0 or idade > 150:\n",
    "    print(\"Idade inválida.\")\n",
    "    idade = int(input(\"Digite a idade: \"))\n",
    "\n",
    "salario = int(input(\"Digite o salário: \"))\n",
    "while salario <= 0:\n",
    "    print(\"Salário inválido.\")\n",
    "    salario = int(input(\"Digite o salário: \"))\n",
    "\n",
    "sexo = input(\"Digite o sexo (F/M/Outro): \").lower()\n",
    "# 2 exemplos de expressões booleanas válidas pra esse teste\n",
    "# while sexo != 'M' and sexo != 'F' and sexo != 'Outro':\n",
    "while not (sexo == 'm' or sexo == 'f' or sexo == 'outro'):\n",
    "    print(\"Sexo inválido.\")\n",
    "    sexo = input(\"Digite o sexo: \")\n",
    "\n"
   ]
  },
  {
   "cell_type": "code",
   "execution_count": null,
   "id": "741d8993",
   "metadata": {},
   "outputs": [],
   "source": []
  },
  {
   "cell_type": "code",
   "execution_count": 14,
   "id": "493df312",
   "metadata": {},
   "outputs": [
    {
     "name": "stdout",
     "output_type": "stream",
     "text": [
      "A soma desses termos é 2.0\n"
     ]
    }
   ],
   "source": [
    "# Desafio 1. Calcule a soma de até mil termos da série 1 + 1/2 + 1/4 + 1/8 + 1/16 + ... \n",
    "\n",
    "contador = 0\n",
    "soma = 1\n",
    "termo = 1\n",
    "\n",
    "while contador < 1000:\n",
    "    termo = termo / 2  ## termo /= 2\n",
    "    soma = soma + termo ## soma += termo\n",
    "    contador = contador + 1 ## contador += 1\n",
    "print(f'A soma desses termos é {soma}')"
   ]
  },
  {
   "cell_type": "code",
   "execution_count": 17,
   "id": "7c54edb2",
   "metadata": {},
   "outputs": [
    {
     "name": "stdout",
     "output_type": "stream",
     "text": [
      "A soma desses termos é 2.7182818284590455\n"
     ]
    }
   ],
   "source": [
    "# Desafio 2. Calcule a soma de mil termos dos inversos dos fatoriais: 1/(1!) + 1/(2!) + 1/(3!) + 1/(4!) + ...\n",
    "\n",
    "contador = 1\n",
    "soma = 1\n",
    "termo = 1\n",
    "\n",
    "while contador < 1000:\n",
    "    termo = termo / contador\n",
    "    soma = soma + termo\n",
    "    contador = contador + 1\n",
    "\n",
    "print(f'A soma desses termos é {soma}')"
   ]
  },
  {
   "cell_type": "code",
   "execution_count": 19,
   "id": "a4045229",
   "metadata": {},
   "outputs": [
    {
     "name": "stdout",
     "output_type": "stream",
     "text": [
      "0\n",
      "1\n",
      "2\n",
      "3\n",
      "4\n",
      "5\n",
      "6\n",
      "7\n",
      "8\n",
      "9\n"
     ]
    }
   ],
   "source": [
    "contador = 0\n",
    "while contador < 10:\n",
    "    print(contador)\n",
    "    contador = contador + 1"
   ]
  },
  {
   "cell_type": "code",
   "execution_count": 20,
   "id": "e56ae026",
   "metadata": {},
   "outputs": [
    {
     "name": "stdout",
     "output_type": "stream",
     "text": [
      "0\n",
      "1\n",
      "2\n",
      "3\n",
      "4\n",
      "5\n",
      "6\n",
      "7\n",
      "8\n",
      "9\n"
     ]
    }
   ],
   "source": [
    "for i in range(10):\n",
    "    print(i)"
   ]
  },
  {
   "cell_type": "code",
   "execution_count": 23,
   "id": "9fd54e8f",
   "metadata": {},
   "outputs": [
    {
     "name": "stdout",
     "output_type": "stream",
     "text": [
      "2.7182818284590455\n"
     ]
    }
   ],
   "source": [
    "soma = 1\n",
    "termo = 1\n",
    "\n",
    "for i in range (1, 1001):\n",
    "    termo = termo / i\n",
    "    soma = soma + termo\n",
    "print(soma)"
   ]
  }
 ],
 "metadata": {
  "kernelspec": {
   "display_name": "Python 3 (ipykernel)",
   "language": "python",
   "name": "python3"
  },
  "language_info": {
   "codemirror_mode": {
    "name": "ipython",
    "version": 3
   },
   "file_extension": ".py",
   "mimetype": "text/x-python",
   "name": "python",
   "nbconvert_exporter": "python",
   "pygments_lexer": "ipython3",
   "version": "3.9.6"
  }
 },
 "nbformat": 4,
 "nbformat_minor": 5
}
