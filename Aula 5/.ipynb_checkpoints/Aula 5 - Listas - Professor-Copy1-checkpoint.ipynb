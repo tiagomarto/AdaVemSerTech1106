{
 "cells": [
  {
   "cell_type": "markdown",
   "id": "341a085c",
   "metadata": {},
   "source": [
    "<div style=\"background-color: lightgreen; padding: 18px;\">\n",
    "    <h1> Coding Tank | Vem Ser Tech \n",
    "</div>"
   ]
  },
  {
   "cell_type": "markdown",
   "id": "f0230d44",
   "metadata": {},
   "source": [
    "<div style=\"background-color: lightblue; padding: 10px;\">\n",
    "    <h2> Tópicos da aula - AULA 4\n",
    "</div>\n",
    "\n",
    "- Loop for\n",
    "- Listas\n",
    "- Índices\n",
    "- Iterações de listas\n",
    "- Métodos de listas"
   ]
  },
  {
   "cell_type": "markdown",
   "id": "ddaaaec8",
   "metadata": {},
   "source": [
    "E se quisermos fazer o programa que a pessoa digita 10 números e dizemos o maior, conseguimos?\n",
    "\n",
    "E se quisermos o 2° maior? E se quisermos o 5º? \n",
    "\n",
    "Podemos resolver com **listas**\n",
    "\n",
    "- Listas\n",
    "\n",
    "Listas são coleções de objetos em Python e é expressada em `[]`"
   ]
  },
  {
   "cell_type": "code",
   "execution_count": 1,
   "id": "e626193f",
   "metadata": {
    "ExecuteTime": {
     "end_time": "2023-06-29T00:53:10.121923Z",
     "start_time": "2023-06-29T00:53:10.111155Z"
    }
   },
   "outputs": [],
   "source": [
    "lista_1 = []  # lista vazia\n",
    "lista_2 = [1, 2, 3, 4]\n",
    "lista_3 = list() # criando uma lista -> neste caso, estou criando uma lista vazia\n",
    "lista_4 = [1, 2.5, 3, 4]\n",
    "lista_5 = [1, 2.0, 'três'] # misturando int, float, str\n",
    "lista_6 = [1, [2, 3]] # lista dentro de lista"
   ]
  },
  {
   "cell_type": "code",
   "execution_count": 2,
   "id": "8a7398da",
   "metadata": {
    "ExecuteTime": {
     "end_time": "2023-06-29T00:56:41.565104Z",
     "start_time": "2023-06-29T00:56:41.555151Z"
    }
   },
   "outputs": [],
   "source": [
    "lista =  [1, 3, 5, 7, 9, 11, 13, 15, 17, 21] # 10 elementos\n",
    "# índices 0  1  2  3  4  5   6   7   8   9  ---> no python sempre começa com índice ZERO\n",
    "# índice => posição dos elementos"
   ]
  },
  {
   "cell_type": "code",
   "execution_count": 3,
   "id": "4541e94a",
   "metadata": {
    "ExecuteTime": {
     "end_time": "2023-06-29T00:56:58.487031Z",
     "start_time": "2023-06-29T00:56:58.477176Z"
    }
   },
   "outputs": [
    {
     "data": {
      "text/plain": [
       "[1, 3, 5, 7, 9, 11, 13, 15, 17, 21]"
      ]
     },
     "execution_count": 3,
     "metadata": {},
     "output_type": "execute_result"
    }
   ],
   "source": [
    "lista # posição dos elementos é importante"
   ]
  },
  {
   "cell_type": "code",
   "execution_count": 4,
   "id": "8a57fec8",
   "metadata": {
    "ExecuteTime": {
     "end_time": "2023-06-29T00:57:40.345041Z",
     "start_time": "2023-06-29T00:57:40.339545Z"
    }
   },
   "outputs": [
    {
     "data": {
      "text/plain": [
       "10"
      ]
     },
     "execution_count": 4,
     "metadata": {},
     "output_type": "execute_result"
    }
   ],
   "source": [
    "# Funções e métodos de listas\n",
    "\n",
    "len(lista) # quantidade de elementos da lista"
   ]
  },
  {
   "cell_type": "code",
   "execution_count": 14,
   "id": "03ac344a",
   "metadata": {
    "ExecuteTime": {
     "end_time": "2023-06-29T22:26:30.681040Z",
     "start_time": "2023-06-29T22:26:30.671086Z"
    }
   },
   "outputs": [
    {
     "data": {
      "text/plain": [
       "1"
      ]
     },
     "execution_count": 14,
     "metadata": {},
     "output_type": "execute_result"
    }
   ],
   "source": [
    "# Acessar os elementos da lista a partir da posição\n",
    "lista[0] # o num 1 é a posição 0 da lista"
   ]
  },
  {
   "cell_type": "code",
   "execution_count": 15,
   "id": "f9777dd0",
   "metadata": {
    "ExecuteTime": {
     "end_time": "2023-06-29T22:26:58.328878Z",
     "start_time": "2023-06-29T22:26:58.315522Z"
    }
   },
   "outputs": [
    {
     "data": {
      "text/plain": [
       "21"
      ]
     },
     "execution_count": 15,
     "metadata": {},
     "output_type": "execute_result"
    }
   ],
   "source": [
    "lista[9] # o elemento 21 é a posição 9 da lista"
   ]
  },
  {
   "cell_type": "code",
   "execution_count": 16,
   "id": "fb4cc5b7",
   "metadata": {
    "ExecuteTime": {
     "end_time": "2023-06-29T22:27:19.356689Z",
     "start_time": "2023-06-29T22:27:19.312779Z"
    }
   },
   "outputs": [
    {
     "name": "stdout",
     "output_type": "stream",
     "text": [
      "1\n",
      "3\n",
      "5\n",
      "7\n",
      "9\n",
      "11\n",
      "21\n"
     ]
    },
    {
     "ename": "IndexError",
     "evalue": "list index out of range",
     "output_type": "error",
     "traceback": [
      "\u001b[1;31m---------------------------------------------------------------------------\u001b[0m",
      "\u001b[1;31mIndexError\u001b[0m                                Traceback (most recent call last)",
      "Cell \u001b[1;32mIn[16], line 17\u001b[0m\n\u001b[0;32m     13\u001b[0m \u001b[38;5;28mprint\u001b[39m(lista[\u001b[38;5;241m5\u001b[39m])\n\u001b[0;32m     15\u001b[0m \u001b[38;5;28mprint\u001b[39m(lista[\u001b[38;5;241m9\u001b[39m])\n\u001b[1;32m---> 17\u001b[0m \u001b[38;5;28mprint\u001b[39m(\u001b[43mlista\u001b[49m\u001b[43m[\u001b[49m\u001b[38;5;241;43m10\u001b[39;49m\u001b[43m]\u001b[49m) \u001b[38;5;66;03m# Dá erro pois não tem a posição de índice 10 (lembrando que o python começa no zero)\u001b[39;00m\n",
      "\u001b[1;31mIndexError\u001b[0m: list index out of range"
     ]
    }
   ],
   "source": [
    "# Acessar os elementos da lista\n",
    "\n",
    "print(lista[0]) # mostra o valor da posição zero da variável lista\n",
    "\n",
    "print(lista[1])\n",
    "\n",
    "print(lista[2])\n",
    "\n",
    "print(lista[3])\n",
    "\n",
    "print(lista[4])\n",
    "\n",
    "print(lista[5])\n",
    "\n",
    "print(lista[9])\n",
    "\n",
    "print(lista[10]) # Dá erro pois não tem a posição de índice 10 (lembrando que o python começa no zero)"
   ]
  },
  {
   "cell_type": "code",
   "execution_count": 17,
   "id": "0339c0fc",
   "metadata": {
    "ExecuteTime": {
     "end_time": "2023-06-29T22:28:00.578066Z",
     "start_time": "2023-06-29T22:28:00.567809Z"
    }
   },
   "outputs": [
    {
     "name": "stdout",
     "output_type": "stream",
     "text": [
      "[1, 2.0, 'três']\n"
     ]
    }
   ],
   "source": [
    "print(lista_5)"
   ]
  },
  {
   "cell_type": "code",
   "execution_count": 18,
   "id": "6f038b2b",
   "metadata": {
    "ExecuteTime": {
     "end_time": "2023-06-29T22:28:06.511060Z",
     "start_time": "2023-06-29T22:28:06.501774Z"
    }
   },
   "outputs": [
    {
     "data": {
      "text/plain": [
       "list"
      ]
     },
     "execution_count": 18,
     "metadata": {},
     "output_type": "execute_result"
    }
   ],
   "source": [
    "type(lista_5) # saber o tipo da var lista_5"
   ]
  },
  {
   "cell_type": "code",
   "execution_count": 20,
   "id": "1c1228df",
   "metadata": {
    "ExecuteTime": {
     "end_time": "2023-06-29T22:28:53.370752Z",
     "start_time": "2023-06-29T22:28:53.345190Z"
    }
   },
   "outputs": [
    {
     "data": {
      "text/plain": [
       "int"
      ]
     },
     "execution_count": 20,
     "metadata": {},
     "output_type": "execute_result"
    }
   ],
   "source": [
    "type(lista_5[0]) # saber o tipo do elemento zero da lista"
   ]
  },
  {
   "cell_type": "code",
   "execution_count": 21,
   "id": "20e426c5",
   "metadata": {
    "ExecuteTime": {
     "end_time": "2023-06-29T22:29:03.492265Z",
     "start_time": "2023-06-29T22:29:03.475031Z"
    }
   },
   "outputs": [
    {
     "data": {
      "text/plain": [
       "float"
      ]
     },
     "execution_count": 21,
     "metadata": {},
     "output_type": "execute_result"
    }
   ],
   "source": [
    "type(lista_5[1])"
   ]
  },
  {
   "cell_type": "code",
   "execution_count": 22,
   "id": "459eedd9",
   "metadata": {
    "ExecuteTime": {
     "end_time": "2023-06-29T22:29:09.389792Z",
     "start_time": "2023-06-29T22:29:09.372341Z"
    }
   },
   "outputs": [
    {
     "data": {
      "text/plain": [
       "str"
      ]
     },
     "execution_count": 22,
     "metadata": {},
     "output_type": "execute_result"
    }
   ],
   "source": [
    "type(lista_5[2])"
   ]
  },
  {
   "cell_type": "code",
   "execution_count": 24,
   "id": "f2fc4556",
   "metadata": {
    "ExecuteTime": {
     "end_time": "2023-06-29T22:29:58.239341Z",
     "start_time": "2023-06-29T22:29:58.227247Z"
    }
   },
   "outputs": [
    {
     "data": {
      "text/plain": [
       "'três'"
      ]
     },
     "execution_count": 24,
     "metadata": {},
     "output_type": "execute_result"
    }
   ],
   "source": [
    "lista_5[-1] # -1 ele vai para o último elemento da lista"
   ]
  },
  {
   "cell_type": "code",
   "execution_count": 56,
   "id": "329ac2df",
   "metadata": {
    "ExecuteTime": {
     "end_time": "2023-06-29T22:50:42.362629Z",
     "start_time": "2023-06-29T22:50:42.336530Z"
    }
   },
   "outputs": [
    {
     "name": "stdout",
     "output_type": "stream",
     "text": [
      "[1, 3, 5, 7, 9, 11, 13, 15, 17, 21]\n",
      "[1, 3, 5]\n",
      "[1, 3, 5]\n",
      "[13, 15, 17, 21]\n",
      "[13, 15, 17, 21]\n",
      "[13, 15, 17]\n",
      "[7, 9, 11]\n",
      "1\n",
      "[1]\n",
      "[3, 5, 7, 9, 11, 13, 15]\n",
      "[3, 7, 11, 15]\n"
     ]
    }
   ],
   "source": [
    "# Quebrar e acessando a lista\n",
    "\n",
    "print(lista[:]) # lista[inicio:fim]    [:] --> todos os valores   lista != lista[:] pois [:] criando uma cópia\n",
    "\n",
    "print(lista[0:3]) # os 3 primeiros elementos da lista\n",
    "print(lista[:3]) # os 3 primeiros elementos da lista\n",
    "\n",
    "print(lista[6:10]) # do valor 13 até o final --> pq o últimmo valor é exclusivo (ou seja, não entra)\n",
    "print(lista[6:]) # do valor 13 até o final\n",
    "\n",
    "print(lista[6:-1])\n",
    "\n",
    "print(lista[3:6])\n",
    "\n",
    "print(lista[0])\n",
    "print(lista[0:1])\n",
    "\n",
    "print(lista[1:8])\n",
    "\n",
    "print(lista[1:8:2]) # do início ao fim em passos --> lista[inicio:fim:passo]\n"
   ]
  },
  {
   "cell_type": "code",
   "execution_count": 61,
   "id": "afc26e8e",
   "metadata": {
    "ExecuteTime": {
     "end_time": "2023-06-29T22:53:07.476480Z",
     "start_time": "2023-06-29T22:53:07.455763Z"
    }
   },
   "outputs": [
    {
     "name": "stdout",
     "output_type": "stream",
     "text": [
      "[1, 3, 11, 7, 9, 11, 13, 15, 17, 21]\n"
     ]
    }
   ],
   "source": [
    "# substituir um valor da lista\n",
    "\n",
    "lista[2] = 11 # substiruir o valor 5 pelo 11 usando o índice 2\n",
    "\n",
    "print(lista)"
   ]
  },
  {
   "cell_type": "code",
   "execution_count": 62,
   "id": "7c369dcf",
   "metadata": {
    "ExecuteTime": {
     "end_time": "2023-06-29T22:54:39.387621Z",
     "start_time": "2023-06-29T22:54:39.366577Z"
    }
   },
   "outputs": [
    {
     "name": "stdout",
     "output_type": "stream",
     "text": [
      "[1, 3, 11, 7, 9, 11, 13, 15, 17, 21, 99]\n"
     ]
    }
   ],
   "source": [
    "# acrescentar valores na lista --> usando a \"função\" append\n",
    "\n",
    "lista.append(99) # acrescentar o valor 99 na última posição\n",
    "\n",
    "print(lista)"
   ]
  },
  {
   "cell_type": "code",
   "execution_count": 110,
   "id": "56be891f",
   "metadata": {
    "ExecuteTime": {
     "end_time": "2023-06-29T23:38:11.739834Z",
     "start_time": "2023-06-29T23:38:11.715051Z"
    }
   },
   "outputs": [
    {
     "data": {
      "text/plain": [
       "[1, 2.5, 3, 4, 1, 2.0, 'três']"
      ]
     },
     "execution_count": 110,
     "metadata": {},
     "output_type": "execute_result"
    }
   ],
   "source": [
    "lista_4 + lista_5"
   ]
  },
  {
   "cell_type": "markdown",
   "id": "f4bac6d5",
   "metadata": {
    "ExecuteTime": {
     "end_time": "2023-06-29T22:52:13.757377Z",
     "start_time": "2023-06-29T22:52:13.737024Z"
    }
   },
   "source": [
    "Existem várias outras funções/métodos de listas que vocês irão aprender no próximo módulo, como:\n",
    "\n",
    "- append\n",
    "- insert\n",
    "- remove\n",
    "- pop\n",
    "- sort\n",
    "- sorted\n",
    "- reverse\n",
    "- index\n",
    "- max, min, len\n",
    "    "
   ]
  },
  {
   "cell_type": "code",
   "execution_count": 63,
   "id": "eb90e370",
   "metadata": {
    "ExecuteTime": {
     "end_time": "2023-06-29T22:56:30.796648Z",
     "start_time": "2023-06-29T22:56:30.777686Z"
    }
   },
   "outputs": [
    {
     "data": {
      "text/plain": [
       "[1, 3, 7, 9, 11, 11, 13, 15, 17, 21, 99]"
      ]
     },
     "execution_count": 63,
     "metadata": {},
     "output_type": "execute_result"
    }
   ],
   "source": [
    "sorted(lista)"
   ]
  },
  {
   "cell_type": "code",
   "execution_count": 64,
   "id": "cd79e129",
   "metadata": {
    "ExecuteTime": {
     "end_time": "2023-06-29T22:56:52.653894Z",
     "start_time": "2023-06-29T22:56:52.636248Z"
    }
   },
   "outputs": [
    {
     "data": {
      "text/plain": [
       "99"
      ]
     },
     "execution_count": 64,
     "metadata": {},
     "output_type": "execute_result"
    }
   ],
   "source": [
    "max(lista)"
   ]
  },
  {
   "cell_type": "code",
   "execution_count": 65,
   "id": "7d06c247",
   "metadata": {
    "ExecuteTime": {
     "end_time": "2023-06-29T22:56:59.905041Z",
     "start_time": "2023-06-29T22:56:59.879562Z"
    }
   },
   "outputs": [
    {
     "data": {
      "text/plain": [
       "1"
      ]
     },
     "execution_count": 65,
     "metadata": {},
     "output_type": "execute_result"
    }
   ],
   "source": [
    "min(lista)"
   ]
  },
  {
   "cell_type": "code",
   "execution_count": 72,
   "id": "2e1a56b6",
   "metadata": {
    "ExecuteTime": {
     "end_time": "2023-06-29T23:09:55.227172Z",
     "start_time": "2023-06-29T23:09:49.854071Z"
    }
   },
   "outputs": [
    {
     "name": "stdout",
     "output_type": "stream",
     "text": [
      "Digite um número: 1\n",
      "Digite um número: 3\n",
      "Digite um número: 5\n",
      "Digite um número: 7\n",
      "Digite um número: 9\n",
      "Digite um número: 0\n",
      "[1, 3, 5, 7, 9]\n"
     ]
    }
   ],
   "source": [
    "# como adicionar vários elementos a uma lista enquanto o usuário fornece valores?\n",
    "# se o usuário digitar 0, finaliza o programa\n",
    "\n",
    "lista = [] # criar uma lista vazia ou lista = list()\n",
    "numero = int(input('Digite um número: '))\n",
    "\n",
    "while numero != 0:\n",
    "    lista.append(numero) # adicionando o numero que o usuario digitou na lista\n",
    "    numero = int(input('Digite um número: '))\n",
    "\n",
    "print(lista)"
   ]
  },
  {
   "cell_type": "markdown",
   "id": "d9df7da1",
   "metadata": {},
   "source": [
    "**Percorrer a lista**"
   ]
  },
  {
   "cell_type": "code",
   "execution_count": 84,
   "id": "d53d4480",
   "metadata": {
    "ExecuteTime": {
     "end_time": "2023-06-29T23:22:53.411814Z",
     "start_time": "2023-06-29T23:22:53.402698Z"
    }
   },
   "outputs": [
    {
     "name": "stdout",
     "output_type": "stream",
     "text": [
      "indice 0\n",
      "indice 1\n",
      "indice 2\n",
      "indice 3\n",
      "indice 4\n",
      "indice 5\n",
      "36\n"
     ]
    }
   ],
   "source": [
    "# Dada uma lista de números, somar os elementos dessa lista usando os índices\n",
    "\n",
    "numeros = [1, 3, 5, 7, 9, 11]\n",
    "soma = 0\n",
    "indice = 0\n",
    "\n",
    "while indice < len(numeros) : # substituindo o índice 6 por len(numeros) para ficar genérico\n",
    "    print('indice', indice)\n",
    "    soma = soma + numeros[indice]\n",
    "    indice += 1 \n",
    "\n",
    "print(soma)"
   ]
  },
  {
   "cell_type": "code",
   "execution_count": 85,
   "id": "bf65f123",
   "metadata": {
    "ExecuteTime": {
     "end_time": "2023-06-29T23:23:25.535201Z",
     "start_time": "2023-06-29T23:23:25.519513Z"
    }
   },
   "outputs": [
    {
     "data": {
      "text/plain": [
       "36"
      ]
     },
     "execution_count": 85,
     "metadata": {},
     "output_type": "execute_result"
    }
   ],
   "source": [
    "# outra forma de somar todos os elementos de uma lista\n",
    "\n",
    "sum(numeros)"
   ]
  },
  {
   "cell_type": "code",
   "execution_count": 89,
   "id": "a4ea6ea3",
   "metadata": {
    "ExecuteTime": {
     "end_time": "2023-06-29T23:27:35.335331Z",
     "start_time": "2023-06-29T23:27:35.312749Z"
    }
   },
   "outputs": [
    {
     "name": "stdout",
     "output_type": "stream",
     "text": [
      "1\n",
      "3\n",
      "5\n",
      "7\n",
      "9\n"
     ]
    }
   ],
   "source": [
    "# Crie uma lista qualquer e imprima cada um dos elementos usando while\n",
    "\n",
    "numeros = [1, 3, 5, 7, 9]\n",
    "indice = 0\n",
    "\n",
    "while indice < len(numeros):\n",
    "    print(numeros[indice])\n",
    "    indice += 1"
   ]
  },
  {
   "cell_type": "code",
   "execution_count": 95,
   "id": "c65aa2e3",
   "metadata": {
    "ExecuteTime": {
     "end_time": "2023-06-29T23:33:04.852539Z",
     "start_time": "2023-06-29T23:33:02.725599Z"
    }
   },
   "outputs": [
    {
     "name": "stdout",
     "output_type": "stream",
     "text": [
      "Digite a quantidade da lista:10\n",
      "[0, 1, 2, 3, 4, 5, 6, 7, 8, 9]\n",
      "10\n"
     ]
    }
   ],
   "source": [
    "# Crie uma lista crescente (começando do 0) com a quantidade de elementos dada pelo usuário\n",
    "\n",
    "numero = int(input('Digite a quantidade da lista: '))\n",
    "\n",
    "lista = []\n",
    "indice = 0\n",
    "\n",
    "while indice < numero:\n",
    "    lista.append(indice)\n",
    "    indice += 1\n",
    "\n",
    "print(lista)\n",
    "print(len(lista))"
   ]
  },
  {
   "cell_type": "code",
   "execution_count": 116,
   "id": "f7d29b9c",
   "metadata": {
    "ExecuteTime": {
     "end_time": "2023-06-29T23:42:43.573109Z",
     "start_time": "2023-06-29T23:42:43.562622Z"
    }
   },
   "outputs": [
    {
     "name": "stdout",
     "output_type": "stream",
     "text": [
      "O range(0, 5) cria uma lista [0, 1, 2, 3, 4]\n"
     ]
    }
   ],
   "source": [
    "# Poderíamos substitui tudo por range(valor)\n",
    "\n",
    "range(0,5) # cria uma lista de índice 0 a índice 5 (exclusivo)\n",
    "\n",
    "print(f\"O {range(0,5)} cria uma lista [0, 1, 2, 3, 4]\")"
   ]
  },
  {
   "cell_type": "code",
   "execution_count": 117,
   "id": "1b5dfd34",
   "metadata": {
    "ExecuteTime": {
     "end_time": "2023-06-29T23:43:22.469671Z",
     "start_time": "2023-06-29T23:43:22.454646Z"
    }
   },
   "outputs": [
    {
     "data": {
      "text/plain": [
       "range(0, 5)"
      ]
     },
     "execution_count": 117,
     "metadata": {},
     "output_type": "execute_result"
    }
   ],
   "source": [
    "range(5)"
   ]
  },
  {
   "cell_type": "code",
   "execution_count": 120,
   "id": "bb5da1d9",
   "metadata": {
    "ExecuteTime": {
     "end_time": "2023-06-29T23:46:18.391787Z",
     "start_time": "2023-06-29T23:46:16.515786Z"
    }
   },
   "outputs": [
    {
     "name": "stdout",
     "output_type": "stream",
     "text": [
      "Digite a quantidade da lista: 10\n",
      "[0, 1, 2, 3, 4, 5, 6, 7, 8, 9]\n"
     ]
    }
   ],
   "source": [
    "# voltando ao exercicio anterior\n",
    "\n",
    "numero = int(input('Digite a quantidade da lista: '))\n",
    "range(0,numero)\n",
    "\n",
    "print(list(range(0, 10)))"
   ]
  },
  {
   "cell_type": "markdown",
   "id": "9d63c551",
   "metadata": {},
   "source": [
    "**Maneiras de percorrer uma lista**\n",
    "\n",
    "numeros = [1, 3, 5, 7, 9]\n",
    "\n",
    "- Usando while\n",
    "\n",
    "Pros: Eu sei não só o elemento mas sei o indice também   \n",
    "Contra: Eu preciso controlar o índice\n",
    "\n",
    "```python\n",
    "contador = 0\n",
    "while (contador < len(numeros)):\n",
    "    print(numeros[contador])\n",
    "    contador = contador + 1  Se eu esquecer essa linha vira um loop infinito\n",
    "```\n",
    "\n",
    "\n",
    "- Jeito intermediario: for in range\n",
    "\n",
    "Pros: Sei o indice, não preciso controlar o loop  \n",
    "Contra: Precisa saber usar a função range  \n",
    "range(5) ->  [0, 1, 2, 3, 4]\n",
    "\n",
    "```python\n",
    "numeros = [1, 3, 5, 7, 9]\n",
    "for indice in range(len(numeros)):\n",
    "    print(numeros[indice])\n",
    "```\n",
    "\n",
    "\n",
    "- Usando só for (sem índice)\n",
    "\n",
    "Pros: não preciso me preocupar com o índice e nem com loop  \n",
    "Contra: não sei índice\n",
    "\n",
    "```python\n",
    "numeros = [1, 3, 5, 7, 9]\n",
    "for numero in numeros:        numero é uma especie de variavel temporaria, usamos item, elemento, etc\n",
    "    print(numero)\n",
    "```"
   ]
  },
  {
   "cell_type": "markdown",
   "id": "d9b25c6c",
   "metadata": {},
   "source": [
    "Vamos ver um exemplo:"
   ]
  },
  {
   "cell_type": "code",
   "execution_count": 127,
   "id": "575436e8",
   "metadata": {
    "ExecuteTime": {
     "end_time": "2023-06-29T23:57:04.136886Z",
     "start_time": "2023-06-29T23:57:04.125680Z"
    }
   },
   "outputs": [
    {
     "name": "stdout",
     "output_type": "stream",
     "text": [
      "1\n",
      "3\n",
      "5\n",
      "7\n",
      "9\n",
      "\n",
      "Deixando o problema de forma genérica:\n",
      " \n",
      "1\n",
      "3\n",
      "5\n",
      "7\n",
      "9\n",
      "\n",
      "Deixando o problema de forma mais genérica ainda:\n",
      " \n",
      "1\n",
      "3\n",
      "5\n",
      "7\n",
      "9\n"
     ]
    }
   ],
   "source": [
    "numeros = [1, 3, 5, 7, 9] # tenho essa lista\n",
    "\n",
    "# imprimir todos os elementos dessa lista sem usar o while\n",
    "\n",
    "print(numeros[0]) # ----> numeros[i]\n",
    "print(numeros[1])\n",
    "print(numeros[2])\n",
    "print(numeros[3])\n",
    "print(numeros[4])\n",
    "\n",
    "print('\\nDeixando o problema de forma genérica:\\n ')\n",
    "\n",
    "for i in range(5): # range é exclusivo range(5) = range(0,5) = range(inicio,fim)\n",
    "    print(numeros[i])\n",
    "    \n",
    "    \n",
    "print('\\nDeixando o problema de forma mais genérica ainda:\\n ')\n",
    "\n",
    "for i in range(len(numeros)): # range é exclusivo range(5) = range(0,5) = range(inicio,fim)\n",
    "    print(numeros[i])"
   ]
  },
  {
   "cell_type": "code",
   "execution_count": 128,
   "id": "8026d21c",
   "metadata": {
    "ExecuteTime": {
     "end_time": "2023-06-29T23:58:36.091895Z",
     "start_time": "2023-06-29T23:58:36.078306Z"
    }
   },
   "outputs": [
    {
     "name": "stdout",
     "output_type": "stream",
     "text": [
      "1\n",
      "3\n",
      "5\n",
      "7\n",
      "9\n"
     ]
    }
   ],
   "source": [
    "# Mais uma forma de usar o for - percorrer cada item da lista\n",
    "\n",
    "numeros = [1, 3, 5, 7, 9]\n",
    "\n",
    "for item in numeros:\n",
    "    print(item)"
   ]
  },
  {
   "cell_type": "markdown",
   "id": "efb6b72d",
   "metadata": {},
   "source": [
    "**Exercícios**"
   ]
  },
  {
   "cell_type": "markdown",
   "id": "80de8ffc",
   "metadata": {},
   "source": [
    "1. Crie uma lista qualquer e faça um programa que imprima cada elemento da lista usando o for."
   ]
  },
  {
   "cell_type": "code",
   "execution_count": 130,
   "id": "4afe9330",
   "metadata": {
    "ExecuteTime": {
     "end_time": "2023-06-30T00:28:06.089625Z",
     "start_time": "2023-06-30T00:28:06.070133Z"
    }
   },
   "outputs": [
    {
     "name": "stdout",
     "output_type": "stream",
     "text": [
      "a\n",
      "b\n",
      "c\n",
      "d\n"
     ]
    }
   ],
   "source": [
    "lista01 = ['a', 'b', 'c', 'd']\n",
    "\n",
    "for item in lista01:\n",
    "    print(item)"
   ]
  },
  {
   "cell_type": "code",
   "execution_count": 132,
   "id": "db91686b",
   "metadata": {
    "ExecuteTime": {
     "end_time": "2023-06-30T00:29:01.575343Z",
     "start_time": "2023-06-30T00:29:01.569330Z"
    }
   },
   "outputs": [
    {
     "name": "stdout",
     "output_type": "stream",
     "text": [
      "a\n",
      "b\n",
      "c\n",
      "d\n"
     ]
    }
   ],
   "source": [
    "lista01 = ['a', 'b', 'c', 'd']\n",
    "\n",
    "for i in range(len(lista01)):\n",
    "    print(lista01[i])"
   ]
  },
  {
   "cell_type": "code",
   "execution_count": 133,
   "id": "c045c4ec",
   "metadata": {
    "ExecuteTime": {
     "end_time": "2023-06-30T00:30:28.135037Z",
     "start_time": "2023-06-30T00:30:28.126561Z"
    }
   },
   "outputs": [
    {
     "name": "stdout",
     "output_type": "stream",
     "text": [
      "Bruno\n",
      "Luis\n",
      "Natalia\n",
      "Andreza\n",
      "Guilherme\n"
     ]
    }
   ],
   "source": [
    "# criar uma lista de alunos\n",
    "\n",
    "alunos =['Bruno', 'Luis', 'Natalia', 'Andreza', 'Guilherme']\n",
    "\n",
    "# para cada aluno na lista alunos...\n",
    "for aluno in alunos:\n",
    "    \n",
    "    # imprime o nome do aluno\n",
    "    print(aluno)"
   ]
  },
  {
   "cell_type": "markdown",
   "id": "5ba15420",
   "metadata": {},
   "source": [
    "2. Faça um programa que imprima todos os itens de uma lista usando while e compare com o exercício 1.\n",
    "\n"
   ]
  },
  {
   "cell_type": "code",
   "execution_count": 134,
   "id": "7e410b03",
   "metadata": {
    "ExecuteTime": {
     "end_time": "2023-06-30T00:32:38.591587Z",
     "start_time": "2023-06-30T00:32:38.581504Z"
    }
   },
   "outputs": [
    {
     "name": "stdout",
     "output_type": "stream",
     "text": [
      "Item: a\n",
      "Item: b\n",
      "Item: c\n",
      "Item: d\n"
     ]
    }
   ],
   "source": [
    "lista01 = ['a', 'b', 'c', 'd']\n",
    "indice = 0\n",
    "\n",
    "while indice < len(lista01):\n",
    "    print(f\"Item: {lista01[indice]}\")\n",
    "    indice +=1\n"
   ]
  },
  {
   "cell_type": "markdown",
   "id": "b8fc8680",
   "metadata": {},
   "source": [
    "3) Faça um programa que peça para o usuário digitar um número n e imprima uma lista com todos os números de 0 a n-1."
   ]
  },
  {
   "cell_type": "code",
   "execution_count": 136,
   "id": "e4c19751",
   "metadata": {
    "ExecuteTime": {
     "end_time": "2023-06-30T00:36:12.335746Z",
     "start_time": "2023-06-30T00:36:10.254113Z"
    }
   },
   "outputs": [
    {
     "name": "stdout",
     "output_type": "stream",
     "text": [
      "n = 6\n",
      "[0, 1, 2, 3, 4, 5]\n"
     ]
    }
   ],
   "source": [
    "n = int(input(\"n = \"))\n",
    "\n",
    "lista = list(range(n))\n",
    "\n",
    "print(lista)"
   ]
  },
  {
   "cell_type": "code",
   "execution_count": 137,
   "id": "68004d4f",
   "metadata": {
    "ExecuteTime": {
     "end_time": "2023-06-30T00:37:33.286644Z",
     "start_time": "2023-06-30T00:37:31.718426Z"
    }
   },
   "outputs": [
    {
     "name": "stdout",
     "output_type": "stream",
     "text": [
      "n = 6\n",
      "[0, 1, 2, 3, 4, 5]\n"
     ]
    }
   ],
   "source": [
    "n = int(input(\"n = \"))\n",
    "\n",
    "lista = []\n",
    "\n",
    "for i in range(n):\n",
    "    lista.append(i)\n",
    "    \n",
    "print(lista)\n",
    "    "
   ]
  },
  {
   "cell_type": "code",
   "execution_count": 138,
   "id": "56ddb966",
   "metadata": {
    "ExecuteTime": {
     "end_time": "2023-06-30T00:37:54.324393Z",
     "start_time": "2023-06-30T00:37:52.698680Z"
    }
   },
   "outputs": [
    {
     "name": "stdout",
     "output_type": "stream",
     "text": [
      "n = 6\n",
      "[0, 1, 2, 3, 4, 5]\n"
     ]
    }
   ],
   "source": [
    "# Cria uma lista vazia\n",
    "lista = []\n",
    "\n",
    "# Pede o valor de n para o usuário\n",
    "n = int(input(\"n = \"))\n",
    "\n",
    "# Para cara número no intervalo (0, n-1)...\n",
    "for numero in range(n):\n",
    "\n",
    "    # ...adiciona o número à lista\n",
    "    lista.append(numero)\n",
    "\n",
    "# Imprime a lista\n",
    "print(lista)"
   ]
  },
  {
   "cell_type": "markdown",
   "id": "2a24e132",
   "metadata": {},
   "source": [
    "4. Faça um programa que olhe todos os itens de uma lista e diga quantos deles são pares. "
   ]
  },
  {
   "cell_type": "code",
   "execution_count": 140,
   "id": "167af989",
   "metadata": {
    "ExecuteTime": {
     "end_time": "2023-06-30T00:40:26.677401Z",
     "start_time": "2023-06-30T00:40:26.667897Z"
    }
   },
   "outputs": [
    {
     "name": "stdout",
     "output_type": "stream",
     "text": [
      "5\n"
     ]
    }
   ],
   "source": [
    "numeros = [1, 2, 3, 4, 5, 6, 7, 8, 9, 10]\n",
    "pares = 0\n",
    "\n",
    "for elemento in numeros:\n",
    "    if elemento % 2 == 0:\n",
    "        pares += 1\n",
    "\n",
    "print(pares)"
   ]
  },
  {
   "cell_type": "code",
   "execution_count": 142,
   "id": "b7c5e7eb",
   "metadata": {
    "ExecuteTime": {
     "end_time": "2023-06-30T00:42:50.875811Z",
     "start_time": "2023-06-30T00:42:50.847667Z"
    }
   },
   "outputs": [
    {
     "name": "stdout",
     "output_type": "stream",
     "text": [
      "Existem 5 números pares na sua lista\n",
      "[4, 6, 8, 10, 12]\n"
     ]
    }
   ],
   "source": [
    "# quais deles são pares\n",
    "lista = [1, 3, 4, 5, 6, 7, 8, 9, 10, 12]\n",
    "pares = []\n",
    "\n",
    "for elemento in lista:\n",
    "    if elemento % 2 == 0:\n",
    "        pares.append(elemento)\n",
    "\n",
    "print(f\"Existem {len(pares)} números pares na sua lista\")\n",
    "print(pares)"
   ]
  },
  {
   "cell_type": "markdown",
   "id": "d18b5e09",
   "metadata": {},
   "source": [
    "5. Faça um programa que imprima o maior número de uma lista, sem usar o método max()"
   ]
  },
  {
   "cell_type": "code",
   "execution_count": 144,
   "id": "9fca7730",
   "metadata": {
    "ExecuteTime": {
     "end_time": "2023-06-30T00:43:38.103964Z",
     "start_time": "2023-06-30T00:43:38.087649Z"
    }
   },
   "outputs": [
    {
     "data": {
      "text/plain": [
       "12"
      ]
     },
     "execution_count": 144,
     "metadata": {},
     "output_type": "execute_result"
    }
   ],
   "source": [
    "lista = [1, 3, 4, 5, 6, 7, 8, 9, 10, 12]\n",
    "\n",
    "max(lista)"
   ]
  },
  {
   "cell_type": "code",
   "execution_count": 148,
   "id": "397a3869",
   "metadata": {
    "ExecuteTime": {
     "end_time": "2023-06-30T00:44:52.164241Z",
     "start_time": "2023-06-30T00:44:52.141961Z"
    }
   },
   "outputs": [
    {
     "data": {
      "text/plain": [
       "12"
      ]
     },
     "execution_count": 148,
     "metadata": {},
     "output_type": "execute_result"
    }
   ],
   "source": [
    "lista = [12, 3, 4, 5, 6, 7, 8, 9, 10, 1]\n",
    "\n",
    "sorted(lista)[-1]"
   ]
  },
  {
   "cell_type": "code",
   "execution_count": 149,
   "id": "b2de34f2",
   "metadata": {
    "ExecuteTime": {
     "end_time": "2023-06-30T00:47:07.551587Z",
     "start_time": "2023-06-30T00:47:07.534567Z"
    }
   },
   "outputs": [
    {
     "name": "stdout",
     "output_type": "stream",
     "text": [
      "O maior elemento da lista é 12\n"
     ]
    }
   ],
   "source": [
    "lista = [1, 4, -8, 12, 3, -5, 2, -14, 6]\n",
    "maior = lista[0]\n",
    "\n",
    "for elemento in lista:\n",
    "    if elemento > maior:\n",
    "        maior = elemento\n",
    "print(\"O maior elemento da lista é\", maior)"
   ]
  },
  {
   "cell_type": "markdown",
   "id": "de77429c",
   "metadata": {},
   "source": [
    "6. Agora usando o método max() faça um programa que imprima os três maiores números de uma lista. "
   ]
  },
  {
   "cell_type": "code",
   "execution_count": 150,
   "id": "b7811538",
   "metadata": {
    "ExecuteTime": {
     "end_time": "2023-06-30T00:49:02.203695Z",
     "start_time": "2023-06-30T00:49:02.189583Z"
    }
   },
   "outputs": [
    {
     "name": "stdout",
     "output_type": "stream",
     "text": [
      "12\n",
      "6\n",
      "4\n"
     ]
    }
   ],
   "source": [
    "lista = [1, 4, -8, 12, 3, -5, 2, -14, 6]\n",
    "\n",
    "for i in range(3):\n",
    "    maior_numero = max(lista)\n",
    "    print(maior_numero)\n",
    "    lista.remove(maior_numero) # removo o maior da lista para pegar o segundo maior"
   ]
  },
  {
   "cell_type": "markdown",
   "id": "805a40b8",
   "metadata": {},
   "source": [
    "7. Faça um programa que, dadas duas listas de mesmo tamanho, crie uma nova lista com cada elemento igual a soma dos elementos da lista 1 com os da lista 2, na mesma posição. "
   ]
  },
  {
   "cell_type": "code",
   "execution_count": 159,
   "id": "6819a3bd",
   "metadata": {
    "ExecuteTime": {
     "end_time": "2023-06-30T01:01:48.670088Z",
     "start_time": "2023-06-30T01:01:48.649865Z"
    }
   },
   "outputs": [
    {
     "name": "stdout",
     "output_type": "stream",
     "text": [
      "[3, 6, 8]\n"
     ]
    }
   ],
   "source": [
    "lista1 = [1,4,5]\n",
    "lista2 = [2,2,3]\n",
    "lista3 = []\n",
    "\n",
    "if len(lista1) != len(lista2):\n",
    "    print(\"As listas tem tamanhos diferentes!\")\n",
    "else:\n",
    "    for i in range(len(lista1)):\n",
    "        valor = lista1[i] + lista2[i]\n",
    "        lista3.append(valor)\n",
    "    print(lista3)"
   ]
  },
  {
   "cell_type": "markdown",
   "id": "d2ee0a79",
   "metadata": {},
   "source": [
    "8. Faça um programa que dadas duas listas de mesmo tamanho, imprima o produto escalar entre elas. "
   ]
  },
  {
   "cell_type": "code",
   "execution_count": 151,
   "id": "ccfcd767",
   "metadata": {
    "ExecuteTime": {
     "end_time": "2023-06-30T00:55:17.103825Z",
     "start_time": "2023-06-30T00:55:17.078094Z"
    }
   },
   "outputs": [
    {
     "name": "stdout",
     "output_type": "stream",
     "text": [
      "25\n"
     ]
    }
   ],
   "source": [
    "lista1 = [1, 4, 5]\n",
    "lista2 = [2, 2, 3]\n",
    "soma = 0\n",
    "\n",
    "for i in range(len(lista1)):\n",
    "    soma = soma + lista1[i]*lista2[i]\n",
    "print(soma)"
   ]
  },
  {
   "cell_type": "markdown",
   "id": "551c234e",
   "metadata": {},
   "source": [
    "9. Faça um programa que pede para o usuário digitar 5 números e, ao final, imprime uma lista com os 5 números digitados pelo usuário (sem converter os números para int ou float). "
   ]
  },
  {
   "cell_type": "code",
   "execution_count": 155,
   "id": "1083f943",
   "metadata": {
    "ExecuteTime": {
     "end_time": "2023-06-30T00:58:14.308593Z",
     "start_time": "2023-06-30T00:58:02.724853Z"
    }
   },
   "outputs": [
    {
     "name": "stdout",
     "output_type": "stream",
     "text": [
      "Digite um número: 5\n",
      "Digite um número: 6\n",
      "Digite um número: 7\n",
      "Digite um número: 3\n",
      "Digite um número: 2.5\n",
      "['5', '6', '7', '3', '2.5']\n"
     ]
    }
   ],
   "source": [
    "lista = []\n",
    "for i in range(5):\n",
    "    num = input(\"Digite um número: \")\n",
    "    lista.append(num)\n",
    "print(lista)"
   ]
  },
  {
   "cell_type": "markdown",
   "id": "437b4b02",
   "metadata": {},
   "source": [
    "10. Pegue a lista gerada no exercício anterior e transforme cada um dos itens dessa lista em um float."
   ]
  },
  {
   "cell_type": "code",
   "execution_count": 154,
   "id": "ac33840d",
   "metadata": {
    "ExecuteTime": {
     "end_time": "2023-06-30T00:57:02.197028Z",
     "start_time": "2023-06-30T00:57:02.178601Z"
    }
   },
   "outputs": [
    {
     "name": "stdout",
     "output_type": "stream",
     "text": [
      "[5.0, 6.0, 7.0, 3.0, 2.5]\n"
     ]
    }
   ],
   "source": [
    "for i in range(len(lista)):\n",
    "    lista[i] = float(lista[i])\n",
    "    \n",
    "print(lista)"
   ]
  },
  {
   "cell_type": "code",
   "execution_count": 157,
   "id": "8c31450c",
   "metadata": {
    "ExecuteTime": {
     "end_time": "2023-06-30T00:59:44.028566Z",
     "start_time": "2023-06-30T00:59:44.008261Z"
    }
   },
   "outputs": [
    {
     "name": "stdout",
     "output_type": "stream",
     "text": [
      "[5.0, 6.0, 7.0, 3.0, 2.5]\n"
     ]
    }
   ],
   "source": [
    "lista_nova = []\n",
    "for item in lista:\n",
    "    lista_nova.append(float(item))\n",
    "\n",
    "print(lista_nova)"
   ]
  },
  {
   "cell_type": "markdown",
   "id": "1f274ced",
   "metadata": {},
   "source": [
    "11. Faça um Programa que peça as 4 notas bimestrais e mostre a média, usando listas."
   ]
  },
  {
   "cell_type": "code",
   "execution_count": 158,
   "id": "7211dfca",
   "metadata": {
    "ExecuteTime": {
     "end_time": "2023-06-30T01:00:21.646709Z",
     "start_time": "2023-06-30T01:00:14.613647Z"
    }
   },
   "outputs": [
    {
     "name": "stdout",
     "output_type": "stream",
     "text": [
      "Digite a nota: 7\n",
      "Digite a nota: 8\n",
      "Digite a nota: 7.5\n",
      "Digite a nota: 6\n",
      "7.125\n"
     ]
    }
   ],
   "source": [
    "lista = []\n",
    "\n",
    "for i in range(4):\n",
    "    nota = float(input(\"Digite a nota: \"))\n",
    "    lista.append(nota)\n",
    "print(sum(lista) / len(lista))"
   ]
  },
  {
   "cell_type": "code",
   "execution_count": null,
   "id": "0beeca4f",
   "metadata": {},
   "outputs": [],
   "source": []
  }
 ],
 "metadata": {
  "kernelspec": {
   "display_name": "Python 3 (ipykernel)",
   "language": "python",
   "name": "python3"
  },
  "language_info": {
   "codemirror_mode": {
    "name": "ipython",
    "version": 3
   },
   "file_extension": ".py",
   "mimetype": "text/x-python",
   "name": "python",
   "nbconvert_exporter": "python",
   "pygments_lexer": "ipython3",
   "version": "3.9.6"
  },
  "varInspector": {
   "cols": {
    "lenName": 16,
    "lenType": 16,
    "lenVar": 40
   },
   "kernels_config": {
    "python": {
     "delete_cmd_postfix": "",
     "delete_cmd_prefix": "del ",
     "library": "var_list.py",
     "varRefreshCmd": "print(var_dic_list())"
    },
    "r": {
     "delete_cmd_postfix": ") ",
     "delete_cmd_prefix": "rm(",
     "library": "var_list.r",
     "varRefreshCmd": "cat(var_dic_list()) "
    }
   },
   "types_to_exclude": [
    "module",
    "function",
    "builtin_function_or_method",
    "instance",
    "_Feature"
   ],
   "window_display": false
  }
 },
 "nbformat": 4,
 "nbformat_minor": 5
}
