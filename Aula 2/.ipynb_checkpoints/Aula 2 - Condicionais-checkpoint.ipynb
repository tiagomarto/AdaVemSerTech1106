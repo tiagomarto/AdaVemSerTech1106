{
 "cells": [
  {
   "cell_type": "markdown",
   "id": "e8b9ddc4",
   "metadata": {},
   "source": [
    "## Operadores de Comparação  / Operadores Relacional\n",
    "Os operadores de comparação são aqueles que possuem o objetivo de analisar os valores de uma expressão e retornar um valor booleano, ou seja, verdadeiro (1) ou falso (0).\n",
    "\n",
    "**Operadores de comparação**\n",
    "\n",
    "|     Operador    |           Nome          |     Função                                              |\n",
    "|:---------------:|:-----------------------:|---------------------------------------------------------|\n",
    "|        ==       |         Igual   a       |     Verifica   se um valor é igual ao outro             |\n",
    "|        !=       |      Diferente   de     |     Verifica   se um valor é diferente ao outro         |\n",
    "|         >       |        Maior   que      |     Verifica   se um valor é maior que outro            |\n",
    "|        >=       |     Maior   ou igual    |     Verifica   se um valor é maior ou igual ao outro    |\n",
    "|         <       |        Menor   que      |     Verifica   se um valor é menor que outro            |\n",
    "|        <=       |     Menor   ou igual    |     Verifica   se um valor é menor ou igual ao outro    |"
   ]
  },
  {
   "cell_type": "code",
   "execution_count": 1,
   "id": "4c8de30b",
   "metadata": {},
   "outputs": [
    {
     "data": {
      "text/plain": [
       "True"
      ]
     },
     "execution_count": 1,
     "metadata": {},
     "output_type": "execute_result"
    }
   ],
   "source": [
    "'aaaa' < 'bbb'"
   ]
  },
  {
   "cell_type": "code",
   "execution_count": 2,
   "id": "07812fc4",
   "metadata": {},
   "outputs": [],
   "source": [
    "import datetime\n",
    "\n",
    "agora = datetime.datetime.now()"
   ]
  },
  {
   "cell_type": "code",
   "execution_count": 3,
   "id": "26c2fb40",
   "metadata": {},
   "outputs": [],
   "source": [
    "agora_um_pouco_dps = datetime.datetime.now()"
   ]
  },
  {
   "cell_type": "code",
   "execution_count": 9,
   "id": "956c55b5",
   "metadata": {},
   "outputs": [],
   "source": [
    "!pip install pandas ## pip -> Gerenciador de bibliotecas do python"
   ]
  },
  {
   "cell_type": "code",
   "execution_count": 10,
   "id": "937c978e",
   "metadata": {},
   "outputs": [
    {
     "name": "stdout",
     "output_type": "stream",
     "text": [
      "2023-10-09 20:08:52.523665\n",
      "2023-10-09 20:09:00.938912\n",
      "True\n"
     ]
    }
   ],
   "source": [
    "print(agora)\n",
    "print(agora_um_pouco_dps)\n",
    "print(agora < agora_um_pouco_dps)"
   ]
  },
  {
   "cell_type": "code",
   "execution_count": 11,
   "id": "08a91d3f",
   "metadata": {},
   "outputs": [
    {
     "name": "stdout",
     "output_type": "stream",
     "text": [
      "True\n"
     ]
    }
   ],
   "source": [
    "print(1 < 2.4) ## É possível comparar 2 tipos diferentes"
   ]
  },
  {
   "cell_type": "code",
   "execution_count": 27,
   "id": "9cc34ff3",
   "metadata": {},
   "outputs": [
    {
     "name": "stdout",
     "output_type": "stream",
     "text": [
      "Digite sua idade: 11\n",
      "Obrigado por participar\n"
     ]
    }
   ],
   "source": [
    "## Escreva um programa que verifica se uma pessoa é maior de idade\n",
    "\n",
    "idade = int(input('Digite sua idade: '))\n",
    "if idade >= 18:\n",
    "    print('Você é maior')\n",
    "print('Obrigado por participar')"
   ]
  },
  {
   "cell_type": "code",
   "execution_count": 29,
   "id": "ad1b272b",
   "metadata": {},
   "outputs": [
    {
     "data": {
      "text/plain": [
       "11"
      ]
     },
     "execution_count": 29,
     "metadata": {},
     "output_type": "execute_result"
    }
   ],
   "source": [
    "idade"
   ]
  },
  {
   "cell_type": "code",
   "execution_count": 26,
   "id": "bc38ae39",
   "metadata": {},
   "outputs": [
    {
     "name": "stdout",
     "output_type": "stream",
     "text": [
      "Aqui\n"
     ]
    }
   ],
   "source": [
    "if(True):\n",
    "    print('Aqui')"
   ]
  },
  {
   "cell_type": "code",
   "execution_count": 38,
   "id": "8e50ef74",
   "metadata": {},
   "outputs": [
    {
     "name": "stdout",
     "output_type": "stream",
     "text": [
      "Digite sua idade: 20\n",
      "Você aceita uma cerveja?Sim\n",
      "<built-in method lower of str object at 0x000001C4CDC569B0>\n",
      "Tem refri também\n",
      "Obrigado por participar\n"
     ]
    }
   ],
   "source": [
    "## Escreva um programa que verifica se uma pessoa é maior de idade e se for, oferecer uma cerveja\n",
    "\n",
    "idade = int(input('Digite sua idade: '))\n",
    "if idade >= 18:\n",
    "    resposta = input('Você aceita uma cerveja?').lower()\n",
    "    print(resposta)\n",
    "    if (resposta == 'sim'):\n",
    "        print('Pode pegar na geladeira')\n",
    "    else: ## O else sempre é para condições exclusivas\n",
    "        print('Tem refri também')\n",
    "print('Obrigado por participar')"
   ]
  },
  {
   "cell_type": "code",
   "execution_count": 40,
   "id": "5557bde1",
   "metadata": {},
   "outputs": [
    {
     "name": "stdout",
     "output_type": "stream",
     "text": [
      "Digite sua idade: 20\n",
      "Você aceita uma cerveja?sim\n",
      "sim\n",
      "Pode pegar na geladeira\n"
     ]
    }
   ],
   "source": [
    "## Escreva um programa que verifica se uma pessoa é maior de idade e se for, oferecer uma cerveja\n",
    "\n",
    "idade = int(input('Digite sua idade: '))\n",
    "if idade >= 18:\n",
    "    resposta = input('Você aceita uma cerveja?').lower()\n",
    "    print(resposta)\n",
    "    if (resposta == 'sim'):\n",
    "        print('Pode pegar na geladeira')\n",
    "    else: ## O else sempre é para condições exclusivas\n",
    "        print('Tem refri também')\n",
    "else:\n",
    "    print('Você não tem idade para beber')"
   ]
  },
  {
   "cell_type": "code",
   "execution_count": 44,
   "id": "93e13b0c",
   "metadata": {},
   "outputs": [
    {
     "name": "stdout",
     "output_type": "stream",
     "text": [
      "Digite a nota 1: 10\n",
      "Digite a nota 2: 10\n",
      "Aprovado\n"
     ]
    }
   ],
   "source": [
    "## Escreva um programa que recebe 2 notas, faz a media e verifica se a pessoa passou de ano\n",
    "## está de recuperação ou reprovou, a media para passar é 7 e para recuperação 5.\n",
    "\n",
    "nota_1 = float(input('Digite a nota 1: '))\n",
    "nota_2 = float(input('Digite a nota 2: '))\n",
    "\n",
    "media = (nota_1 + nota_2) /2\n",
    "\n",
    "if(media >= 7):\n",
    "    print('Aprovado')\n",
    "elif(media >= 5):\n",
    "    print('Recuperação')\n",
    "elif(media >= 9): ## Nunca roda\n",
    "    print('Melhor notao do mundo')\n",
    "else:\n",
    "    print('Reprovado')\n",
    "# else:\n",
    "#     if(media >= 5):\n",
    "#         print('Recuperação')\n",
    "#     else:\n",
    "#         print('Reprovado')"
   ]
  },
  {
   "cell_type": "code",
   "execution_count": 46,
   "id": "9f1ca5d5",
   "metadata": {},
   "outputs": [
    {
     "name": "stdout",
     "output_type": "stream",
     "text": [
      "Digite a nota 1: 10\n",
      "Digite a nota 2: 10\n",
      "Melhor notao do mundo\n"
     ]
    }
   ],
   "source": [
    "nota_1 = float(input('Digite a nota 1: '))\n",
    "nota_2 = float(input('Digite a nota 2: '))\n",
    "\n",
    "media = (nota_1 + nota_2) /2\n",
    "\n",
    "if(media >= 9):\n",
    "    print('Melhor notao do mundo')\n",
    "elif(media >= 7):\n",
    "    print('Aprovado')\n",
    "elif(media >= 5):\n",
    "    print('Recuperação')\n",
    "else:\n",
    "    print('Reprovado')"
   ]
  },
  {
   "cell_type": "markdown",
   "id": "a85abe6c",
   "metadata": {},
   "source": [
    "## Operadores lógicos\n",
    "\n",
    "**Operadores lógicos**\n",
    "\n",
    "|     Operador    |                            Definição                           |     Operação    |\n",
    "|:---------------:|:--------------------------------------------------------------:|:---------------:|\n",
    "|        and      |     Retorna   True se ambas as afirmações forem verdadeiras    |         e       |\n",
    "|        or       |       Retorna   True se uma das afirmações for verdadeira      |        ou       |\n",
    "|        not      |          retorna   Falso se o resultado for verdadeiro         |        não      |\n",
    "\n",
    "\n",
    "**AND** é uma conjunção lógica e o **OR** é uma disjunção lógica. O **not** é a negação lógica.\n",
    "\n",
    "| *A*   | *B*   | *A and B* | *A or B* | *not A* |\n",
    "|-------|-------|-----------|----------|---------|\n",
    "| False | False | False     | False    | True    |\n",
    "| False | True  | False     | True     | True    |\n",
    "| True  | False | False     | True     | False   |\n",
    "| True  | True  | True      | True     | False   |\n",
    "\n",
    "\n",
    "Será que conseguimos escrever o problema acima de uma forma mais fácil?\n"
   ]
  },
  {
   "cell_type": "code",
   "execution_count": 47,
   "id": "3a1b11fa",
   "metadata": {},
   "outputs": [],
   "source": [
    "## Operadores logicos são operadores que transformam Booleanso"
   ]
  },
  {
   "cell_type": "code",
   "execution_count": 52,
   "id": "d3a93a6d",
   "metadata": {},
   "outputs": [
    {
     "data": {
      "text/plain": [
       "True"
      ]
     },
     "execution_count": 52,
     "metadata": {},
     "output_type": "execute_result"
    }
   ],
   "source": [
    "True or False"
   ]
  },
  {
   "cell_type": "code",
   "execution_count": 53,
   "id": "a92225be",
   "metadata": {},
   "outputs": [
    {
     "name": "stdout",
     "output_type": "stream",
     "text": [
      "Digite a primeira nota: 10\n",
      "Digite a segunda nota: 7\n",
      "Digite a presenca (entre 0 e 1): 0.65\n",
      "Reprovado\n",
      "\n",
      "\n",
      "A média é 8.5 e a presenca é 65.0\n"
     ]
    }
   ],
   "source": [
    "## Duas notas e ve se passou, se nao tiver 75% de frequencia também não passa\n",
    "\n",
    "nota_1 = float(input('Digite a primeira nota: '))\n",
    "nota_2 = float(input('Digite a segunda nota: '))\n",
    "\n",
    "presenca = float(input('Digite a presenca (entre 0 e 1): '))\n",
    "\n",
    "media = (nota_1 + nota_2) / 2\n",
    "\n",
    "if (media >= 7) and (presenca >= 0.75):\n",
    "    print('Aprovado')\n",
    "else:\n",
    "    print('Reprovado')\n",
    "    \n",
    "print('\\n')\n",
    "print(f'A média é {media} e a presenca é {100 * presenca}')\n"
   ]
  },
  {
   "cell_type": "code",
   "execution_count": 56,
   "id": "5d0f5a11",
   "metadata": {},
   "outputs": [
    {
     "data": {
      "text/plain": [
       "False"
      ]
     },
     "execution_count": 56,
     "metadata": {},
     "output_type": "execute_result"
    }
   ],
   "source": [
    "(media >= 7) and (presenca >= 0.75)"
   ]
  }
 ],
 "metadata": {
  "kernelspec": {
   "display_name": "Python 3 (ipykernel)",
   "language": "python",
   "name": "python3"
  },
  "language_info": {
   "codemirror_mode": {
    "name": "ipython",
    "version": 3
   },
   "file_extension": ".py",
   "mimetype": "text/x-python",
   "name": "python",
   "nbconvert_exporter": "python",
   "pygments_lexer": "ipython3",
   "version": "3.9.6"
  }
 },
 "nbformat": 4,
 "nbformat_minor": 5
}
